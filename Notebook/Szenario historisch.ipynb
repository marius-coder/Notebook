{
 "cells": [
  {
   "cell_type": "markdown",
   "metadata": {
    "toc": true
   },
   "source": [
    "<h1>Table of Contents<span class=\"tocSkip\"></span></h1>\n",
    "<div class=\"toc\"><ul class=\"toc-item\"><li><span><a href=\"#TO-DO\" data-toc-modified-id=\"TO-DO-1\"><span class=\"toc-item-num\">1&nbsp;&nbsp;</span>TO-DO</a></span></li><li><span><a href=\"#Fragen\" data-toc-modified-id=\"Fragen-2\"><span class=\"toc-item-num\">2&nbsp;&nbsp;</span>Fragen</a></span></li><li><span><a href=\"#Datenlücken\" data-toc-modified-id=\"Datenlücken-3\"><span class=\"toc-item-num\">3&nbsp;&nbsp;</span>Datenlücken</a></span></li><li><span><a href=\"#Jährliche-Stromdaten\" data-toc-modified-id=\"Jährliche-Stromdaten-4\"><span class=\"toc-item-num\">4&nbsp;&nbsp;</span>Jährliche Stromdaten</a></span></li><li><span><a href=\"#Strommix\" data-toc-modified-id=\"Strommix-5\"><span class=\"toc-item-num\">5&nbsp;&nbsp;</span>Strommix</a></span></li><li><span><a href=\"#Primärenergie\" data-toc-modified-id=\"Primärenergie-6\"><span class=\"toc-item-num\">6&nbsp;&nbsp;</span>Primärenergie</a></span></li><li><span><a href=\"#CO2-Emissionen\" data-toc-modified-id=\"CO2-Emissionen-7\"><span class=\"toc-item-num\">7&nbsp;&nbsp;</span>CO2 Emissionen</a></span></li><li><span><a href=\"#Stromimporte\" data-toc-modified-id=\"Stromimporte-8\"><span class=\"toc-item-num\">8&nbsp;&nbsp;</span>Stromimporte</a></span></li></ul></div>"
   ]
  },
  {
   "cell_type": "code",
   "execution_count": 1,
   "metadata": {
    "ExecuteTime": {
     "end_time": "2021-01-15T10:36:19.054542Z",
     "start_time": "2021-01-15T10:36:19.044516Z"
    },
    "hide_input": false
   },
   "outputs": [
    {
     "data": {
      "text/plain": [
       "'C:\\\\Users\\\\Marius\\\\Desktop\\\\Spezi\\\\Notebook'"
      ]
     },
     "execution_count": 1,
     "metadata": {},
     "output_type": "execute_result"
    }
   ],
   "source": [
    "%pwd"
   ]
  },
  {
   "cell_type": "code",
   "execution_count": 2,
   "metadata": {
    "ExecuteTime": {
     "end_time": "2021-01-15T10:36:19.063517Z",
     "start_time": "2021-01-15T10:36:19.056536Z"
    }
   },
   "outputs": [],
   "source": [
    "#!jt -t chesterish -T -N -kl  \n",
    "\n",
    "\n",
    "#!jt -l"
   ]
  },
  {
   "cell_type": "markdown",
   "metadata": {},
   "source": [
    "# TO-DO\n",
    "- Fixnanvalues ändern damit carbon_intensity_discharge_avg und carbon_intensity_import_avg nicht interpoliert werden\n",
    "- Grafiken der historischen Daten\n",
    "Darstellen wo sind die Lücken(jahre, anzahl datzenpunkte)\n",
    "Entscheidung daten ausschlißen oder interpolieren\n",
    "Carpetplot (Y: Stunden , X: tage, Wo sind die Löcher?)\n",
    "\n",
    "- Endenergie mit Primärenergie vergleichen\n",
    "- Imports genauer anschaune (Nach monat plotten)\n",
    "- LIteratur komplett (Elec-Map,  was meint OIb mit CO2 inte, was meint ELec)(Wie wurden diese Daten erhoben)\n",
    "- Literartur in Österreich\n",
    "- Historische Analyse soweit fertig\n",
    "- Methode bis skalierung\n",
    "- Recherche für Verbrauch\n",
    "- Abgabe als Word\n",
    "- 26.11 9 Uhr \n",
    "\n",
    "# Fragen\n",
    "- 70% Abgabe als notebook?\n",
    "Als Text\n",
    "- CO2/strommix werte von Importstrom auch anpassen?\n",
    "Auch im StateoftheArt für wichtigste importeuer beschrieben\n",
    "- Kopierte Funktionen (Urheberrecht?)\n",
    "Für mich sollte kein Problem sein ()\n",
    "- Kommentare/Variablennamen auf deutsch(konsistenz mit geschriebener sprache)\n",
    "Egal aber konsistent\n",
    "Grafiken auf jeden Fall auf Deutsch\n",
    "\n",
    "\n"
   ]
  },
  {
   "cell_type": "code",
   "execution_count": 3,
   "metadata": {
    "ExecuteTime": {
     "end_time": "2021-01-15T10:36:19.489888Z",
     "start_time": "2021-01-15T10:36:19.067508Z"
    }
   },
   "outputs": [],
   "source": [
    "%matplotlib inline\n",
    "%matplotlib widget"
   ]
  },
  {
   "cell_type": "code",
   "execution_count": null,
   "metadata": {},
   "outputs": [],
   "source": []
  },
  {
   "cell_type": "code",
   "execution_count": 4,
   "metadata": {
    "ExecuteTime": {
     "end_time": "2021-01-15T10:36:20.188663Z",
     "start_time": "2021-01-15T10:36:19.491883Z"
    },
    "code_folding": [],
    "hide_input": false,
    "scrolled": true
   },
   "outputs": [
    {
     "data": {
      "text/plain": [
       "'German_Germany.1252'"
      ]
     },
     "execution_count": 4,
     "metadata": {},
     "output_type": "execute_result"
    }
   ],
   "source": [
    "from datetime import datetime \n",
    "import pandas as pd\n",
    "import numpy as np\n",
    "import matplotlib.pyplot as plt\n",
    "import seaborn as sns\n",
    "from datetime import timezone\n",
    "plt.rcParams.update({'figure.max_open_warning': 0})\n",
    "\n",
    "import matplotlib\n",
    "import locale\n",
    "# Set to German locale to get comma decimal separater\n",
    "locale.setlocale(locale.LC_NUMERIC, \"deu_deu\")"
   ]
  },
  {
   "cell_type": "code",
   "execution_count": 5,
   "metadata": {
    "ExecuteTime": {
     "end_time": "2021-01-15T10:36:20.202626Z",
     "start_time": "2021-01-15T10:36:20.190658Z"
    },
    "hide_input": false
   },
   "outputs": [
    {
     "name": "stdout",
     "output_type": "stream",
     "text": [
      "~~~~~~~~~~~~~~~~~~~~~~~~~~~~~~~~~~~~~~~~~~~~~~~~~~ \n",
      "In the current dataframe df_2015 there are several rows with NAN-values \n",
      "This function aims to fix these gaps by calculating a linear slope and extraploating the values (Geradengleichung) \n",
      "Input:  df_2015, 'row of Dataframe','colum of Dataframe' \n",
      "Output:'Fixed Dataframe'\n",
      "~~~~~~~~~~~~~~~~~~~~~~~~~~~~~~~~~~~~~~~~~~~~~~~~~~ \n"
     ]
    }
   ],
   "source": [
    "print(\"~~~~~~~~~~~~~~~~~~~~~~~~~~~~~~~~~~~~~~~~~~~~~~~~~~ \")\n",
    "print(\"In the current dataframe df_2015 there are several rows with NAN-values \")\n",
    "print(\"This function aims to fix these gaps by calculating a linear slope and extraploating the values (Geradengleichung) \")\n",
    "print(\"Input:  df_2015, 'row of Dataframe','colum of Dataframe' \")\n",
    "print(\"Output:'Fixed Dataframe'\")\n",
    "print(\"~~~~~~~~~~~~~~~~~~~~~~~~~~~~~~~~~~~~~~~~~~~~~~~~~~ \")\n",
    "def FixNANValues(column,dfSource):\n",
    "#if datapoint is empty we replace it with the average of the datapoint before and after \n",
    "    row = 0\n",
    "    rowBeg = row \n",
    "    \n",
    "    while row < len(dfSource.index):\n",
    "        if dfSource.iloc[row,column] != dfSource.iloc[row,column]:\n",
    "            rowBeg = row\n",
    "            #Check how many empty datapoints there are\n",
    "            while(dfSource.iloc[row,column] != dfSource.iloc[row,column]):\n",
    "                row += 1\n",
    "            #If Column is completely empty we return prematurely\n",
    "            if len(dfSource.index) == row:\n",
    "                return \n",
    "            slope = (dfSource.iloc[row,column]-dfSource.iloc[rowBeg-1,column])/((row-rowBeg)+1)\n",
    "            while(rowBeg != row):\n",
    "                #Insert interpolated Data into Dataframe\n",
    "                dfSource.iloc[rowBeg,column] = dfSource.iloc[rowBeg-1,column] + slope\n",
    "                rowBeg += 1\n",
    "        row += 1\n",
    "    return   \n",
    "\n",
    "    "
   ]
  },
  {
   "cell_type": "markdown",
   "metadata": {
    "ExecuteTime": {
     "end_time": "2020-11-13T22:21:13.068610Z",
     "start_time": "2020-11-13T22:21:13.047666Z"
    },
    "hide_input": false
   },
   "source": [
    "# Datenlücken"
   ]
  },
  {
   "cell_type": "markdown",
   "metadata": {
    "ExecuteTime": {
     "end_time": "2020-10-28T09:32:36.255321Z",
     "start_time": "2020-10-28T09:32:35.939167Z"
    }
   },
   "source": [
    "Die Daten aus der Electricitymap sind nicht ganz vollstänndig. Mithilfe einer Heatmap wurden diese Datenlücken visualisiert. Es treten in vier monaten Datenlücken, mit einer Größe bis maximal einem Tag, auf. Diese lücken treten spärlich verteilt auf, was eine lineare Interpolation genauer macht. Der schlimmste Fall ist in November 2019, wo ein gesamter Tag nicht aufgezeichnet wurde.\n",
    "\n",
    "\n",
    "REchte Seite in Prozent statt absolut\n",
    "Alle Jahre als band darstellen."
   ]
  },
  {
   "cell_type": "code",
   "execution_count": 6,
   "metadata": {
    "ExecuteTime": {
     "end_time": "2021-01-15T10:36:37.032255Z",
     "start_time": "2021-01-15T10:36:20.204620Z"
    },
    "run_control": {
     "marked": false
    },
    "scrolled": false
   },
   "outputs": [
    {
     "data": {
      "application/vnd.jupyter.widget-view+json": {
       "model_id": "60cfadcc63d14391b206b53ea7e4778c",
       "version_major": 2,
       "version_minor": 0
      },
      "text/plain": [
       "Canvas(toolbar=Toolbar(toolitems=[('Home', 'Reset original view', 'home', 'home'), ('Back', 'Back to previous …"
      ]
     },
     "metadata": {},
     "output_type": "display_data"
    }
   ],
   "source": [
    "fig, ax = plt.subplots(6,2,figsize=(10,12),gridspec_kw={'width_ratios': [2, 1]})\n",
    "\n",
    "IsNaN = pd.DataFrame()\n",
    "\n",
    "li = [\"Mai\",\"Juni\",\"September\",\"November\"]\n",
    "\n",
    "df_2015 = pd.read_csv(\"../Data/Electricity_map_CO2_AT_2015_2017.csv\"\n",
    "                 ,delimiter = ';',parse_dates=[\"datetime\"],index_col=[\"datetime\"])\n",
    "df_IsNaN = pd.DataFrame()\n",
    "df_IsNaN[\"IsNaN\"] = df_2015[\"carbon_intensity_avg\"].isin([np.nan])\n",
    "df_IsNaN = df_IsNaN.transpose() \n",
    "\n",
    "\n",
    "sns.heatmap(df_IsNaN , ax = ax[0][0], cbar = 0 , yticklabels= False, cmap = [\"black\",\"cyan\"])\n",
    "ax[0][0].set_xlabel(\"\")\n",
    "ax[0][0].set_xticks([0,8760,17520,26280])\n",
    "ax[0][0].set_xticklabels([\"2015\",\"2016\",\"2017\",\"2018\"],rotation='horizontal')\n",
    "ax[0][0].set_title(\"2015 - 2018\")\n",
    "\n",
    "df_IsNaN = df_IsNaN.transpose()\n",
    "\n",
    "ax[0][1].pie(df_IsNaN[\"IsNaN\"].value_counts(),  autopct='%1.1f%%',pctdistance = 1.7, radius = 1.3,\n",
    "         startangle=0, colors = [\"black\",\"cyan\"])\n",
    "##############################################################################################\n",
    "df_2018 = pd.read_csv(\"../Data/Electricity_map_CO2_AT_2018_2019.csv\"\n",
    "                 ,delimiter = ';',parse_dates=[\"datetime\"],index_col=[\"datetime\"])\n",
    "df_IsNaN = pd.DataFrame()\n",
    "df_IsNaN[\"IsNaN\"] = df_2018[\"carbon_intensity_avg\"].isin([np.nan])\n",
    "df_IsNaN = df_IsNaN.transpose() \n",
    "\n",
    "\n",
    "sns.heatmap(df_IsNaN , ax = ax[1][0], cbar = 0 , yticklabels= False, cmap = [\"black\",\"cyan\"])\n",
    "ax[1][0].set_xlabel(\"\")\n",
    "ax[1][0].set_xticks([0,8760,17520])\n",
    "ax[1][0].set_xticklabels([\"2018\",\"2019\",\"2020\"],rotation='horizontal')\n",
    "ax[1][0].set_title(\"2018 - 2020\")\n",
    "\n",
    "df_IsNaN = df_IsNaN.transpose()\n",
    "\n",
    "ax[1][1].pie(df_IsNaN[\"IsNaN\"].value_counts(),  autopct='%1.1f%%',pctdistance = 1.7, radius = 1.3,\n",
    "         startangle=0, colors = [\"black\",\"cyan\"])\n",
    "\n",
    "###################################################################################################\n",
    "for i,month in enumerate([5,6],2):\n",
    "    df_2015 = pd.read_csv(\"../Data/Electricity_map_CO2_AT_2015_2017.csv\"\n",
    "                     ,delimiter = ';',parse_dates=[\"datetime\"],index_col=[\"datetime\"])\n",
    "    df_2015 = df_2015[df_2015.index.year == 2016]\n",
    "    df_2015 = df_2015[df_2015.index.month == month]\n",
    "    df_IsNaN = pd.DataFrame()\n",
    "    df_IsNaN[\"IsNaN\"] = df_2015[\"carbon_intensity_avg\"].isin([np.nan])\n",
    "    df_IsNaN = df_IsNaN.transpose() \n",
    "\n",
    "    \n",
    "    sns.heatmap(df_IsNaN , ax = ax[i][0], cbar = 0 , yticklabels= False, cmap = [\"black\",\"cyan\"])\n",
    "    ax[i][0].set_xlabel(\"Woche\")\n",
    "    ax[i][0].set_xticks([0,168,336,504,672])\n",
    "    ax[i][0].set_xticklabels([\"1\",\"2\",\"3\",\"4\",\"5\"],rotation='horizontal')\n",
    "    ax[i][0].set_title( li[i-2] + \" 2016\")\n",
    "    \n",
    "    df_IsNaN = df_IsNaN.transpose()\n",
    "    \n",
    "    ax[i][1].pie(df_IsNaN[\"IsNaN\"].value_counts(),  autopct='%1.1f%%',pctdistance = 1.7, radius = 1.3,\n",
    "         startangle=0, colors = [\"black\",\"cyan\"])\n",
    "\n",
    "    \n",
    "IsNaN = pd.DataFrame()\n",
    "\n",
    "\n",
    "\n",
    "for i,month in enumerate([9,11],4):\n",
    "    df_Temp = pd.read_csv(\"../Data/Electricity_map_CO2_AT_2018_2019.csv\"\n",
    "                     ,delimiter = ';',parse_dates=[\"datetime\"],index_col=[\"datetime\"])\n",
    "    df_Temp = df_Temp[df_Temp.index.year == 2019]\n",
    "    df_Temp = df_Temp[df_Temp.index.month == month]\n",
    "    df_IsNaN = pd.DataFrame()\n",
    "    df_IsNaN[\"IsNaN\"] = df_Temp[\"carbon_intensity_avg\"].isin([np.nan])\n",
    "    df_IsNaN = df_IsNaN.transpose() \n",
    "\n",
    "    sns.heatmap(df_IsNaN , ax = ax[i][0], cbar = 0 , yticklabels= False, cmap = [\"black\",\"cyan\"])\n",
    "    ax[i][0].set_xlabel(\"Woche\")\n",
    "    ax[i][0].set_xticks([0,168,336,504,672])\n",
    "    ax[i][0].set_xticklabels([\"1\",\"2\",\"3\",\"4\",\"5\"],rotation='horizontal')\n",
    "    ax[i][0].set_title( li[i-2] + \" 2019\")\n",
    "    \n",
    "    df_IsNaN = df_IsNaN.transpose()\n",
    "    \n",
    "    \n",
    "    ax[i][1].pie(df_IsNaN[\"IsNaN\"].value_counts(),  autopct='%1.1f%%',pctdistance = 1.7, radius = 1.3,\n",
    "         startangle=0, colors = [\"black\",\"cyan\"])\n",
    "\n",
    "fig.suptitle('Auswertung der Datenlücken', fontsize=20)\n",
    "leg = fig.legend(labels = [\"Daten vorhanden\",\"Datenlücken\"], bbox_to_anchor = [0.74, 0.945],\n",
    "            prop={'size': 14},ncol = 3,facecolor='#f5f5f5', framealpha=1)\n",
    "\n",
    "leg.legendHandles[0].set_color('black')\n",
    "leg.legendHandles[1].set_color('cyan')\n",
    "\n",
    "#Move other axis out of the way\n",
    "pos = ax[0][0].get_position()\n",
    "pos.y0 = 0.98    #height\n",
    "ax[0][0].set_position(pos)   \n",
    "    \n",
    "    \n",
    "plt.tight_layout()\n",
    "plt.savefig(\"../Bilder/Datenlücken\", bbox_inches = 'tight',pad_inches = 0.08)"
   ]
  },
  {
   "cell_type": "code",
   "execution_count": null,
   "metadata": {
    "ExecuteTime": {
     "end_time": "2021-01-13T10:00:58.228718Z",
     "start_time": "2021-01-13T10:00:43.322596Z"
    }
   },
   "outputs": [],
   "source": []
  },
  {
   "cell_type": "code",
   "execution_count": null,
   "metadata": {
    "ExecuteTime": {
     "end_time": "2021-01-13T13:00:31.064218Z",
     "start_time": "2021-01-13T13:00:30.711190Z"
    }
   },
   "outputs": [],
   "source": []
  },
  {
   "cell_type": "code",
   "execution_count": 7,
   "metadata": {
    "ExecuteTime": {
     "end_time": "2021-01-15T10:36:37.045216Z",
     "start_time": "2021-01-15T10:36:37.033296Z"
    }
   },
   "outputs": [
    {
     "name": "stdout",
     "output_type": "stream",
     "text": [
      "<class 'pandas.core.frame.DataFrame'>\n",
      "DatetimeIndex: 720 entries, 2016-06-01 00:00:00+00:00 to 2016-06-30 23:00:00+00:00\n",
      "Data columns (total 18 columns):\n",
      " #   Column                                                                                                                                                                                                                                                                                                                                                                                                                                                                                         Non-Null Count  Dtype  \n",
      "---  ------                                                                                                                                                                                                                                                                                                                                                                                                                                                                                         --------------  -----  \n",
      " 0   local_datetime                                                                                                                                                                                                                                                                                                                                                                                                                                                                                 720 non-null    object \n",
      " 1   total_production_avg                                                                                                                                                                                                                                                                                                                                                                                                                                                                           720 non-null    float64\n",
      " 2   total_consumption_avg                                                                                                                                                                                                                                                                                                                                                                                                                                                                          720 non-null    float64\n",
      " 3   total_import_avg                                                                                                                                                                                                                                                                                                                                                                                                                                                                               720 non-null    float64\n",
      " 4   total_export_avg                                                                                                                                                                                                                                                                                                                                                                                                                                                                               720 non-null    float64\n",
      " 5   carbon_intensity_avg                                                                                                                                                                                                                                                                                                                                                                                                                                                                           695 non-null    float64\n",
      " 6   power_origin_percent_biomass_avg                                                                                                                                                                                                                                                                                                                                                                                                                                                               695 non-null    float64\n",
      " 7   power_origin_percent_coal_avg                                                                                                                                                                                                                                                                                                                                                                                                                                                                  695 non-null    float64\n",
      " 8   power_origin_percent_gas_avg                                                                                                                                                                                                                                                                                                                                                                                                                                                                   695 non-null    float64\n",
      " 9   power_origin_percent_hydro_avg                                                                                                                                                                                                                                                                                                                                                                                                                                                                 695 non-null    float64\n",
      " 10  power_origin_percent_nuclear_avg                                                                                                                                                                                                                                                                                                                                                                                                                                                               695 non-null    float64\n",
      " 11  power_origin_percent_oil_avg                                                                                                                                                                                                                                                                                                                                                                                                                                                                   695 non-null    float64\n",
      " 12  power_origin_percent_solar_avg                                                                                                                                                                                                                                                                                                                                                                                                                                                                 695 non-null    float64\n",
      " 13  power_origin_percent_wind_avg                                                                                                                                                                                                                                                                                                                                                                                                                                                                  695 non-null    float64\n",
      " 14  power_origin_percent_geothermal_avg                                                                                                                                                                                                                                                                                                                                                                                                                                                            695 non-null    float64\n",
      " 15  power_origin_percent_unknown_avg                                                                                                                                                                                                                                                                                                                                                                                                                                                               695 non-null    float64\n",
      " 16  power_origin_percent_hydro_discharge_avg                                                                                                                                                                                                                                                                                                                                                                                                                                                       695 non-null    float64\n",
      " 17  datetime,local_datetime,total_production_avg,total_consumption_avg,total_import_avg,total_export_avg,carbon_intensity_avg,power_origin_percent_biomass_avg,power_origin_percent_coal_avg,power_origin_percent_gas_avg,power_origin_percent_hydro_avg,power_origin_percent_nuclear_avg,power_origin_percent_oil_avg,power_origin_percent_solar_avg,power_origin_percent_wind_avg,power_origin_percent_geothermal_avg,power_origin_percent_unknown_avg,power_origin_percent_hydro_discharge_avg  720 non-null    object \n",
      "dtypes: float64(16), object(2)\n",
      "memory usage: 106.9+ KB\n"
     ]
    }
   ],
   "source": [
    "df_2015.info()"
   ]
  },
  {
   "cell_type": "code",
   "execution_count": 8,
   "metadata": {
    "ExecuteTime": {
     "end_time": "2021-01-15T10:36:37.078138Z",
     "start_time": "2021-01-15T10:36:37.047212Z"
    },
    "scrolled": false
   },
   "outputs": [
    {
     "name": "stdout",
     "output_type": "stream",
     "text": [
      "<class 'pandas.core.frame.DataFrame'>\n",
      "DatetimeIndex: 17505 entries, 2018-01-01 00:00:00+00:00 to 2019-12-31 23:00:00+00:00\n",
      "Data columns (total 83 columns):\n",
      " #   Column                                        Non-Null Count  Dtype  \n",
      "---  ------                                        --------------  -----  \n",
      " 0   Jahr                                          17505 non-null  int64  \n",
      " 1   monat                                         17505 non-null  int64  \n",
      " 2   Tag                                           17505 non-null  int64  \n",
      " 3   Stunde                                        17505 non-null  int64  \n",
      " 4   Datum                                         17505 non-null  object \n",
      " 5   Tag des Jahres                                17505 non-null  int64  \n",
      " 6   Tag des Monats                                17505 non-null  int64  \n",
      " 7   Uhrzeit                                       17505 non-null  object \n",
      " 8   timestamp                                     17505 non-null  int64  \n",
      " 9   zone_name                                     17505 non-null  object \n",
      " 10  carbon_intensity_avg                          17448 non-null  float64\n",
      " 11  carbon_intensity_production_avg               17448 non-null  float64\n",
      " 12  carbon_intensity_discharge_avg                11085 non-null  float64\n",
      " 13  carbon_intensity_import_avg                   17483 non-null  float64\n",
      " 14  carbon_rate_avg                               17448 non-null  float64\n",
      " 15  total_production_avg                          17448 non-null  float64\n",
      " 16  total_storage_avg                             17448 non-null  float64\n",
      " 17  total_discharge_avg                           17448 non-null  float64\n",
      " 18  total_import_avg                              17505 non-null  int64  \n",
      " 19  total_export_avg                              17505 non-null  int64  \n",
      " 20  total_consumption_avg                         17448 non-null  float64\n",
      " 21  production_sources                            17448 non-null  object \n",
      " 22  power_origin_percent_fossil_avg               17448 non-null  float64\n",
      " 23  power_origin_percent_renewable_avg            17448 non-null  float64\n",
      " 24  power_production_biomass_avg                  17448 non-null  float64\n",
      " 25  power_production_coal_avg                     17448 non-null  float64\n",
      " 26  power_production_gas_avg                      17448 non-null  float64\n",
      " 27  power_production_hydro_avg                    17448 non-null  float64\n",
      " 28  power_production_nuclear_avg                  0 non-null      float64\n",
      " 29  power_production_oil_avg                      17448 non-null  float64\n",
      " 30  power_production_solar_avg                    17448 non-null  float64\n",
      " 31  power_production_wind_avg                     17448 non-null  float64\n",
      " 32  power_production_geothermal_avg               17448 non-null  float64\n",
      " 33  power_production_unknown_avg                  17448 non-null  float64\n",
      " 34  power_consumption_biomass_avg                 17448 non-null  float64\n",
      " 35  power_consumption_coal_avg                    17448 non-null  float64\n",
      " 36  power_consumption_gas_avg                     17448 non-null  float64\n",
      " 37  power_consumption_hydro_avg                   17448 non-null  float64\n",
      " 38  power_consumption_nuclear_avg                 17448 non-null  float64\n",
      " 39  power_consumption_oil_avg                     17448 non-null  float64\n",
      " 40  power_consumption_solar_avg                   17448 non-null  float64\n",
      " 41  power_consumption_wind_avg                    17448 non-null  float64\n",
      " 42  power_consumption_geothermal_avg              17448 non-null  float64\n",
      " 43  power_consumption_unknown_avg                 17448 non-null  float64\n",
      " 44  power_consumption_battery_discharge_avg       0 non-null      float64\n",
      " 45  power_consumption_hydro_discharge_avg         17448 non-null  float64\n",
      " 46  carbon_origin_percent_biomass_avg             17448 non-null  float64\n",
      " 47  carbon_origin_percent_coal_avg                17448 non-null  float64\n",
      " 48  carbon_origin_percent_gas_avg                 17448 non-null  float64\n",
      " 49  carbon_origin_percent_hydro_avg               17448 non-null  float64\n",
      " 50  carbon_origin_percent_nuclear_avg             17448 non-null  float64\n",
      " 51  carbon_origin_percent_oil_avg                 17448 non-null  float64\n",
      " 52  carbon_origin_percent_solar_avg               17448 non-null  float64\n",
      " 53  carbon_origin_percent_wind_avg                17448 non-null  float64\n",
      " 54  carbon_origin_percent_geothermal_avg          17448 non-null  float64\n",
      " 55  carbon_origin_percent_unknown_avg             17448 non-null  float64\n",
      " 56  carbon_origin_percent_battery_discharge_avg   0 non-null      float64\n",
      " 57  carbon_origin_percent_hydro_discharge_avg     17448 non-null  float64\n",
      " 58  power_net_discharge_battery_avg               0 non-null      float64\n",
      " 59  power_net_discharge_hydro_avg                 17448 non-null  float64\n",
      " 60  power_net_import_CH_avg                       17505 non-null  int64  \n",
      " 61  power_net_import_CZ_avg                       17505 non-null  int64  \n",
      " 62  power_net_import_DE_avg                       17505 non-null  int64  \n",
      " 63  power_net_import_HU_avg                       17505 non-null  int64  \n",
      " 64  power_net_import_IT-NO_avg                    17505 non-null  int64  \n",
      " 65  power_net_import_SI_avg                       17505 non-null  int64  \n",
      " 66  latest_forecasted_dewpoint_avg                17205 non-null  float64\n",
      " 67  latest_forecasted_precipitation_avg           17191 non-null  float64\n",
      " 68  latest_forecasted_solar_avg                   17191 non-null  float64\n",
      " 69  latest_forecasted_temperature_avg             17191 non-null  float64\n",
      " 70  latest_forecasted_wind_x_avg                  17205 non-null  float64\n",
      " 71  latest_forecasted_wind_y_avg                  17205 non-null  float64\n",
      " 72  latest_forecasted_price_avg                   17234 non-null  float64\n",
      " 73  latest_forecasted_production_avg              17474 non-null  float64\n",
      " 74  latest_forecasted_consumption_avg             17498 non-null  float64\n",
      " 75  latest_forecasted_power_net_import_CH_avg     17498 non-null  float64\n",
      " 76  latest_forecasted_power_net_import_CZ_avg     17498 non-null  float64\n",
      " 77  latest_forecasted_power_net_import_DE_avg     17498 non-null  float64\n",
      " 78  latest_forecasted_power_net_import_HU_avg     17498 non-null  float64\n",
      " 79  latest_forecasted_power_net_import_IT-NO_avg  0 non-null      float64\n",
      " 80  latest_forecasted_power_net_import_SI_avg     17498 non-null  float64\n",
      " 81  latest_forecasted_production_solar_avg        17498 non-null  float64\n",
      " 82  latest_forecasted_production_wind_avg         17498 non-null  float64\n",
      "dtypes: float64(64), int64(15), object(4)\n",
      "memory usage: 11.2+ MB\n"
     ]
    }
   ],
   "source": [
    "df_2018.info()"
   ]
  },
  {
   "cell_type": "code",
   "execution_count": null,
   "metadata": {},
   "outputs": [],
   "source": []
  },
  {
   "cell_type": "markdown",
   "metadata": {
    "hide_input": true
   },
   "source": [
    "\n",
    "\n",
    "\n"
   ]
  },
  {
   "cell_type": "code",
   "execution_count": 9,
   "metadata": {
    "ExecuteTime": {
     "end_time": "2021-01-15T10:36:46.628844Z",
     "start_time": "2021-01-15T10:36:37.080122Z"
    },
    "code_folding": []
   },
   "outputs": [],
   "source": [
    "df_2015 = pd.read_csv(\"../Data/Electricity_map_CO2_AT_2015_2017.csv\"\n",
    "                     ,delimiter = ';',parse_dates=[\"datetime\"],index_col=[\"datetime\"])\n",
    "\n",
    "for column in range(0,18,1):\n",
    "    FixNANValues(column,df_2015)        \n",
    "\n",
    "li_energySource = [\"power_consumption_biomass_avg\",\"power_consumption_coal_avg\",\"power_consumption_gas_avg\",\n",
    "                    \"power_consumption_hydro_avg\",\"power_consumption_nuclear_avg\",\"power_consumption_oil_avg\",\n",
    "                    \"power_consumption_solar_avg\",\"power_consumption_wind_avg\",\"power_consumption_geothermal_avg\",\n",
    "                    \"power_consumption_unknown_avg\",\"power_consumption_hydro_discharge_avg\"]\n",
    "li_energyPercent = [\"power_origin_percent_biomass_avg\",\"power_origin_percent_coal_avg\",\"power_origin_percent_gas_avg\",\n",
    "                    \"power_origin_percent_hydro_avg\",\"power_origin_percent_nuclear_avg\",\"power_origin_percent_oil_avg\",\n",
    "                    \"power_origin_percent_solar_avg\",\"power_origin_percent_wind_avg\",\"power_origin_percent_geothermal_avg\",\n",
    "                    \"power_origin_percent_unknown_avg\",\"power_origin_percent_hydro_discharge_avg\"]\n",
    "\n",
    "for column in range(0,11,1):\n",
    "    df_2015[li_energySource[column]] = df_2015[\"total_production_avg\"] \\\n",
    "                                    .multiply(df_2015[li_energyPercent[column]]).divide(100)\n",
    "      \n",
    "\n",
    "df_2015[\"power_origin_percent_fossil_avg\"] = df_2015[\"power_origin_percent_coal_avg\"] + df_2015[\"power_origin_percent_gas_avg\"] + \\\n",
    "                                            df_2015[\"power_origin_percent_nuclear_avg\"] + df_2015[\"power_origin_percent_oil_avg\"] + \\\n",
    "                                            df_2015[\"power_origin_percent_unknown_avg\"]\n",
    "\n",
    "df_2015[\"power_origin_percent_renewable_avg\"] = df_2015[\"power_origin_percent_biomass_avg\"] + df_2015[\"power_origin_percent_hydro_avg\"] + \\\n",
    "                                                df_2015[\"power_origin_percent_solar_avg\"] + df_2015[\"power_origin_percent_wind_avg\"] + \\\n",
    "                                                df_2015[\"power_origin_percent_geothermal_avg\"] + df_2015[\"power_origin_percent_hydro_discharge_avg\"]\n",
    "\n",
    "df_2015.to_csv(\"../Data/Electricity_map_CO2_AT_2015_2017_fixed.csv\",sep = ';')\n"
   ]
  },
  {
   "cell_type": "code",
   "execution_count": null,
   "metadata": {
    "ExecuteTime": {
     "end_time": "2020-11-18T09:00:47.905353Z",
     "start_time": "2020-11-18T09:00:47.874436Z"
    }
   },
   "outputs": [],
   "source": []
  },
  {
   "cell_type": "code",
   "execution_count": null,
   "metadata": {
    "ExecuteTime": {
     "end_time": "2020-11-13T22:32:40.660847Z",
     "start_time": "2020-11-13T22:32:40.650867Z"
    }
   },
   "outputs": [],
   "source": []
  },
  {
   "cell_type": "code",
   "execution_count": 10,
   "metadata": {
    "ExecuteTime": {
     "end_time": "2021-01-15T10:37:15.320006Z",
     "start_time": "2021-01-15T10:36:46.630845Z"
    },
    "hide_input": false,
    "scrolled": true
   },
   "outputs": [],
   "source": [
    "#creates pandas object to read csv\n",
    "df_2018 = pd.read_csv(\"../Data/Electricity_map_CO2_AT_2018_2019.csv\"\n",
    "                      ,delimiter = ';',parse_dates=[\"datetime\"],index_col=[\"datetime\"])\n",
    "   \n",
    "columnNames = list(df_2018.columns)\n",
    "columnNum = 0\n",
    "for column in columnNames:   \n",
    "    if isinstance(df_2018[column].iloc[2], str) or df_2018[column].dropna().empty:\n",
    "        columnNum += 1\n",
    "        continue\n",
    "    FixNANValues(columnNum,df_2018)\n",
    "    columnNum += 1   \n",
    "    \n",
    "    \n",
    "li_energySource = [\"carbon_production_biomass_avg\",\"carbon_production_coal_avg\",\"carbon_production_gas_avg\",\n",
    "                    \"carbon_production_hydro_avg\",\"carbon_production_nuclear_avg\",\"carbon_production_oil_avg\",\n",
    "                    \"carbon_production_solar_avg\",\"carbon_production_wind_avg\",\"carbon_production_geothermal_avg\",\n",
    "                    \"carbon_production_unknown_avg\", \"carbon_production_battery_discharge_avg\", \n",
    "                   \"carbon_production_hydro_discharge_avg\"]\n",
    "li_energyPercent = [\"carbon_origin_percent_biomass_avg\",\"carbon_origin_percent_coal_avg\",\"carbon_origin_percent_gas_avg\",\n",
    "                    \"carbon_origin_percent_hydro_avg\",\"carbon_origin_percent_nuclear_avg\",\"carbon_origin_percent_oil_avg\",\n",
    "                    \"carbon_origin_percent_solar_avg\",\"carbon_origin_percent_wind_avg\",\"carbon_origin_percent_geothermal_avg\",\n",
    "                    \"carbon_origin_percent_unknown_avg\",\"carbon_origin_percent_battery_discharge_avg\",\n",
    "                    \"carbon_origin_percent_hydro_discharge_avg\"]\n",
    "\n",
    "for column in range(0,12,1):\n",
    "    df_2018[li_energySource[column]] = df_2018[\"carbon_intensity_avg\"] \\\n",
    "                                    .multiply(df_2018[li_energyPercent[column]]).divide(100)    \n",
    "    \n",
    "    \n",
    "    \n",
    "dfToPlot = pd.DataFrame()\n",
    "\n",
    "df_2018[\"power_origin_percent_fossil_avg\"] = (df_2018[\"power_consumption_coal_avg\"] + df_2018[\"power_consumption_gas_avg\"] +\\\n",
    "                                             df_2018[\"power_consumption_nuclear_avg\"] + df_2018[\"power_consumption_oil_avg\"] + \\\n",
    "                                            df_2018[\"power_consumption_unknown_avg\"]) / df_2018[\"total_consumption_avg\"] *100\n",
    "\n",
    "df_2018[\"power_origin_percent_renewable_avg\"] = (df_2018[\"power_consumption_biomass_avg\"] + df_2018[\"power_consumption_hydro_avg\"] +\\\n",
    "                                             df_2018[\"power_consumption_solar_avg\"] + df_2018[\"power_consumption_wind_avg\"] + \\\n",
    "                                            df_2018[\"power_consumption_geothermal_avg\"] + df_2018[\"power_consumption_hydro_discharge_avg\"]) \\\n",
    "                                            / df_2018[\"total_consumption_avg\"] *100\n",
    "\n",
    "\n",
    "li_consumption_percent_src = [\"power_consumption_biomass_avg\",\"power_consumption_coal_avg\",\"power_consumption_gas_avg\",\n",
    "                         \"power_consumption_hydro_avg\",\"power_consumption_nuclear_avg\",\"power_consumption_oil_avg\",\n",
    "                         \"power_consumption_solar_avg\",\"power_consumption_wind_avg\",\"power_consumption_geothermal_avg\",\n",
    "                         \"power_consumption_unknown_avg\",\"power_consumption_hydro_discharge_avg\",]\n",
    "\n",
    "li_consumption_percent_target = [\"power_origin_percent_biomass_avg\",\"power_origin_percent_coal_avg\",\"power_origin_percent_gas_avg\",\n",
    "                         \"power_origin_percent_hydro_avg\",\"power_origin_percent_nuclear_avg\",\"power_origin_percent_oil_avg\",\n",
    "                         \"power_origin_percent_solar_avg\",\"power_origin_percent_wind_avg\",\"power_origin_percent_geothermal_avg\",\n",
    "                         \"power_origin_percent_unknown_avg\",\"power_origin_percent_hydro_discharge_avg\",]\n",
    "\n",
    "for i in range(0,len(li_consumption_percent_target),1):\n",
    "    df_2018[li_consumption_percent_target[i]] =df_2018[li_consumption_percent_src[i]] / df_2018[\"total_consumption_avg\"] *100\n",
    "\n",
    "df_2018.to_csv(\"../Data/Electricity_map_CO2_AT_2018_2019_fixed.csv\",sep = ';')"
   ]
  },
  {
   "cell_type": "code",
   "execution_count": 11,
   "metadata": {
    "ExecuteTime": {
     "end_time": "2021-01-15T10:37:15.351884Z",
     "start_time": "2021-01-15T10:37:15.321964Z"
    }
   },
   "outputs": [
    {
     "name": "stdout",
     "output_type": "stream",
     "text": [
      "<class 'pandas.core.frame.DataFrame'>\n",
      "DatetimeIndex: 26304 entries, 2015-01-01 00:00:00+00:00 to 2017-12-31 23:00:00+00:00\n",
      "Data columns (total 31 columns):\n",
      " #   Column                                                                                                                                                                                                                                                                                                                                                                                                                                                                                         Non-Null Count  Dtype  \n",
      "---  ------                                                                                                                                                                                                                                                                                                                                                                                                                                                                                         --------------  -----  \n",
      " 0   local_datetime                                                                                                                                                                                                                                                                                                                                                                                                                                                                                 26304 non-null  object \n",
      " 1   total_production_avg                                                                                                                                                                                                                                                                                                                                                                                                                                                                           26304 non-null  float64\n",
      " 2   total_consumption_avg                                                                                                                                                                                                                                                                                                                                                                                                                                                                          26304 non-null  float64\n",
      " 3   total_import_avg                                                                                                                                                                                                                                                                                                                                                                                                                                                                               26304 non-null  float64\n",
      " 4   total_export_avg                                                                                                                                                                                                                                                                                                                                                                                                                                                                               26304 non-null  float64\n",
      " 5   carbon_intensity_avg                                                                                                                                                                                                                                                                                                                                                                                                                                                                           26304 non-null  float64\n",
      " 6   power_origin_percent_biomass_avg                                                                                                                                                                                                                                                                                                                                                                                                                                                               26304 non-null  float64\n",
      " 7   power_origin_percent_coal_avg                                                                                                                                                                                                                                                                                                                                                                                                                                                                  26304 non-null  float64\n",
      " 8   power_origin_percent_gas_avg                                                                                                                                                                                                                                                                                                                                                                                                                                                                   26304 non-null  float64\n",
      " 9   power_origin_percent_hydro_avg                                                                                                                                                                                                                                                                                                                                                                                                                                                                 26304 non-null  float64\n",
      " 10  power_origin_percent_nuclear_avg                                                                                                                                                                                                                                                                                                                                                                                                                                                               26304 non-null  float64\n",
      " 11  power_origin_percent_oil_avg                                                                                                                                                                                                                                                                                                                                                                                                                                                                   26304 non-null  float64\n",
      " 12  power_origin_percent_solar_avg                                                                                                                                                                                                                                                                                                                                                                                                                                                                 26304 non-null  float64\n",
      " 13  power_origin_percent_wind_avg                                                                                                                                                                                                                                                                                                                                                                                                                                                                  26304 non-null  float64\n",
      " 14  power_origin_percent_geothermal_avg                                                                                                                                                                                                                                                                                                                                                                                                                                                            26304 non-null  float64\n",
      " 15  power_origin_percent_unknown_avg                                                                                                                                                                                                                                                                                                                                                                                                                                                               26304 non-null  float64\n",
      " 16  power_origin_percent_hydro_discharge_avg                                                                                                                                                                                                                                                                                                                                                                                                                                                       26304 non-null  float64\n",
      " 17  datetime,local_datetime,total_production_avg,total_consumption_avg,total_import_avg,total_export_avg,carbon_intensity_avg,power_origin_percent_biomass_avg,power_origin_percent_coal_avg,power_origin_percent_gas_avg,power_origin_percent_hydro_avg,power_origin_percent_nuclear_avg,power_origin_percent_oil_avg,power_origin_percent_solar_avg,power_origin_percent_wind_avg,power_origin_percent_geothermal_avg,power_origin_percent_unknown_avg,power_origin_percent_hydro_discharge_avg  26304 non-null  object \n",
      " 18  power_consumption_biomass_avg                                                                                                                                                                                                                                                                                                                                                                                                                                                                  26304 non-null  float64\n",
      " 19  power_consumption_coal_avg                                                                                                                                                                                                                                                                                                                                                                                                                                                                     26304 non-null  float64\n",
      " 20  power_consumption_gas_avg                                                                                                                                                                                                                                                                                                                                                                                                                                                                      26304 non-null  float64\n",
      " 21  power_consumption_hydro_avg                                                                                                                                                                                                                                                                                                                                                                                                                                                                    26304 non-null  float64\n",
      " 22  power_consumption_nuclear_avg                                                                                                                                                                                                                                                                                                                                                                                                                                                                  26304 non-null  float64\n",
      " 23  power_consumption_oil_avg                                                                                                                                                                                                                                                                                                                                                                                                                                                                      26304 non-null  float64\n",
      " 24  power_consumption_solar_avg                                                                                                                                                                                                                                                                                                                                                                                                                                                                    26304 non-null  float64\n",
      " 25  power_consumption_wind_avg                                                                                                                                                                                                                                                                                                                                                                                                                                                                     26304 non-null  float64\n",
      " 26  power_consumption_geothermal_avg                                                                                                                                                                                                                                                                                                                                                                                                                                                               26304 non-null  float64\n",
      " 27  power_consumption_unknown_avg                                                                                                                                                                                                                                                                                                                                                                                                                                                                  26304 non-null  float64\n",
      " 28  power_consumption_hydro_discharge_avg                                                                                                                                                                                                                                                                                                                                                                                                                                                          26304 non-null  float64\n",
      " 29  power_origin_percent_fossil_avg                                                                                                                                                                                                                                                                                                                                                                                                                                                                26304 non-null  float64\n",
      " 30  power_origin_percent_renewable_avg                                                                                                                                                                                                                                                                                                                                                                                                                                                             26304 non-null  float64\n",
      "dtypes: float64(29), object(2)\n",
      "memory usage: 7.7+ MB\n"
     ]
    }
   ],
   "source": [
    "df_2015.info(verbose = True)"
   ]
  },
  {
   "cell_type": "code",
   "execution_count": null,
   "metadata": {
    "ExecuteTime": {
     "end_time": "2020-11-19T17:26:06.349315Z",
     "start_time": "2020-11-19T17:26:06.290476Z"
    }
   },
   "outputs": [],
   "source": []
  },
  {
   "cell_type": "code",
   "execution_count": 12,
   "metadata": {
    "ExecuteTime": {
     "end_time": "2021-01-15T10:37:15.935493Z",
     "start_time": "2021-01-15T10:37:15.353880Z"
    },
    "hide_input": false
   },
   "outputs": [
    {
     "name": "stdout",
     "output_type": "stream",
     "text": [
      "~~~~~~~~~~~~~~~~~~~~~~~~~~~~~~~~~~~~~~~~~~~~~~~~~~ \n",
      "This cell combines the shared columns of df_2015 and df_2018\n",
      "Input: df_2015, df_2018 \n",
      "Output: df_2015_2019\n",
      "~~~~~~~~~~~~~~~~~~~~~~~~~~~~~~~~~~~~~~~~~~~~~~~~~~ \n"
     ]
    }
   ],
   "source": [
    "print(\"~~~~~~~~~~~~~~~~~~~~~~~~~~~~~~~~~~~~~~~~~~~~~~~~~~ \")\n",
    "print(\"This cell combines the shared columns of df_2015 and df_2018\")\n",
    "print(\"Input: df_2015, df_2018 \")\n",
    "print(\"Output: df_2015_2019\")\n",
    "print(\"~~~~~~~~~~~~~~~~~~~~~~~~~~~~~~~~~~~~~~~~~~~~~~~~~~ \")\n",
    "df_2015_2019 = pd.DataFrame()\n",
    "df_temp1 = pd.DataFrame()\n",
    "df_temp2 = pd.DataFrame()\n",
    "i = 0\n",
    "for column in df_2015:\n",
    "    while i != 106:  \n",
    "        if column == df_2018.columns[i]:\n",
    "            df_temp1[column] = df_2015[column]\n",
    "            df_temp2[column] = df_2018[column]\n",
    "            df_2015_2019 = pd.concat([df_temp1,df_temp2])\n",
    "        i += 1\n",
    "    i = 0"
   ]
  },
  {
   "cell_type": "code",
   "execution_count": 13,
   "metadata": {
    "ExecuteTime": {
     "end_time": "2021-01-15T10:37:15.972392Z",
     "start_time": "2021-01-15T10:37:15.937485Z"
    }
   },
   "outputs": [
    {
     "name": "stdout",
     "output_type": "stream",
     "text": [
      "<class 'pandas.core.frame.DataFrame'>\n",
      "DatetimeIndex: 43809 entries, 2015-01-01 00:00:00+00:00 to 2019-12-31 23:00:00+00:00\n",
      "Data columns (total 29 columns):\n",
      " #   Column                                    Non-Null Count  Dtype  \n",
      "---  ------                                    --------------  -----  \n",
      " 0   total_production_avg                      43809 non-null  float64\n",
      " 1   total_consumption_avg                     43809 non-null  float64\n",
      " 2   total_import_avg                          43809 non-null  float64\n",
      " 3   total_export_avg                          43809 non-null  float64\n",
      " 4   carbon_intensity_avg                      43809 non-null  float64\n",
      " 5   power_origin_percent_biomass_avg          43809 non-null  float64\n",
      " 6   power_origin_percent_coal_avg             43809 non-null  float64\n",
      " 7   power_origin_percent_gas_avg              43809 non-null  float64\n",
      " 8   power_origin_percent_hydro_avg            43809 non-null  float64\n",
      " 9   power_origin_percent_nuclear_avg          43809 non-null  float64\n",
      " 10  power_origin_percent_oil_avg              43809 non-null  float64\n",
      " 11  power_origin_percent_solar_avg            43809 non-null  float64\n",
      " 12  power_origin_percent_wind_avg             43809 non-null  float64\n",
      " 13  power_origin_percent_geothermal_avg       43809 non-null  float64\n",
      " 14  power_origin_percent_unknown_avg          43809 non-null  float64\n",
      " 15  power_origin_percent_hydro_discharge_avg  43809 non-null  float64\n",
      " 16  power_consumption_biomass_avg             43809 non-null  float64\n",
      " 17  power_consumption_coal_avg                43809 non-null  float64\n",
      " 18  power_consumption_gas_avg                 43809 non-null  float64\n",
      " 19  power_consumption_hydro_avg               43809 non-null  float64\n",
      " 20  power_consumption_nuclear_avg             43809 non-null  float64\n",
      " 21  power_consumption_oil_avg                 43809 non-null  float64\n",
      " 22  power_consumption_solar_avg               43809 non-null  float64\n",
      " 23  power_consumption_wind_avg                43809 non-null  float64\n",
      " 24  power_consumption_geothermal_avg          43809 non-null  float64\n",
      " 25  power_consumption_unknown_avg             43809 non-null  float64\n",
      " 26  power_consumption_hydro_discharge_avg     43809 non-null  float64\n",
      " 27  power_origin_percent_fossil_avg           43809 non-null  float64\n",
      " 28  power_origin_percent_renewable_avg        43809 non-null  float64\n",
      "dtypes: float64(29)\n",
      "memory usage: 10.0 MB\n"
     ]
    }
   ],
   "source": [
    "df_2015_2019.info()"
   ]
  },
  {
   "cell_type": "code",
   "execution_count": 14,
   "metadata": {
    "ExecuteTime": {
     "end_time": "2021-01-15T10:37:15.979382Z",
     "start_time": "2021-01-15T10:37:15.974387Z"
    },
    "hide_input": false,
    "scrolled": true
   },
   "outputs": [
    {
     "name": "stdout",
     "output_type": "stream",
     "text": [
      "~~~~~~~~~~~~~~~~~~~~~~~~~~~~~~~~~~~~~~~~~~~~~~~~~~ \n",
      "There is currently no clean way to add the weeknumber since index.week is deprecated\n",
      "This function creates them with a loop and the funciton isocalendar\n",
      "Name: CreateWeekNum \n",
      "Input: df_Source \n",
      "Output: list of weeknumbers\n",
      "~~~~~~~~~~~~~~~~~~~~~~~~~~~~~~~~~~~~~~~~~~~~~~~~~~ \n"
     ]
    }
   ],
   "source": [
    "print(\"~~~~~~~~~~~~~~~~~~~~~~~~~~~~~~~~~~~~~~~~~~~~~~~~~~ \")\n",
    "print(\"There is currently no clean way to add the weeknumber since index.week is deprecated\")\n",
    "print(\"This function creates them with a loop and the funciton isocalendar\")\n",
    "print(\"Name: CreateWeekNum \")\n",
    "print(\"Input: df_Source \")\n",
    "print(\"Output: list of weeknumbers\")\n",
    "print(\"~~~~~~~~~~~~~~~~~~~~~~~~~~~~~~~~~~~~~~~~~~~~~~~~~~ \")\n",
    "def CreateWeekNum(df_Source):\n",
    "    li_weeknum = []\n",
    "    for rows in range(0,len(df_Source),1):\n",
    "        li_weeknum.append(df_Source.index[rows].isocalendar()[1])\n",
    "    return li_weeknum    \n"
   ]
  },
  {
   "cell_type": "code",
   "execution_count": 15,
   "metadata": {
    "ExecuteTime": {
     "end_time": "2021-01-15T10:37:16.908388Z",
     "start_time": "2021-01-15T10:37:15.981368Z"
    },
    "hide_input": false
   },
   "outputs": [
    {
     "name": "stdout",
     "output_type": "stream",
     "text": [
      "~~~~~~~~~~~~~~~~~~~~~~~~~~~~~~~~~~~~~~~~~~~~~~~~~~ \n",
      "Little helper function to add various time related columns to dataframes\n",
      "Name: DataFrameTimeIndexing \n",
      "Input: df_Source \n",
      "Output: added columns to DataFrame\n",
      "~~~~~~~~~~~~~~~~~~~~~~~~~~~~~~~~~~~~~~~~~~~~~~~~~~ \n"
     ]
    }
   ],
   "source": [
    "print(\"~~~~~~~~~~~~~~~~~~~~~~~~~~~~~~~~~~~~~~~~~~~~~~~~~~ \")\n",
    "print(\"Little helper function to add various time related columns to dataframes\")\n",
    "print(\"Name: DataFrameTimeIndexing \")\n",
    "print(\"Input: df_Source \")\n",
    "print(\"Output: added columns to DataFrame\")\n",
    "print(\"~~~~~~~~~~~~~~~~~~~~~~~~~~~~~~~~~~~~~~~~~~~~~~~~~~ \")\n",
    "def DataFrameTimeIndexing(dfSource):\n",
    "    dfSource['year'] = dfSource.index.year\n",
    "    dfSource['quarter'] = dfSource.index.quarter\n",
    "    dfSource['month'] = dfSource.index.month\n",
    "    dfSource['week'] = CreateWeekNum(dfSource)\n",
    "    dfSource['date'] = dfSource.index.day\n",
    "    dfSource['hour'] = dfSource.index.hour\n",
    "    return\n",
    "    \n",
    "DataFrameTimeIndexing(df_2015_2019)\n",
    "DataFrameTimeIndexing(df_2015)\n",
    "DataFrameTimeIndexing(df_2018)    "
   ]
  },
  {
   "cell_type": "markdown",
   "metadata": {},
   "source": [
    "# Jährliche Stromdaten"
   ]
  },
  {
   "cell_type": "code",
   "execution_count": 16,
   "metadata": {
    "ExecuteTime": {
     "end_time": "2021-01-15T10:37:17.486398Z",
     "start_time": "2021-01-15T10:37:16.910343Z"
    },
    "run_control": {
     "marked": false
    }
   },
   "outputs": [
    {
     "data": {
      "application/vnd.jupyter.widget-view+json": {
       "model_id": "d8860e2bf9624589b854365e8e8ce3c4",
       "version_major": 2,
       "version_minor": 0
      },
      "text/plain": [
       "Canvas(toolbar=Toolbar(toolitems=[('Home', 'Reset original view', 'home', 'home'), ('Back', 'Back to previous …"
      ]
     },
     "metadata": {},
     "output_type": "display_data"
    }
   ],
   "source": [
    "fig, ax = plt.subplots(2,2,figsize=(10,6))\n",
    "\n",
    "li_ToPLot = [\"total_production_avg\",\"total_consumption_avg\",\"total_import_avg\",\"total_export_avg\"]\n",
    "li_Title = [\"Produktion\",\"Verbrauch\",\"Import\",\"Export\"]\n",
    "\n",
    "i = 0\n",
    "for row in range(0,2,1):\n",
    "    for col in range(0,2,1):\n",
    "        \n",
    "        sns.barplot(x = \"year\", y = li_ToPLot[i], data = df_2015_2019.resample(\"Y\").sum().divide(1e6), \n",
    "                    ax = ax[row][col])\n",
    "        \n",
    "        ax[row][col].set_title(li_Title[i])\n",
    "        ax[row][col].set_ylabel(\"Energie\\n[TWh]\")\n",
    "        ax[row][col].set_xlabel(\"\")\n",
    "        ax[row][col].set_xticklabels([\"2015\",\"2016\",\"2017\",\"2018\",\"2019\"])\n",
    "        #adjust ylim so we can see the numbers\n",
    "        lim = ax[row][col].get_ylim()\n",
    "        ax[row][col].set_ylim(0,lim[1]+lim[1]/3)\n",
    "        #write the values ontop of the axes\n",
    "        for p in ax[row][col].patches:\n",
    "                 ax[row][col].annotate(\"%.2f\" % p.get_height(), (p.get_x() + p.get_width() / 2., p.get_height()),\n",
    "                     ha='center', va='center', fontsize=13, color='black', xytext=(0, 10),\n",
    "                     textcoords='offset points')\n",
    "        i += 1\n",
    "            \n",
    "fig.suptitle('Jährliche Stromdaten für die\\nJahre 2015-2020', fontsize=20)\n",
    "#Move other axis out of the way\n",
    "pos = ax[0][0].get_position()\n",
    "pos.y1 = 0.98    #height\n",
    "ax[0][0].set_position(pos)\n",
    "plt.tight_layout()\n",
    "plt.savefig(\"../Bilder/Jährliche Stromdaten für die Jahre 2015-2020\", bbox_inches = 'tight',pad_inches = 0.08)"
   ]
  },
  {
   "cell_type": "code",
   "execution_count": 17,
   "metadata": {
    "ExecuteTime": {
     "end_time": "2021-01-15T10:37:17.540281Z",
     "start_time": "2021-01-15T10:37:17.488393Z"
    }
   },
   "outputs": [
    {
     "name": "stdout",
     "output_type": "stream",
     "text": [
      "<class 'pandas.core.frame.DataFrame'>\n",
      "DatetimeIndex: 17505 entries, 2018-01-01 00:00:00+00:00 to 2019-12-31 23:00:00+00:00\n",
      "Data columns (total 112 columns):\n",
      " #   Column                                        Dtype  \n",
      "---  ------                                        -----  \n",
      " 0   Jahr                                          int64  \n",
      " 1   monat                                         int64  \n",
      " 2   Tag                                           int64  \n",
      " 3   Stunde                                        int64  \n",
      " 4   Datum                                         object \n",
      " 5   Tag des Jahres                                int64  \n",
      " 6   Tag des Monats                                int64  \n",
      " 7   Uhrzeit                                       object \n",
      " 8   timestamp                                     int64  \n",
      " 9   zone_name                                     object \n",
      " 10  carbon_intensity_avg                          float64\n",
      " 11  carbon_intensity_production_avg               float64\n",
      " 12  carbon_intensity_discharge_avg                float64\n",
      " 13  carbon_intensity_import_avg                   float64\n",
      " 14  carbon_rate_avg                               float64\n",
      " 15  total_production_avg                          float64\n",
      " 16  total_storage_avg                             float64\n",
      " 17  total_discharge_avg                           float64\n",
      " 18  total_import_avg                              int64  \n",
      " 19  total_export_avg                              int64  \n",
      " 20  total_consumption_avg                         float64\n",
      " 21  production_sources                            object \n",
      " 22  power_origin_percent_fossil_avg               float64\n",
      " 23  power_origin_percent_renewable_avg            float64\n",
      " 24  power_production_biomass_avg                  float64\n",
      " 25  power_production_coal_avg                     float64\n",
      " 26  power_production_gas_avg                      float64\n",
      " 27  power_production_hydro_avg                    float64\n",
      " 28  power_production_nuclear_avg                  float64\n",
      " 29  power_production_oil_avg                      float64\n",
      " 30  power_production_solar_avg                    float64\n",
      " 31  power_production_wind_avg                     float64\n",
      " 32  power_production_geothermal_avg               float64\n",
      " 33  power_production_unknown_avg                  float64\n",
      " 34  power_consumption_biomass_avg                 float64\n",
      " 35  power_consumption_coal_avg                    float64\n",
      " 36  power_consumption_gas_avg                     float64\n",
      " 37  power_consumption_hydro_avg                   float64\n",
      " 38  power_consumption_nuclear_avg                 float64\n",
      " 39  power_consumption_oil_avg                     float64\n",
      " 40  power_consumption_solar_avg                   float64\n",
      " 41  power_consumption_wind_avg                    float64\n",
      " 42  power_consumption_geothermal_avg              float64\n",
      " 43  power_consumption_unknown_avg                 float64\n",
      " 44  power_consumption_battery_discharge_avg       float64\n",
      " 45  power_consumption_hydro_discharge_avg         float64\n",
      " 46  carbon_origin_percent_biomass_avg             float64\n",
      " 47  carbon_origin_percent_coal_avg                float64\n",
      " 48  carbon_origin_percent_gas_avg                 float64\n",
      " 49  carbon_origin_percent_hydro_avg               float64\n",
      " 50  carbon_origin_percent_nuclear_avg             float64\n",
      " 51  carbon_origin_percent_oil_avg                 float64\n",
      " 52  carbon_origin_percent_solar_avg               float64\n",
      " 53  carbon_origin_percent_wind_avg                float64\n",
      " 54  carbon_origin_percent_geothermal_avg          float64\n",
      " 55  carbon_origin_percent_unknown_avg             float64\n",
      " 56  carbon_origin_percent_battery_discharge_avg   float64\n",
      " 57  carbon_origin_percent_hydro_discharge_avg     float64\n",
      " 58  power_net_discharge_battery_avg               float64\n",
      " 59  power_net_discharge_hydro_avg                 float64\n",
      " 60  power_net_import_CH_avg                       int64  \n",
      " 61  power_net_import_CZ_avg                       int64  \n",
      " 62  power_net_import_DE_avg                       int64  \n",
      " 63  power_net_import_HU_avg                       int64  \n",
      " 64  power_net_import_IT-NO_avg                    int64  \n",
      " 65  power_net_import_SI_avg                       int64  \n",
      " 66  latest_forecasted_dewpoint_avg                float64\n",
      " 67  latest_forecasted_precipitation_avg           float64\n",
      " 68  latest_forecasted_solar_avg                   float64\n",
      " 69  latest_forecasted_temperature_avg             float64\n",
      " 70  latest_forecasted_wind_x_avg                  float64\n",
      " 71  latest_forecasted_wind_y_avg                  float64\n",
      " 72  latest_forecasted_price_avg                   float64\n",
      " 73  latest_forecasted_production_avg              float64\n",
      " 74  latest_forecasted_consumption_avg             float64\n",
      " 75  latest_forecasted_power_net_import_CH_avg     float64\n",
      " 76  latest_forecasted_power_net_import_CZ_avg     float64\n",
      " 77  latest_forecasted_power_net_import_DE_avg     float64\n",
      " 78  latest_forecasted_power_net_import_HU_avg     float64\n",
      " 79  latest_forecasted_power_net_import_IT-NO_avg  float64\n",
      " 80  latest_forecasted_power_net_import_SI_avg     float64\n",
      " 81  latest_forecasted_production_solar_avg        float64\n",
      " 82  latest_forecasted_production_wind_avg         float64\n",
      " 83  carbon_production_biomass_avg                 float64\n",
      " 84  carbon_production_coal_avg                    float64\n",
      " 85  carbon_production_gas_avg                     float64\n",
      " 86  carbon_production_hydro_avg                   float64\n",
      " 87  carbon_production_nuclear_avg                 float64\n",
      " 88  carbon_production_oil_avg                     float64\n",
      " 89  carbon_production_solar_avg                   float64\n",
      " 90  carbon_production_wind_avg                    float64\n",
      " 91  carbon_production_geothermal_avg              float64\n",
      " 92  carbon_production_unknown_avg                 float64\n",
      " 93  carbon_production_battery_discharge_avg       float64\n",
      " 94  carbon_production_hydro_discharge_avg         float64\n",
      " 95  power_origin_percent_biomass_avg              float64\n",
      " 96  power_origin_percent_coal_avg                 float64\n",
      " 97  power_origin_percent_gas_avg                  float64\n",
      " 98  power_origin_percent_hydro_avg                float64\n",
      " 99  power_origin_percent_nuclear_avg              float64\n",
      " 100 power_origin_percent_oil_avg                  float64\n",
      " 101 power_origin_percent_solar_avg                float64\n",
      " 102 power_origin_percent_wind_avg                 float64\n",
      " 103 power_origin_percent_geothermal_avg           float64\n",
      " 104 power_origin_percent_unknown_avg              float64\n",
      " 105 power_origin_percent_hydro_discharge_avg      float64\n",
      " 106 year                                          int64  \n",
      " 107 quarter                                       int64  \n",
      " 108 month                                         int64  \n",
      " 109 week                                          int64  \n",
      " 110 date                                          int64  \n",
      " 111 hour                                          int64  \n",
      "dtypes: float64(87), int64(21), object(4)\n",
      "memory usage: 15.7+ MB\n"
     ]
    }
   ],
   "source": [
    "df_2018.info(verbose =True)"
   ]
  },
  {
   "cell_type": "code",
   "execution_count": 18,
   "metadata": {
    "ExecuteTime": {
     "end_time": "2021-01-15T10:37:17.550234Z",
     "start_time": "2021-01-15T10:37:17.541252Z"
    },
    "run_control": {
     "marked": false
    }
   },
   "outputs": [
    {
     "data": {
      "text/plain": [
       "8959.894576922054"
      ]
     },
     "execution_count": 18,
     "metadata": {},
     "output_type": "execute_result"
    }
   ],
   "source": [
    "#total_discharge_avg\n",
    "\n",
    "df_2018[\"power_net_discharge_hydro_avg\"].clip(0,999999).sum() /1000"
   ]
  },
  {
   "cell_type": "code",
   "execution_count": 19,
   "metadata": {
    "ExecuteTime": {
     "end_time": "2021-01-15T10:37:18.444090Z",
     "start_time": "2021-01-15T10:37:17.551225Z"
    }
   },
   "outputs": [
    {
     "data": {
      "application/vnd.jupyter.widget-view+json": {
       "model_id": "42a279125d9e4bff96433b37c26f7176",
       "version_major": 2,
       "version_minor": 0
      },
      "text/plain": [
       "Canvas(toolbar=Toolbar(toolitems=[('Home', 'Reset original view', 'home', 'home'), ('Back', 'Back to previous …"
      ]
     },
     "metadata": {},
     "output_type": "display_data"
    }
   ],
   "source": [
    "fig, ax = plt.subplots(2,4,figsize=(10,6))\n",
    "\n",
    "li_ToPLot = [\"power_production_hydro_avg\",\"power_production_coal_avg\",\"power_production_gas_avg\",\n",
    "            \"power_production_biomass_avg\",\"power_production_wind_avg\",\"power_production_solar_avg\",\n",
    "             \"power_net_discharge_hydro_avg\"]\n",
    "li_Title = [\"Wasser\",\"Kohle\",\"Gas\",\"Biomasse\",\"Wind\",\"Photovoltaik\",\"Pumpspeicher-\\nkraftwerke\"]\n",
    "\n",
    "i = 0\n",
    "for col in range(0,4,1):\n",
    "    for row in range(0,2,1):\n",
    "        if i == 7:\n",
    "            ax[row][col].remove()\n",
    "            continue\n",
    "        sns.barplot(x = \"year\", y = li_ToPLot[i], data = df_2018.resample(\"Y\").sum().divide(1e6), \n",
    "                    ax = ax[row][col], palette=[\"C3\",\"C4\"])\n",
    "        \n",
    "        ax[row][col].set_title(li_Title[i])\n",
    "        ax[row][col].set_ylabel(\"Energie\\n[TWh]\")\n",
    "        ax[row][col].set_xlabel(\"\")\n",
    "        ax[row][col].set_xticklabels([\"2018\",\"2019\"])\n",
    "        #adjust ylim so we can see the numbers\n",
    "        lim = ax[row][col].get_ylim()\n",
    "        ax[row][col].set_ylim(0,lim[1]+lim[1]/3)\n",
    "        #write the values ontop of the axes\n",
    "        for p in ax[row][col].patches:\n",
    "                 ax[row][col].annotate(\"%.2f\" % p.get_height(), (p.get_x() + p.get_width() / 2., p.get_height()),\n",
    "                     ha='center', va='center', fontsize=13, color='black', xytext=(0, 10),\n",
    "                     textcoords='offset points')\n",
    "        i += 1\n",
    "            \n",
    "fig.suptitle('Jährliche Stromdaten für\\neinzelne Energieträger', fontsize=20)\n",
    "#Move other axis out of the way\n",
    "pos = ax[0][0].get_position()\n",
    "pos.y1 = 0.98    #height\n",
    "ax[0][0].set_position(pos)\n",
    "plt.tight_layout()\n",
    "plt.savefig(\"../Bilder/Jährliche Stromdaten für einzelne Energieträgergruppen\", bbox_inches = 'tight',pad_inches = 0.08)"
   ]
  },
  {
   "cell_type": "code",
   "execution_count": null,
   "metadata": {
    "ExecuteTime": {
     "end_time": "2020-11-25T15:51:08.642188Z",
     "start_time": "2020-11-25T15:51:08.627177Z"
    }
   },
   "outputs": [],
   "source": []
  },
  {
   "cell_type": "code",
   "execution_count": null,
   "metadata": {
    "ExecuteTime": {
     "end_time": "2020-11-25T15:51:08.693970Z",
     "start_time": "2020-11-25T15:51:08.643106Z"
    },
    "scrolled": true
   },
   "outputs": [],
   "source": []
  },
  {
   "cell_type": "code",
   "execution_count": null,
   "metadata": {
    "ExecuteTime": {
     "end_time": "2020-11-18T09:01:17.256540Z",
     "start_time": "2020-11-18T09:01:17.242565Z"
    }
   },
   "outputs": [],
   "source": []
  },
  {
   "cell_type": "code",
   "execution_count": 20,
   "metadata": {
    "ExecuteTime": {
     "end_time": "2021-01-15T10:37:18.463040Z",
     "start_time": "2021-01-15T10:37:18.445087Z"
    }
   },
   "outputs": [],
   "source": [
    "# Quelle: https://www.oib.or.at/sites/default/files/294145_oib-rl_6_entwurf_juni_2018.pdf\n",
    "OIB_RL6 = [\n",
    "    [\"Jänner\"   , 1.98, 1.46, 0.52, 332],\n",
    "    [\"Februar\"  , 1.97, 1.42, 0.55, 322],\n",
    "    [\"März\"     , 1.89, 1.28, 0.61, 288],\n",
    "    [\"April\"    , 1.73, 1.03, 0.7, 230],\n",
    "    [\"Mai\"      , 1.61, 0.85, 0.76, 182],\n",
    "    [\"Juni\"     , 1.60, 0.83, 0.77, 179],\n",
    "    [\"Juli\"     , 1.58, 0.82, 0.76, 178],\n",
    "    [\"August\"   , 1.62, 0.85, 0.77, 182],\n",
    "    [\"September\", 1.73, 1.03, 0.70, 227],\n",
    "    [\"Oktober\"  , 1.88, 1.26, 0.62, 284],\n",
    "    [\"November\" , 1.94, 1.38, 0.56, 308],\n",
    "    [\"Dezember\" , 1.96,1.42, 0.54, 318]  \n",
    "]\n",
    "df_OIB_RL6 = pd.DataFrame(OIB_RL6, columns = [\"month\",\"fPE\",\"fPE,n.ern\", \"fPE,ern\" , \"fCO2eq\" ])\n",
    "\n",
    "\n",
    "OE_NORM = [\n",
    "    [2.144,0.066,1.013,-1.969,0.352,-3.294,-3.79,-4.233,-0.731,-5.349,0.382,-0.981,0.71,-2.388],\n",
    "    [3.918,2.972,3.088,1.366,2.181,-0.184,2.260,0.046,2.22,0.035,2.706,2.045,2.549,0.834],\n",
    "    [7.793,7.411,7.333,6.402,6.523,4.943,6.940,5.696,7.226,6.448,7.137,6.814,6.762,5.945],\n",
    "    [12.511,11.99,12.416,11.532,11.802,10.533,12.16,11.289,12.482,12.253,12.236,11.895,11.872,11.369],\n",
    "    [16.576,16.013,16.652,15.874,16.220,15.175,16.462,15.772,16.841,16.84,16.666,16.362,16.306,15.881],\n",
    "    [20.023,19.179,20.047,18.961,19.63,18.308,20.071,18.95,20.619,20.516,20.245,19.923,19.855,19.196],\n",
    "    [21.92,20.94,21.76,20.24,21.5,19.69,21.74,20.19,22.47,22.01,21.97,21.56,21.84,20.87],\n",
    "    [21.44,19.86,21.26,19.37,20.94,18.78,21.18,19.3,21.7,20.67,21.24,20.67,21.27,19.9],\n",
    "    [17.6,16.44,17.45,15.93,16.94,14.91,17.29,15.73,17.57,16.63,17.37,16.92,17.28,16.13],\n",
    "    [12.08,10.54,11.75,9.72,11.03,8.41,11.5,9.18,11.57,9.5,11.62,11.02,11.38,9.576],\n",
    "    [7.19,5.01,6.49,3.73,5.64,2.43,5.87,2.66,5.6,2.22,5.98,4.93,5.94,3.34],\n",
    "    [3.88,0.29,2.86,-1.46,2,-2.65,1.69,-3.49,1.15,-4.66,1.99,0.144,2.26,-1.89]  \n",
    "]\n"
   ]
  },
  {
   "cell_type": "markdown",
   "metadata": {},
   "source": [
    "# Strommix"
   ]
  },
  {
   "cell_type": "markdown",
   "metadata": {},
   "source": [
    "Schauen warum die Änderungen auf einmal so abfallen im jahr 2016(Ob irgendein Gesetz aufgelaufenist vielleicht)\n"
   ]
  },
  {
   "cell_type": "code",
   "execution_count": 21,
   "metadata": {
    "ExecuteTime": {
     "end_time": "2021-01-15T10:37:18.496949Z",
     "start_time": "2021-01-15T10:37:18.465035Z"
    },
    "run_control": {
     "marked": false
    }
   },
   "outputs": [
    {
     "name": "stdout",
     "output_type": "stream",
     "text": [
      "<class 'pandas.core.frame.DataFrame'>\n",
      "DatetimeIndex: 43809 entries, 2015-01-01 00:00:00+00:00 to 2019-12-31 23:00:00+00:00\n",
      "Data columns (total 35 columns):\n",
      " #   Column                                    Non-Null Count  Dtype  \n",
      "---  ------                                    --------------  -----  \n",
      " 0   total_production_avg                      43809 non-null  float64\n",
      " 1   total_consumption_avg                     43809 non-null  float64\n",
      " 2   total_import_avg                          43809 non-null  float64\n",
      " 3   total_export_avg                          43809 non-null  float64\n",
      " 4   carbon_intensity_avg                      43809 non-null  float64\n",
      " 5   power_origin_percent_biomass_avg          43809 non-null  float64\n",
      " 6   power_origin_percent_coal_avg             43809 non-null  float64\n",
      " 7   power_origin_percent_gas_avg              43809 non-null  float64\n",
      " 8   power_origin_percent_hydro_avg            43809 non-null  float64\n",
      " 9   power_origin_percent_nuclear_avg          43809 non-null  float64\n",
      " 10  power_origin_percent_oil_avg              43809 non-null  float64\n",
      " 11  power_origin_percent_solar_avg            43809 non-null  float64\n",
      " 12  power_origin_percent_wind_avg             43809 non-null  float64\n",
      " 13  power_origin_percent_geothermal_avg       43809 non-null  float64\n",
      " 14  power_origin_percent_unknown_avg          43809 non-null  float64\n",
      " 15  power_origin_percent_hydro_discharge_avg  43809 non-null  float64\n",
      " 16  power_consumption_biomass_avg             43809 non-null  float64\n",
      " 17  power_consumption_coal_avg                43809 non-null  float64\n",
      " 18  power_consumption_gas_avg                 43809 non-null  float64\n",
      " 19  power_consumption_hydro_avg               43809 non-null  float64\n",
      " 20  power_consumption_nuclear_avg             43809 non-null  float64\n",
      " 21  power_consumption_oil_avg                 43809 non-null  float64\n",
      " 22  power_consumption_solar_avg               43809 non-null  float64\n",
      " 23  power_consumption_wind_avg                43809 non-null  float64\n",
      " 24  power_consumption_geothermal_avg          43809 non-null  float64\n",
      " 25  power_consumption_unknown_avg             43809 non-null  float64\n",
      " 26  power_consumption_hydro_discharge_avg     43809 non-null  float64\n",
      " 27  power_origin_percent_fossil_avg           43809 non-null  float64\n",
      " 28  power_origin_percent_renewable_avg        43809 non-null  float64\n",
      " 29  year                                      43809 non-null  int64  \n",
      " 30  quarter                                   43809 non-null  int64  \n",
      " 31  month                                     43809 non-null  int64  \n",
      " 32  week                                      43809 non-null  int64  \n",
      " 33  date                                      43809 non-null  int64  \n",
      " 34  hour                                      43809 non-null  int64  \n",
      "dtypes: float64(29), int64(6)\n",
      "memory usage: 12.0 MB\n"
     ]
    }
   ],
   "source": [
    "df_2015_2019.info()"
   ]
  },
  {
   "cell_type": "code",
   "execution_count": 22,
   "metadata": {
    "ExecuteTime": {
     "end_time": "2021-01-15T10:37:18.516896Z",
     "start_time": "2021-01-15T10:37:18.498944Z"
    }
   },
   "outputs": [
    {
     "data": {
      "text/html": [
       "<div>\n",
       "<style scoped>\n",
       "    .dataframe tbody tr th:only-of-type {\n",
       "        vertical-align: middle;\n",
       "    }\n",
       "\n",
       "    .dataframe tbody tr th {\n",
       "        vertical-align: top;\n",
       "    }\n",
       "\n",
       "    .dataframe thead th {\n",
       "        text-align: right;\n",
       "    }\n",
       "</style>\n",
       "<table border=\"1\" class=\"dataframe\">\n",
       "  <thead>\n",
       "    <tr style=\"text-align: right;\">\n",
       "      <th></th>\n",
       "      <th>total_consumption_avg</th>\n",
       "    </tr>\n",
       "    <tr>\n",
       "      <th>datetime</th>\n",
       "      <th></th>\n",
       "    </tr>\n",
       "  </thead>\n",
       "  <tbody>\n",
       "    <tr>\n",
       "      <th>2015-12-31 00:00:00+00:00</th>\n",
       "      <td>6.018961e+07</td>\n",
       "    </tr>\n",
       "    <tr>\n",
       "      <th>2016-12-31 00:00:00+00:00</th>\n",
       "      <td>6.088008e+07</td>\n",
       "    </tr>\n",
       "    <tr>\n",
       "      <th>2017-12-31 00:00:00+00:00</th>\n",
       "      <td>6.345902e+07</td>\n",
       "    </tr>\n",
       "    <tr>\n",
       "      <th>2018-12-31 00:00:00+00:00</th>\n",
       "      <td>6.349759e+07</td>\n",
       "    </tr>\n",
       "    <tr>\n",
       "      <th>2019-12-31 00:00:00+00:00</th>\n",
       "      <td>5.992832e+07</td>\n",
       "    </tr>\n",
       "  </tbody>\n",
       "</table>\n",
       "</div>"
      ],
      "text/plain": [
       "                           total_consumption_avg\n",
       "datetime                                        \n",
       "2015-12-31 00:00:00+00:00           6.018961e+07\n",
       "2016-12-31 00:00:00+00:00           6.088008e+07\n",
       "2017-12-31 00:00:00+00:00           6.345902e+07\n",
       "2018-12-31 00:00:00+00:00           6.349759e+07\n",
       "2019-12-31 00:00:00+00:00           5.992832e+07"
      ]
     },
     "execution_count": 22,
     "metadata": {},
     "output_type": "execute_result"
    }
   ],
   "source": [
    "dfToPlot = pd.DataFrame()\n",
    "\n",
    "dfToPlot[\"total_consumption_avg\"] = df_2015_2019[\"total_consumption_avg\"].resample(\"Y\").sum()\n",
    "dfToPlot"
   ]
  },
  {
   "cell_type": "code",
   "execution_count": 23,
   "metadata": {
    "ExecuteTime": {
     "end_time": "2021-01-15T10:37:18.567760Z",
     "start_time": "2021-01-15T10:37:18.518891Z"
    }
   },
   "outputs": [
    {
     "data": {
      "application/vnd.jupyter.widget-view+json": {
       "model_id": "b1bc1e7844bb42348a77fba03edbefad",
       "version_major": 2,
       "version_minor": 0
      },
      "text/plain": [
       "Canvas(toolbar=Toolbar(toolitems=[('Home', 'Reset original view', 'home', 'home'), ('Back', 'Back to previous …"
      ]
     },
     "metadata": {},
     "output_type": "display_data"
    },
    {
     "data": {
      "text/plain": [
       "64.31433748123489"
      ]
     },
     "execution_count": 23,
     "metadata": {},
     "output_type": "execute_result"
    }
   ],
   "source": [
    "fig, ax = plt.subplots(figsize=(12, 5))\n",
    "dfToPlot = pd.DataFrame()\n",
    "\n",
    "dfToPlot[\"total_consumption_avg\"] = df_2015_2019[\"total_consumption_avg\"].resample(\"Y\").sum()\n",
    "\n",
    "#dfToPlot =  dfToPlot.resample(\"W\").mean()\n",
    "x = np.arange(0,len(dfToPlot),1)\n",
    "z = np.polyfit(x = x, y = dfToPlot[\"total_consumption_avg\"],deg = 1)\n",
    "p = np.poly1d(z)\n",
    "plt.plot(x,p(x),\"r-\")\n",
    "li_Trend = []\n",
    "for i in range(0,262,1):\n",
    "    li_Trend.append(p(i))\n",
    "p(15) / 1e6"
   ]
  },
  {
   "cell_type": "code",
   "execution_count": null,
   "metadata": {
    "ExecuteTime": {
     "end_time": "2021-01-03T18:26:47.287034Z",
     "start_time": "2021-01-03T18:26:47.060609Z"
    }
   },
   "outputs": [],
   "source": []
  },
  {
   "cell_type": "code",
   "execution_count": 24,
   "metadata": {
    "ExecuteTime": {
     "end_time": "2021-01-15T10:37:18.986067Z",
     "start_time": "2021-01-15T10:37:18.569755Z"
    },
    "run_control": {
     "marked": false
    }
   },
   "outputs": [
    {
     "data": {
      "application/vnd.jupyter.widget-view+json": {
       "model_id": "9ac3d68144984760ab09449be4310e87",
       "version_major": 2,
       "version_minor": 0
      },
      "text/plain": [
       "Canvas(toolbar=Toolbar(toolitems=[('Home', 'Reset original view', 'home', 'home'), ('Back', 'Back to previous …"
      ]
     },
     "metadata": {},
     "output_type": "display_data"
    }
   ],
   "source": [
    "fig, ax = plt.subplots(figsize=(12, 5))\n",
    "#labels = dfToPlot.index\n",
    "dfToPlot = pd.DataFrame()\n",
    "dfToPlot[\"power_origin_percent_fossil_avg\"] = df_2015_2019[\"power_origin_percent_fossil_avg\"]\n",
    "dfToPlot[\"power_origin_percent_renewable_avg\"] = df_2015_2019[\"power_origin_percent_renewable_avg\"]\n",
    "\n",
    "dfToPlot =  dfToPlot.resample(\"W\").mean()\n",
    "\n",
    "dfToPlot.plot(kind=\"area\",linewidth=0, color=[\"grey\",\"green\"], stacked=True, ax=ax, legend=False);\n",
    "\n",
    "x = np.arange(0,len(dfToPlot),1)\n",
    "z = np.polyfit(x = x, y = dfToPlot[\"power_origin_percent_fossil_avg\"],deg = 1)\n",
    "p = np.poly1d(z)\n",
    "li_Trend = []\n",
    "for i in range(0,262,1):\n",
    "    li_Trend.append(p(i))\n",
    "dfToPlot[\"Trend\"] = li_Trend\n",
    "dfToPlot[\"Trend\"].plot(kind = \"line\", ax = ax, color = \"orange\")\n",
    "\n",
    "\n",
    "ax.set_xlabel('')\n",
    "ax.set_ylabel('Prozent [%]', fontsize=14)\n",
    "\n",
    "ax.yaxis.set_tick_params(labelsize=14)\n",
    "ax.xaxis.set_tick_params(labelsize=14)\n",
    "\n",
    "fig.suptitle('Strommix der Jahre 2015-2020', fontsize=20, x = 0.5,y = 0.98)\n",
    "#create a legend for the whole figure\n",
    "leg = fig.legend(labels = [\"Anteil nicht erneuerbar\",\"Anteil erneuerbar\",\"Trendlinie des fossilen Anteils\"], \n",
    "                 bbox_to_anchor = [0.85, 0.94],  prop={'size': 12},facecolor='#f5f5f5', framealpha=1, ncol = 3)\n",
    "#change width of legend color lines\n",
    "for legobj in leg.legendHandles:\n",
    "    legobj.set_linewidth(5)\n",
    "#Move other axis out of the way\n",
    "pos = ax.get_position()\n",
    "pos.y1 = 1.    #height\n",
    "ax.set_position(pos)\n",
    "\n",
    "plt.tight_layout()\n",
    "plt.savefig(\"../Bilder/Strommix_der_Jahre2018-2019\", bbox_inches = 'tight',pad_inches = 0.08)"
   ]
  },
  {
   "cell_type": "code",
   "execution_count": 25,
   "metadata": {
    "ExecuteTime": {
     "end_time": "2021-01-15T10:37:19.630852Z",
     "start_time": "2021-01-15T10:37:18.990056Z"
    }
   },
   "outputs": [
    {
     "name": "stdout",
     "output_type": "stream",
     "text": [
      "~~~~~~~~~~~~~~~~~~~~~~~~~~~~~~~~~~~~~~~~~~~~~~~~~~~~~~~~~~~~~~~~~~~~~~~~~~~~~~~~~~~~~~~~~~~~~~~~~~~~ \n",
      "stellt die stromprouktion über die Jahre aufgeteilt auf die einzelnen energieträger dar\n",
      "Bin mir aber ziemlich sicher dass die Power_origin_percent auf verbrauchten strom deuten\n",
      "Siehe anteil an Nuklear sowie großer Kohleanteil\n",
      "~~~~~~~~~~~~~~~~~~~~~~~~~~~~~~~~~~~~~~~~~~~~~~~~~~~~~~~~~~~~~~~~~~~~~~~~~~~~~~~~~~~~~~~~~~~~~~~~~~~~ \n"
     ]
    },
    {
     "data": {
      "application/vnd.jupyter.widget-view+json": {
       "model_id": "4d0b823e236247b49018216f79ca6675",
       "version_major": 2,
       "version_minor": 0
      },
      "text/plain": [
       "Canvas(toolbar=Toolbar(toolitems=[('Home', 'Reset original view', 'home', 'home'), ('Back', 'Back to previous …"
      ]
     },
     "metadata": {},
     "output_type": "display_data"
    }
   ],
   "source": [
    "print(\"~~~~~~~~~~~~~~~~~~~~~~~~~~~~~~~~~~~~~~~~~~~~~~~~~~~~~~~~~~~~~~~~~~~~~~~~~~~~~~~~~~~~~~~~~~~~~~~~~~~~ \")\n",
    "print(\"stellt die stromprouktion über die Jahre aufgeteilt auf die einzelnen energieträger dar\")\n",
    "print(\"Bin mir aber ziemlich sicher dass die Power_origin_percent auf verbrauchten strom deuten\")\n",
    "print(\"Siehe anteil an Nuklear sowie großer Kohleanteil\")\n",
    "print(\"~~~~~~~~~~~~~~~~~~~~~~~~~~~~~~~~~~~~~~~~~~~~~~~~~~~~~~~~~~~~~~~~~~~~~~~~~~~~~~~~~~~~~~~~~~~~~~~~~~~~ \")\n",
    "\n",
    "\n",
    "colors = [\"green\", \"black\",\"purple\", \"#0088ff\", \"#b4b88a\", \"brown\", \"orange\", \"cyan\",\"grey\",\"#0000ff\",\"red\"]\n",
    "\n",
    "\n",
    "\n",
    "li_ToPLot = [\"power_consumption_biomass_avg\",\"power_consumption_coal_avg\",\n",
    "            \"power_consumption_gas_avg\",\"power_consumption_hydro_avg\",\n",
    "            \"power_consumption_nuclear_avg\",\"power_consumption_oil_avg\",\n",
    "            \"power_consumption_solar_avg\",\"power_consumption_wind_avg\",\n",
    "            \"power_consumption_geothermal_avg\",\"power_consumption_hydro_discharge_avg\",\n",
    "             \"power_consumption_unknown_avg\",]\n",
    "\n",
    "li_Legend = [\"Biomasse\",\"Kohle\",\"Gas\",\"Wasser\",\"Nuklear\",\"Öl\",\"Photovoltaik\",\n",
    "             \"Wind\",\"Geothermie\",\"Speicherwasser\",\"Unbekannt\",\"Trendlinie\"]\n",
    "\n",
    "fig, ax = plt.subplots(figsize=(12, 5))\n",
    "#labels = dfToPlot.index\n",
    "df_2015_2019_weekly = df_2015_2019[li_ToPLot].resample(\"M\").mean()\n",
    "dfToPlot = df_2015_2019_weekly[li_ToPLot]\n",
    "dfToPlot.plot(kind = \"area\",ax=ax, color = colors )\n",
    "\n",
    "#~~~~~~~~~~~~~~~~~~~~~~~~~~~~~~~~~~~~~~~~~~~~~~~~~~~~~~~~~~~~\n",
    "dfToPlot = pd.DataFrame()\n",
    "\n",
    "dfToPlot[\"total_consumption_avg\"] = df_2015_2019[\"total_consumption_avg\"]\n",
    "\n",
    "dfToPlot =  dfToPlot.resample(\"M\").mean()\n",
    "x = np.arange(0,len(dfToPlot),1)\n",
    "z = np.polyfit(x = x, y = dfToPlot[\"total_consumption_avg\"],deg = 1)\n",
    "p = np.poly1d(z)\n",
    "li_Trend = []\n",
    "for i in range(0,len(dfToPlot),1):\n",
    "    li_Trend.append(p(i))\n",
    "dfToPlot[\"Trend\"] = li_Trend\n",
    "dfToPlot[\"Trend\"].plot(kind = \"line\", ax = ax, color = \"#1e5202\")\n",
    "#~~~~~~~~~~~~~~~~~~~~~~~~~~~~~~~~~~~~~~~~~~~~~~~~~~~~~~~~~~~~\n",
    "leg = ax.legend(bbox_to_anchor=(0.47,1.35), title = \"Energieträger\", \n",
    "                labels = li_Legend, ncol = 6, loc = \"upper center\",\n",
    "               facecolor='#f5f5f5', framealpha=1)\n",
    "\n",
    "ax.set_xlabel('')\n",
    "ax.set_ylabel('Stromverbrauch [MW]', fontsize = 14)\n",
    "fig.suptitle('Aufgeteilter Strommix der Jahre 2015-2020', fontsize=20, x = 0.5)\n",
    "\n",
    "for legobj in leg.legendHandles:\n",
    "    legobj.set_linewidth(5.0)\n",
    "\n",
    "\n",
    "#Move other axis out of the way\n",
    "pos = ax.get_position()\n",
    "pos.y1 = 0.88  #height\n",
    "ax.set_position(pos)\n",
    "ax.get_yaxis().set_major_formatter(matplotlib.ticker.FuncFormatter(lambda x, loc: locale.format_string('%d', x, 1)))\n",
    "plt.tight_layout()\n",
    "plt.savefig(\"../Bilder/Stromproduktion\", bbox_inches = 'tight',pad_inches = 0.08)\n"
   ]
  },
  {
   "cell_type": "code",
   "execution_count": 26,
   "metadata": {
    "ExecuteTime": {
     "end_time": "2021-01-15T10:37:19.995877Z",
     "start_time": "2021-01-15T10:37:19.633845Z"
    }
   },
   "outputs": [
    {
     "name": "stdout",
     "output_type": "stream",
     "text": [
      "~~~~~~~~~~~~~~~~~~~~~~~~~~~~~~~~~~~~~~~~~~~~~~~~~~~~~~~~~~~~~~~~~~~~~~~~~~~~~~~~~~~~~~~~~~~~~~~~~~~~ \n",
      "stellt die stromprouktion über die Jahre aufgeteilt auf die einzelnen energieträger dar\n",
      "Bin mir aber ziemlich sicher dass die Power_origin_percent auf verbrauchten strom deuten\n",
      "Siehe anteil an Nuklear sowie großer Kohleanteil\n",
      "~~~~~~~~~~~~~~~~~~~~~~~~~~~~~~~~~~~~~~~~~~~~~~~~~~~~~~~~~~~~~~~~~~~~~~~~~~~~~~~~~~~~~~~~~~~~~~~~~~~~ \n"
     ]
    },
    {
     "data": {
      "application/vnd.jupyter.widget-view+json": {
       "model_id": "2ad5bb740eca4a15978d12408b236d79",
       "version_major": 2,
       "version_minor": 0
      },
      "text/plain": [
       "Canvas(toolbar=Toolbar(toolitems=[('Home', 'Reset original view', 'home', 'home'), ('Back', 'Back to previous …"
      ]
     },
     "metadata": {},
     "output_type": "display_data"
    }
   ],
   "source": [
    "print(\"~~~~~~~~~~~~~~~~~~~~~~~~~~~~~~~~~~~~~~~~~~~~~~~~~~~~~~~~~~~~~~~~~~~~~~~~~~~~~~~~~~~~~~~~~~~~~~~~~~~~ \")\n",
    "print(\"stellt die stromprouktion über die Jahre aufgeteilt auf die einzelnen energieträger dar\")\n",
    "print(\"Bin mir aber ziemlich sicher dass die Power_origin_percent auf verbrauchten strom deuten\")\n",
    "print(\"Siehe anteil an Nuklear sowie großer Kohleanteil\")\n",
    "print(\"~~~~~~~~~~~~~~~~~~~~~~~~~~~~~~~~~~~~~~~~~~~~~~~~~~~~~~~~~~~~~~~~~~~~~~~~~~~~~~~~~~~~~~~~~~~~~~~~~~~~ \")\n",
    "\n",
    "\n",
    "colors = [\"green\", \"black\",\"purple\", \"#0088ff\", \"#b4b88a\", \"brown\", \"orange\", \"cyan\",\"grey\",\"#0000ff\",\"red\"]\n",
    "\n",
    "\n",
    "\n",
    "li_ToPLot = [\"power_consumption_biomass_avg\",\"power_consumption_coal_avg\",\n",
    "            \"power_consumption_gas_avg\",\"power_consumption_hydro_avg\",\n",
    "            \"power_consumption_nuclear_avg\",\"power_consumption_oil_avg\",\n",
    "            \"power_consumption_solar_avg\",\"power_consumption_wind_avg\",\n",
    "            \"power_consumption_geothermal_avg\",\"power_consumption_hydro_discharge_avg\",\n",
    "             \"power_consumption_unknown_avg\",]\n",
    "\n",
    "li_Legend = [\"Biomass\",\"Coal\",\"Gas\",\"Water\",\"Nuclear\",\"Oil\",\"Photovoltaic\",\n",
    "             \"Wind\",\"Geothermal\",\"PSP\",\"Unknown\"]\n",
    "\n",
    "fig, ax = plt.subplots(figsize=(12, 5))\n",
    "#labels = dfToPlot.index\n",
    "df_2015_2019_weekly = df_2015_2019[li_ToPLot].resample(\"M\").mean()\n",
    "dfToPlot = df_2015_2019_weekly[li_ToPLot]\n",
    "dfToPlot.plot(kind = \"area\",ax=ax, color = colors )\n",
    "leg = ax.legend(bbox_to_anchor=(1,1), title = \"Energy source\", \n",
    "                labels = li_Legend)\n",
    "\n",
    "ax.set_xlabel('')\n",
    "ax.set_ylabel('Consumed electricity [MW]', fontsize = 14)\n",
    "fig.suptitle('Electricity mix of the years 2015-2020', fontsize=20, x = 0.45)\n",
    "\n",
    "for legobj in leg.legendHandles:\n",
    "    legobj.set_linewidth(5.0)\n",
    "\n",
    "\n",
    "#Move other axis out of the way\n",
    "pos = ax.get_position()\n",
    "pos.y1 = 0.95   #height\n",
    "ax.set_position(pos)\n",
    "\n",
    "plt.tight_layout()\n",
    "plt.savefig(\"../Bilder/Stromproduktion\", bbox_inches = 'tight',pad_inches = 0.08)"
   ]
  },
  {
   "cell_type": "code",
   "execution_count": 27,
   "metadata": {
    "ExecuteTime": {
     "end_time": "2021-01-15T10:37:21.072478Z",
     "start_time": "2021-01-15T10:37:19.997872Z"
    }
   },
   "outputs": [
    {
     "data": {
      "application/vnd.jupyter.widget-view+json": {
       "model_id": "de02d054d570440c9f085bb23d483aae",
       "version_major": 2,
       "version_minor": 0
      },
      "text/plain": [
       "Canvas(toolbar=Toolbar(toolitems=[('Home', 'Reset original view', 'home', 'home'), ('Back', 'Back to previous …"
      ]
     },
     "metadata": {},
     "output_type": "display_data"
    }
   ],
   "source": [
    "fig, ax = plt.subplots(2,2, figsize=(12.5,8),gridspec_kw={'width_ratios': [3, 1]})\n",
    "\n",
    "li_Carbon_RE = [\"power_consumption_biomass_avg\",\"power_consumption_hydro_avg\",\"power_consumption_solar_avg\",\n",
    "               \"power_consumption_wind_avg\",\"power_consumption_geothermal_avg\",\"power_consumption_hydro_discharge_avg\"]\n",
    "\n",
    "li_Carbon_NRE = [\"power_consumption_coal_avg\",\"power_consumption_gas_avg\",\"power_consumption_nuclear_avg\",\n",
    "                \"power_consumption_oil_avg\",\"power_consumption_unknown_avg\"]\n",
    "               \n",
    "\n",
    "li_Colors_RE = [\"green\", \"#0088ff\", \"orange\", \"grey\" , \"brown\", \"#0000ff\"]\n",
    "\n",
    "li_Colors_NRE = [\"grey\", \"purple\", \"#b4b88a\", \"brown\" , \"red\"]\n",
    "\n",
    "dfToPlot = pd.DataFrame()\n",
    "for i in range(0,len(li_Carbon_RE),1):\n",
    "    dfToPlot[li_Carbon_RE[i]] = df_2015_2019[li_Carbon_RE[i]]\n",
    "sns.boxplot(palette=li_Colors_RE,  data=dfToPlot, ax = ax[0][0])\n",
    "\n",
    "sns.boxplot(y = \"power_consumption_geothermal_avg\",palette=[\"grey\"], \n",
    "              data=dfToPlot, ax = ax[0][1])\n",
    "\n",
    "ax[0][0].set_xticklabels([\"Biomasse\",\"Wasserkraft\",\"Photovolatik\",\"Windkraft\",\"Geothermie\",\"Pumpspeicher\"],fontsize=14)\n",
    "ax[0][1].set_xticklabels([\"Geothermie\"],fontsize=14)\n",
    "ax[0][0].get_yaxis().set_major_formatter(matplotlib.ticker.FuncFormatter(lambda x, loc: locale.format_string('%d', x, 1)))\n",
    "\n",
    "dfToPlot = pd.DataFrame()\n",
    "for i in range(0,len(li_Carbon_NRE),1):\n",
    "    dfToPlot[li_Carbon_NRE[i]] = df_2015_2019[li_Carbon_NRE[i]]\n",
    "    \n",
    "sns.boxplot(palette=li_Colors_NRE, data=dfToPlot, ax = ax[1][0])\n",
    "\n",
    "dfToPlot = dfToPlot.drop([\"power_consumption_coal_avg\",\"power_consumption_gas_avg\"\n",
    "                          ,\"power_consumption_unknown_avg\",\"power_consumption_nuclear_avg\"], axis = 1)\n",
    "\n",
    "sns.boxplot(palette=[\"brown\"], \n",
    "              data=dfToPlot, ax = ax[1][1])\n",
    "\n",
    "ax[1][0].set_xticklabels([\"Kohle\",\"Gas\",\"Nuklear\",\"Öl\",\"Unbekannt\"],fontsize=14)\n",
    "ax[1][1].set_xticklabels([\"Öl\"],fontsize=14)\n",
    "ax[1][0].get_yaxis().set_major_formatter(matplotlib.ticker.FuncFormatter(lambda x, loc: locale.format_string('%d', x, 1)))\n",
    "\n",
    "for i in range(0,2,1):\n",
    "    for j in range(0,2,1):\n",
    "        ax[j][i].set_ylabel(\"Verbrauchter Strom [MW]\", fontsize = 14)\n",
    "\n",
    "#change width of legend color lines\n",
    "for legobj in leg.legendHandles:\n",
    "    legobj.set_linewidth(3.0)\n",
    "    \n",
    "fig.suptitle('Verteilung des Stromverbrauches für erneuerbare\\n sowie nicht erneuerbare Energieträger', fontsize=20)\n",
    "\n",
    "#Move other axis out of the way\n",
    "pos = ax[0][0].get_position()\n",
    "pos.y1 = 0.99    #height\n",
    "ax[0][0].set_position(pos)\n",
    "\n",
    "plt.tight_layout()\n",
    "plt.savefig(\"../Bilder/Verteilung Stromverbrauch Energieträger\", bbox_inches = 'tight',pad_inches = 0.08)"
   ]
  },
  {
   "cell_type": "code",
   "execution_count": 28,
   "metadata": {
    "ExecuteTime": {
     "end_time": "2021-01-15T10:37:22.487672Z",
     "start_time": "2021-01-15T10:37:21.074483Z"
    },
    "code_folding": [
     4
    ],
    "run_control": {
     "marked": false
    }
   },
   "outputs": [
    {
     "data": {
      "application/vnd.jupyter.widget-view+json": {
       "model_id": "7977f1d6e9e14d598704eafc1a9b1f9e",
       "version_major": 2,
       "version_minor": 0
      },
      "text/plain": [
       "Canvas(toolbar=Toolbar(toolitems=[('Home', 'Reset original view', 'home', 'home'), ('Back', 'Back to previous …"
      ]
     },
     "metadata": {},
     "output_type": "display_data"
    }
   ],
   "source": [
    "fig, ax = plt.subplots(2,2, figsize=(12.5,8),gridspec_kw={'width_ratios': [3, 1]})\n",
    "\n",
    "\n",
    "\n",
    "li_Carbon_RE = [\"power_origin_percent_biomass_avg\",\"power_origin_percent_hydro_avg\",\"power_origin_percent_solar_avg\",\n",
    "               \"power_origin_percent_wind_avg\",\"power_origin_percent_geothermal_avg\",\"power_origin_percent_hydro_discharge_avg\"]\n",
    "\n",
    "li_Carbon_NRE = [\"power_origin_percent_coal_avg\",\"power_origin_percent_gas_avg\",\"power_origin_percent_nuclear_avg\",\n",
    "                \"power_origin_percent_oil_avg\",\"power_origin_percent_unknown_avg\"]\n",
    "               \n",
    "\n",
    "li_Colors_RE = [\"green\", \"#0088ff\", \"orange\", \"grey\" , \"brown\", \"#0000ff\"]\n",
    "\n",
    "li_Colors_NRE = [\"grey\", \"purple\", \"#b4b88a\", \"brown\" , \"red\"]\n",
    "\n",
    "dfToPlot = pd.DataFrame()\n",
    "for i in range(0,len(li_Carbon_RE),1):\n",
    "    dfToPlot[li_Carbon_RE[i]] = df_2015_2019[li_Carbon_RE[i]]\n",
    "sns.boxplot(palette=li_Colors_RE,  data=dfToPlot, ax = ax[0][0])\n",
    "\n",
    "sns.boxplot(y = \"power_origin_percent_geothermal_avg\",palette=[\"grey\"], \n",
    "              data=dfToPlot, ax = ax[0][1])\n",
    "\n",
    "ax[0][0].set_xticklabels([\"Biomasse\",\"Wasserkraft\",\"Photovolatik\",\"Windkraft\",\"Geothermie\",\"Pumpspeicher\"],fontsize=14)\n",
    "ax[0][1].set_xticklabels([\"Geothermie\"],fontsize=14)\n",
    "\n",
    "dfToPlot = pd.DataFrame()\n",
    "for i in range(0,len(li_Carbon_NRE),1):\n",
    "    dfToPlot[li_Carbon_NRE[i]] = df_2015_2019[li_Carbon_NRE[i]]\n",
    "    \n",
    "sns.boxplot(palette=li_Colors_NRE, data=dfToPlot, ax = ax[1][0])\n",
    "\n",
    "dfToPlot = dfToPlot.drop([\"power_origin_percent_coal_avg\",\"power_origin_percent_gas_avg\"\n",
    "                          ,\"power_origin_percent_unknown_avg\",\"power_origin_percent_nuclear_avg\"], axis = 1)\n",
    "\n",
    "sns.boxplot(palette=[\"brown\"], \n",
    "              data=dfToPlot, ax = ax[1][1])\n",
    "\n",
    "ax[1][0].set_xticklabels([\"Kohle\",\"Gas\",\"Nuklear\",\"Öl\",\"Unbekannt\"],fontsize=14)\n",
    "ax[1][1].set_xticklabels([\"Öl\"],fontsize=14)\n",
    "\n",
    "\n",
    "for i in range(0,2,1):\n",
    "    for j in range(0,2,1):\n",
    "        ax[j][i].set_ylabel(\"Verbrauchter Strom [%]\", fontsize = 14)\n",
    "\n",
    "#change width of legend color lines\n",
    "for legobj in leg.legendHandles:\n",
    "    legobj.set_linewidth(3.0)\n",
    "    \n",
    "fig.suptitle('Verteilung des Stromverbrauches für erneuerbare\\n sowie nicht erneuerbare Energieträger in Prozent', fontsize=20)\n",
    "\n",
    "#Move other axis out of the way\n",
    "pos = ax[0][0].get_position()\n",
    "pos.y1 = 0.99    #height\n",
    "ax[0][0].set_position(pos)\n",
    "\n",
    "plt.tight_layout()\n",
    "plt.savefig(\"../Bilder/Verteilung Stromverbrauch Energieträger prozent\", bbox_inches = 'tight',pad_inches = 0.08)"
   ]
  },
  {
   "cell_type": "code",
   "execution_count": null,
   "metadata": {
    "ExecuteTime": {
     "end_time": "2020-11-19T17:29:38.639967Z",
     "start_time": "2020-11-19T17:29:38.629994Z"
    }
   },
   "outputs": [],
   "source": []
  },
  {
   "cell_type": "code",
   "execution_count": 29,
   "metadata": {
    "ExecuteTime": {
     "end_time": "2021-01-15T10:37:22.761968Z",
     "start_time": "2021-01-15T10:37:22.488670Z"
    },
    "scrolled": false
   },
   "outputs": [
    {
     "name": "stdout",
     "output_type": "stream",
     "text": [
      "~~~~~~~~~~~~~~~~~~~~~~~~~~~~~~~~~~~~~~~~~~~~~~~~~~~~~~~~~~~~~~~~~~~~~~~~~~~~~~~~~~~~~~~~~~~~~~~~~~~~ \n",
      "stellt die stromprouktion über die Jahre aufgeteilt auf die einzelnen energieträger dar\n",
      "Bin mir aber ziemlich sicher dass die Power_origin_percent auf verbrauchten strom deuten\n",
      "Siehe anteil an Nuklear sowie großer Kohleanteil\n",
      "~~~~~~~~~~~~~~~~~~~~~~~~~~~~~~~~~~~~~~~~~~~~~~~~~~~~~~~~~~~~~~~~~~~~~~~~~~~~~~~~~~~~~~~~~~~~~~~~~~~~ \n"
     ]
    },
    {
     "data": {
      "application/vnd.jupyter.widget-view+json": {
       "model_id": "e3a8de0ff5e14ca49e76e2996f16d934",
       "version_major": 2,
       "version_minor": 0
      },
      "text/plain": [
       "Canvas(toolbar=Toolbar(toolitems=[('Home', 'Reset original view', 'home', 'home'), ('Back', 'Back to previous …"
      ]
     },
     "metadata": {},
     "output_type": "display_data"
    }
   ],
   "source": [
    "print(\"~~~~~~~~~~~~~~~~~~~~~~~~~~~~~~~~~~~~~~~~~~~~~~~~~~~~~~~~~~~~~~~~~~~~~~~~~~~~~~~~~~~~~~~~~~~~~~~~~~~~ \")\n",
    "print(\"stellt die stromprouktion über die Jahre aufgeteilt auf die einzelnen energieträger dar\")\n",
    "print(\"Bin mir aber ziemlich sicher dass die Power_origin_percent auf verbrauchten strom deuten\")\n",
    "print(\"Siehe anteil an Nuklear sowie großer Kohleanteil\")\n",
    "print(\"~~~~~~~~~~~~~~~~~~~~~~~~~~~~~~~~~~~~~~~~~~~~~~~~~~~~~~~~~~~~~~~~~~~~~~~~~~~~~~~~~~~~~~~~~~~~~~~~~~~~ \")\n",
    "\n",
    "\n",
    "colors = [\"orange\", \"cyan\"]\n",
    "\n",
    "\n",
    "\n",
    "li_ToPLot = [\"power_consumption_solar_avg\",\"power_consumption_wind_avg\",]\n",
    "\n",
    "li_Legend = [\"Photovoltaik\",\"Wind\"]\n",
    "\n",
    "fig, ax = plt.subplots(figsize=(12, 5))\n",
    "#labels = dfToPlot.index\n",
    "df_2015_2019_weekly = df_2015_2019[li_ToPLot].resample(\"W\").mean()\n",
    "dfToPlot = df_2015_2019_weekly[li_ToPLot]\n",
    "dfToPlot.plot(kind = \"area\",ax=ax, color = colors )\n",
    "leg = ax.legend(loc=\"upper left\",  labels = li_Legend, fontsize = 14,facecolor='#f5f5f5', framealpha=1)\n",
    "\n",
    "ax.set_xlabel('')\n",
    "ax.set_ylabel('Stromproduktion [MW]', fontsize = 14)\n",
    "fig.suptitle('Vergleich von Wind mit Photovoltaik über die Jahre 2015-2020', fontsize=20, x = 0.45)\n",
    "\n",
    "for legobj in leg.legendHandles:\n",
    "    legobj.set_linewidth(5.0)\n",
    "\n",
    "\n",
    "#Move other axis out of the way\n",
    "pos = ax.get_position()\n",
    "pos.y1 = 0.95   #height\n",
    "ax.set_position(pos)\n",
    "ax.get_yaxis().set_major_formatter(matplotlib.ticker.FuncFormatter(lambda x, loc: locale.format_string('%d', x, 1)))\n",
    "plt.tight_layout()\n",
    "plt.savefig(\"../Bilder/Vergleich_Wid_Solar\", bbox_inches = 'tight',pad_inches = 0.08)"
   ]
  },
  {
   "cell_type": "markdown",
   "metadata": {},
   "source": [
    "# Primärenergie"
   ]
  },
  {
   "cell_type": "code",
   "execution_count": 30,
   "metadata": {
    "ExecuteTime": {
     "end_time": "2021-01-15T10:37:22.841727Z",
     "start_time": "2021-01-15T10:37:22.762938Z"
    }
   },
   "outputs": [],
   "source": [
    "PE_NR = 1.02 #Non renewable PE factor\n",
    "PE_R = 0.61  #Renewable PE factor\n",
    "\n",
    "\n",
    "for PE_Choose in range(0,12,1):\n",
    "         #We have to create the Dataframe new every time to prevent a bug where only the first month would be plotted\n",
    " \n",
    "        PE_NR = df_OIB_RL6[\"fPE,n.ern\"].loc[PE_Choose] #Non renewable PE factor\n",
    "        PE_R = df_OIB_RL6[\"fPE,ern\"].loc[PE_Choose]  #Renewable PE factor\n",
    "\n",
    "        df_2015_2019[\"PE_renewable\"] = (df_2015_2019[\"power_consumption_biomass_avg\"] + df_2015_2019[\"power_consumption_hydro_avg\"] \\\n",
    "                                + df_2015_2019[\"power_consumption_solar_avg\"] + df_2015_2019[\"power_consumption_wind_avg\"] \\\n",
    "                                + df_2015_2019[\"power_consumption_geothermal_avg\"]) * PE_R\n",
    "\n",
    "        df_2015_2019[\"PE_not_renewable\"] = (df_2015_2019[\"power_consumption_coal_avg\"] + df_2015_2019[\"power_consumption_gas_avg\"] \\\n",
    "                                + df_2015_2019[\"power_consumption_nuclear_avg\"] + df_2015_2019[\"power_consumption_oil_avg\"] \\\n",
    "                                + df_2015_2019[\"power_consumption_unknown_avg\"]) * PE_NR\n",
    "\n",
    "\n",
    "\n",
    "\n",
    "\n",
    "df_2015_2019[\"PE_renewable\"] = (df_2015_2019[\"power_consumption_biomass_avg\"] + df_2015_2019[\"power_consumption_hydro_avg\"] \\\n",
    "                            + df_2015_2019[\"power_consumption_solar_avg\"] + df_2015_2019[\"power_consumption_wind_avg\"] \\\n",
    "                            + df_2015_2019[\"power_consumption_geothermal_avg\"]) * PE_R\n",
    "\n",
    "df_2015_2019[\"PE_not_renewable\"] = (df_2015_2019[\"power_consumption_coal_avg\"] + df_2015_2019[\"power_consumption_gas_avg\"] \\\n",
    "                            + df_2015_2019[\"power_consumption_nuclear_avg\"] + df_2015_2019[\"power_consumption_oil_avg\"] \\\n",
    "                            + df_2015_2019[\"power_consumption_unknown_avg\"]) * PE_NR\n",
    "\n",
    "df_2015_2019[\"PE_renewable_percent\"] = 100 * df_2015_2019[\"PE_renewable\"] / \\\n",
    "                                            (df_2015_2019[\"PE_renewable\"] + df_2015_2019[\"PE_not_renewable\"])\n",
    "\n",
    "df_2015_2019[\"PE_not_renewable_percent\"] = 100 * df_2015_2019[\"PE_not_renewable\"] / \\\n",
    "                                            (df_2015_2019[\"PE_renewable\"] + df_2015_2019[\"PE_not_renewable\"])\n",
    "\n",
    "\n"
   ]
  },
  {
   "cell_type": "code",
   "execution_count": null,
   "metadata": {
    "ExecuteTime": {
     "end_time": "2020-11-25T15:51:11.473538Z",
     "start_time": "2020-11-25T15:51:11.434642Z"
    }
   },
   "outputs": [],
   "source": []
  },
  {
   "cell_type": "code",
   "execution_count": 31,
   "metadata": {
    "ExecuteTime": {
     "end_time": "2021-01-15T10:37:22.869652Z",
     "start_time": "2021-01-15T10:37:22.843721Z"
    }
   },
   "outputs": [],
   "source": [
    "\n",
    "def makeDF():\n",
    "    dfToPlot = pd.DataFrame( np.linspace(0,0,len(df_2015_2019)) )\n",
    "    dfToPlot[\"datetime\"] = df_2015_2019[\"month\"]\n",
    "    dfToPlot = dfToPlot.drop(\"datetime\", axis = 1)\n",
    "    dfToPlot[\"PE_RE_consumption\"] = 0\n",
    "    dfToPlot[\"PE_NRE_consumption\"] = 0\n",
    "    \n",
    "    \n",
    "    li_RE_consumption = [(df_2015_2019[\"power_consumption_biomass_avg\"] \\\n",
    "                                + df_2015_2019[\"power_consumption_hydro_avg\"] \\\n",
    "                                + df_2015_2019[\"power_consumption_solar_avg\"] \\\n",
    "                                + df_2015_2019[\"power_consumption_wind_avg\"] \\\n",
    "                                + df_2015_2019[\"power_consumption_geothermal_avg\"] \\\n",
    "                                + df_2015_2019[\"power_consumption_hydro_discharge_avg\"])]\n",
    "    \n",
    "    li_NRE_consumption = [(df_2015_2019[\"power_consumption_coal_avg\"] \\\n",
    "                                    + df_2015_2019[\"power_consumption_gas_avg\"] \\\n",
    "                                    + df_2015_2019[\"power_consumption_nuclear_avg\"] \\\n",
    "                                    + df_2015_2019[\"power_consumption_oil_avg\"] \\\n",
    "                                    + df_2015_2019[\"power_consumption_unknown_avg\"])]\n",
    "     \n",
    "    \n",
    "    \n",
    "    for row in range(0,len(df_2015_2019),1):\n",
    "        if df_2015_2019[\"month\"][row] == 1:\n",
    "            dfToPlot[\"PE_RE_consumption\"].loc[row] = li_RE_consumption[0][row] * df_OIB_RL6[\"fPE,ern\"].loc[0]\n",
    "            dfToPlot[\"PE_NRE_consumption\"].loc[row] = li_NRE_consumption[0][row] * df_OIB_RL6[\"fPE,n.ern\"].loc[0] \n",
    "            \n",
    "        elif df_2015_2019[\"month\"][row] == 2:\n",
    "            dfToPlot[\"PE_RE_consumption\"].loc[row] = li_RE_consumption[0][row] * df_OIB_RL6[\"fPE,ern\"].loc[1]\n",
    "            dfToPlot[\"PE_NRE_consumption\"].loc[row] = li_NRE_consumption[0][row] * df_OIB_RL6[\"fPE,n.ern\"].loc[1]\n",
    "            \n",
    "        elif df_2015_2019[\"month\"][row] == 3:  \n",
    "            dfToPlot[\"PE_RE_consumption\"].loc[row] = li_RE_consumption[0][row] * df_OIB_RL6[\"fPE,ern\"].loc[2]\n",
    "            dfToPlot[\"PE_NRE_consumption\"].loc[row] = li_NRE_consumption[0][row] * df_OIB_RL6[\"fPE,n.ern\"].loc[2]\n",
    "            \n",
    "        elif df_2015_2019[\"month\"][row] == 4:\n",
    "            dfToPlot[\"PE_RE_consumption\"].loc[row] = li_RE_consumption[0][row] * df_OIB_RL6[\"fPE,ern\"].loc[3]\n",
    "            dfToPlot[\"PE_NRE_consumption\"].loc[row] = li_NRE_consumption[0][row] * df_OIB_RL6[\"fPE,n.ern\"].loc[3]\n",
    "            \n",
    "        elif df_2015_2019[\"month\"][row] == 5:\n",
    "            dfToPlot[\"PE_RE_consumption\"].loc[row] = li_RE_consumption[0][row] * df_OIB_RL6[\"fPE,ern\"].loc[4]\n",
    "            dfToPlot[\"PE_NRE_consumption\"].loc[row] = li_NRE_consumption[0][row] * df_OIB_RL6[\"fPE,n.ern\"].loc[4]\n",
    "            \n",
    "        elif df_2015_2019[\"month\"][row] == 6:\n",
    "            dfToPlot[\"PE_RE_consumption\"].loc[row] = li_RE_consumption[0][row] * df_OIB_RL6[\"fPE,ern\"].loc[5]\n",
    "            dfToPlot[\"PE_NRE_consumption\"].loc[row] = li_NRE_consumption[0][row] * df_OIB_RL6[\"fPE,n.ern\"].loc[5]\n",
    "            \n",
    "        elif df_2015_2019[\"month\"][row] == 7:\n",
    "            dfToPlot[\"PE_RE_consumption\"].loc[row] = li_RE_consumption[0][row] * df_OIB_RL6[\"fPE,ern\"].loc[6]\n",
    "            dfToPlot[\"PE_NRE_consumption\"].loc[row] = li_NRE_consumption[0][row] * df_OIB_RL6[\"fPE,n.ern\"].loc[6]\n",
    "            \n",
    "        elif df_2015_2019[\"month\"][row] == 8:\n",
    "            dfToPlot[\"PE_RE_consumption\"].loc[row] = li_RE_consumption[0][row] * df_OIB_RL6[\"fPE,ern\"].loc[7]\n",
    "            dfToPlot[\"PE_NRE_consumption\"].loc[row] = li_NRE_consumption[0][row] * df_OIB_RL6[\"fPE,n.ern\"].loc[7]\n",
    "            \n",
    "        elif df_2015_2019[\"month\"][row] == 9:\n",
    "            dfToPlot[\"PE_RE_consumption\"].loc[row] = li_RE_consumption[0][row] * df_OIB_RL6[\"fPE,ern\"].loc[8]\n",
    "            dfToPlot[\"PE_NRE_consumption\"].loc[row] = li_NRE_consumption[0][row] * df_OIB_RL6[\"fPE,n.ern\"].loc[8]\n",
    "            \n",
    "        elif df_2015_2019[\"month\"][row] == 10:\n",
    "            dfToPlot[\"PE_RE_consumption\"].loc[row] = li_RE_consumption[0][row] * df_OIB_RL6[\"fPE,ern\"].loc[9]\n",
    "            dfToPlot[\"PE_NRE_consumption\"].loc[row] = li_NRE_consumption[0][row] * df_OIB_RL6[\"fPE,n.ern\"].loc[9]\n",
    "            \n",
    "        elif df_2015_2019[\"month\"][row] == 11:\n",
    "            dfToPlot[\"PE_RE_consumption\"].loc[row] = li_RE_consumption[0][row] * df_OIB_RL6[\"fPE,ern\"].loc[10]\n",
    "            dfToPlot[\"PE_NRE_consumption\"].loc[row] = li_NRE_consumption[0][row] * df_OIB_RL6[\"fPE,n.ern\"].loc[10]\n",
    "            \n",
    "        elif df_2015_2019[\"month\"][row] == 12:\n",
    "            dfToPlot[\"PE_RE_consumption\"].loc[row] = li_RE_consumption[0][row] * df_OIB_RL6[\"fPE,ern\"].loc[11]\n",
    "            dfToPlot[\"PE_NRE_consumption\"].loc[row] = li_NRE_consumption[0][row] * df_OIB_RL6[\"fPE,n.ern\"].loc[11]\n",
    "    \n",
    "                               \n",
    "    \n",
    "\n",
    " \n",
    "    return dfToPlot"
   ]
  },
  {
   "cell_type": "code",
   "execution_count": null,
   "metadata": {
    "ExecuteTime": {
     "end_time": "2020-11-19T17:22:00.745377Z",
     "start_time": "2020-11-19T17:22:00.412269Z"
    },
    "code_folding": [],
    "run_control": {
     "marked": false
    }
   },
   "outputs": [],
   "source": []
  },
  {
   "cell_type": "code",
   "execution_count": 45,
   "metadata": {
    "ExecuteTime": {
     "end_time": "2021-01-15T10:56:39.723187Z",
     "start_time": "2021-01-15T10:54:46.902293Z"
    }
   },
   "outputs": [
    {
     "data": {
      "application/vnd.jupyter.widget-view+json": {
       "model_id": "013a853056d84bdc98fdc5f745cbaf38",
       "version_major": 2,
       "version_minor": 0
      },
      "text/plain": [
       "Canvas(toolbar=Toolbar(toolitems=[('Home', 'Reset original view', 'home', 'home'), ('Back', 'Back to previous …"
      ]
     },
     "metadata": {},
     "output_type": "display_data"
    }
   ],
   "source": [
    "fig, ax = plt.subplots(4,2, figsize=(12, 10),gridspec_kw={'width_ratios': [5, 1]})\n",
    "fig.suptitle('Primärenergie des Jahres 2019', fontsize=20)\n",
    "tickPos = 0\n",
    "\n",
    "\n",
    "li_Months = [\"Jänner\",\"Februar\",\"März\",\"April\",\"Mai\",\"Juni\",\"Juli\",\"August\",\"September\",\"Oktober\",\"November\",\"Dezember\"]\n",
    "li_Quarter = [\"Quartal: Januar - März\", \"Quartal: April - Juni\", \"Quartal: Juli - September\", \"Quartal: Oktober - Dezember\"]\n",
    "\n",
    "\n",
    "def makeDF():\n",
    "    dfToPlot = pd.DataFrame()\n",
    "    dfToPlot[\"PE_RE_consumption\"] = 0\n",
    "    dfToPlot[\"PE_NRE_consumption\"] = 0\n",
    "    \n",
    "    dfToPlot[\"RE_consumption\"] = (df_2015_2019[\"power_consumption_biomass_avg\"] \\\n",
    "                                + df_2015_2019[\"power_consumption_hydro_avg\"] \\\n",
    "                                + df_2015_2019[\"power_consumption_solar_avg\"] \\\n",
    "                                + df_2015_2019[\"power_consumption_wind_avg\"] \\\n",
    "                                + df_2015_2019[\"power_consumption_geothermal_avg\"] \\\n",
    "                                + df_2015_2019[\"power_consumption_hydro_discharge_avg\"])\n",
    "    \n",
    "    dfToPlot[\"NRE_consumption\"] = (df_2015_2019[\"power_consumption_coal_avg\"] \\\n",
    "                                    + df_2015_2019[\"power_consumption_gas_avg\"] \\\n",
    "                                    + df_2015_2019[\"power_consumption_nuclear_avg\"] \\\n",
    "                                    + df_2015_2019[\"power_consumption_oil_avg\"] \\\n",
    "                                    + df_2015_2019[\"power_consumption_unknown_avg\"]) \n",
    "     \n",
    "    \n",
    "    \n",
    "    for row in range(0,len(df_2015_2019),1):\n",
    "        if df_2015_2019[\"month\"][row] == 1:\n",
    "            dfToPlot[\"PE_RE_consumption\"][row] = dfToPlot[\"RE_consumption\"][row] * df_OIB_RL6[\"fPE,ern\"].loc[0]\n",
    "            dfToPlot[\"PE_NRE_consumption\"][row] = dfToPlot[\"NRE_consumption\"][row] * df_OIB_RL6[\"fPE,n.ern\"].loc[0] \n",
    "            \n",
    "        elif df_2015_2019[\"month\"][row] == 2:\n",
    "            dfToPlot[\"PE_RE_consumption\"][row] = dfToPlot[\"RE_consumption\"][row] * df_OIB_RL6[\"fPE,ern\"].loc[1]\n",
    "            dfToPlot[\"PE_NRE_consumption\"][row] = dfToPlot[\"NRE_consumption\"][row] * df_OIB_RL6[\"fPE,n.ern\"].loc[1]\n",
    "            \n",
    "        elif df_2015_2019[\"month\"][row] == 3:  \n",
    "            dfToPlot[\"PE_RE_consumption\"][row] = dfToPlot[\"RE_consumption\"][row] * df_OIB_RL6[\"fPE,ern\"].loc[2]\n",
    "            dfToPlot[\"PE_NRE_consumption\"][row] = dfToPlot[\"NRE_consumption\"][row] * df_OIB_RL6[\"fPE,n.ern\"].loc[2]\n",
    "            \n",
    "        elif df_2015_2019[\"month\"][row] == 4:\n",
    "            dfToPlot[\"PE_RE_consumption\"][row] = dfToPlot[\"RE_consumption\"][row] * df_OIB_RL6[\"fPE,ern\"].loc[3]\n",
    "            dfToPlot[\"PE_NRE_consumption\"][row] = dfToPlot[\"NRE_consumption\"][row] * df_OIB_RL6[\"fPE,n.ern\"].loc[3]\n",
    "            \n",
    "        elif df_2015_2019[\"month\"][row] == 5:\n",
    "            dfToPlot[\"PE_RE_consumption\"][row] = dfToPlot[\"RE_consumption\"][row] * df_OIB_RL6[\"fPE,ern\"].loc[4]\n",
    "            dfToPlot[\"PE_NRE_consumption\"][row] = dfToPlot[\"NRE_consumption\"][row] * df_OIB_RL6[\"fPE,n.ern\"].loc[4]\n",
    "            \n",
    "        elif df_2015_2019[\"month\"][row] == 6:\n",
    "            dfToPlot[\"PE_RE_consumption\"][row] = dfToPlot[\"RE_consumption\"][row] * df_OIB_RL6[\"fPE,ern\"].loc[5]\n",
    "            dfToPlot[\"PE_NRE_consumption\"][row] = dfToPlot[\"NRE_consumption\"][row] * df_OIB_RL6[\"fPE,n.ern\"].loc[5]\n",
    "            \n",
    "        elif df_2015_2019[\"month\"][row] == 7:\n",
    "            dfToPlot[\"PE_RE_consumption\"][row] = dfToPlot[\"RE_consumption\"][row] * df_OIB_RL6[\"fPE,ern\"].loc[6]\n",
    "            dfToPlot[\"PE_NRE_consumption\"][row] = dfToPlot[\"NRE_consumption\"][row] * df_OIB_RL6[\"fPE,n.ern\"].loc[6]\n",
    "            \n",
    "        elif df_2015_2019[\"month\"][row] == 8:\n",
    "            dfToPlot[\"PE_RE_consumption\"][row] = dfToPlot[\"RE_consumption\"][row] * df_OIB_RL6[\"fPE,ern\"].loc[7]\n",
    "            dfToPlot[\"PE_NRE_consumption\"][row] = dfToPlot[\"NRE_consumption\"][row] * df_OIB_RL6[\"fPE,n.ern\"].loc[7]\n",
    "            \n",
    "        elif df_2015_2019[\"month\"][row] == 9:\n",
    "            dfToPlot[\"PE_RE_consumption\"][row] = dfToPlot[\"RE_consumption\"][row] * df_OIB_RL6[\"fPE,ern\"].loc[8]\n",
    "            dfToPlot[\"PE_NRE_consumption\"][row] = dfToPlot[\"NRE_consumption\"][row] * df_OIB_RL6[\"fPE,n.ern\"].loc[8]\n",
    "            \n",
    "        elif df_2015_2019[\"month\"][row] == 10:\n",
    "            dfToPlot[\"PE_RE_consumption\"][row] = dfToPlot[\"RE_consumption\"][row] * df_OIB_RL6[\"fPE,ern\"].loc[9]\n",
    "            dfToPlot[\"PE_NRE_consumption\"][row] = dfToPlot[\"NRE_consumption\"][row] * df_OIB_RL6[\"fPE,n.ern\"].loc[9]\n",
    "            \n",
    "        elif df_2015_2019[\"month\"][row] == 11:\n",
    "            dfToPlot[\"PE_RE_consumption\"][row] = dfToPlot[\"RE_consumption\"][row] * df_OIB_RL6[\"fPE,ern\"].loc[10]\n",
    "            dfToPlot[\"PE_NRE_consumption\"][row] = dfToPlot[\"NRE_consumption\"][row] * df_OIB_RL6[\"fPE,n.ern\"].loc[10]\n",
    "            \n",
    "        elif df_2015_2019[\"month\"][row] == 12:\n",
    "            dfToPlot[\"PE_RE_consumption\"][row] = dfToPlot[\"RE_consumption\"][row] * df_OIB_RL6[\"fPE,ern\"].loc[11]\n",
    "            dfToPlot[\"PE_NRE_consumption\"][row] = dfToPlot[\"NRE_consumption\"][row] * df_OIB_RL6[\"fPE,n.ern\"].loc[11]\n",
    "\n",
    "    return dfToPlot\n",
    "\n",
    "\n",
    "for quarter in range(0,4,1):\n",
    "    df_ToPlot = makeDF()\n",
    "    #Filter the DataFrame to all Values in the Year 2019\n",
    "    df_ToPlot = df_ToPlot[df_ToPlot.index.year == 2019]\n",
    "    #Filter the DataFrame to all Values for the selected month\n",
    "    #The Xticklabels wont work properly if the next line is present\n",
    "    df_ToPlot = df_ToPlot[df_ToPlot.index.quarter == (quarter+1)]\n",
    "    #For some reason we have to create series to transfer the new data to a new dataframe or else \n",
    "    #we cant delete xticklabels\n",
    "    dfToPlot_BugFree = pd.DataFrame()    \n",
    "    ts = pd.Series(df_ToPlot['PE_RE_consumption'].values)\n",
    "    dfToPlot_BugFree[\"PE_RE_consumption\"] = ts\n",
    "    ts = pd.Series(df_ToPlot['PE_NRE_consumption'].values)\n",
    "    dfToPlot_BugFree[\"PE_NRE_consumption\"] = ts \n",
    "    \n",
    "    dfToPlot_BugFree.plot(kind=\"area\", color=[\"green\",\"grey\"], stacked=True, ax=ax[quarter][0], legend=False);\n",
    "    \n",
    "    #ax2 = ax[quarter].twinx()  # instantiate a second axes that shares the same x-axis\n",
    "    #sns.lineplot(x =\"hour\", y= \"PE_renewable_percent\" , data = df_2015_2019 , ax = ax2, color = \"yellow\")\n",
    "    #dfToPlot[\"PE_renewable\"].plot(kind = \"line\" ,ax = ax2 )\n",
    "    \n",
    "    ticklen = len(dfToPlot_BugFree)/3\n",
    "    ticklen = [0,ticklen,ticklen*2]\n",
    "    \n",
    "    ax[quarter][0].set_xticks(ticklen)\n",
    "    ax[quarter][0].set_xticklabels([li_Months[tickPos],li_Months[tickPos+1],li_Months[tickPos+2]], fontsize = 14)\n",
    "    tickPos += 3\n",
    "    ax[quarter][0].tick_params(axis=\"x\", which='both',length=0)\n",
    "    ax[quarter][0].set_ylabel(\"Primärenergie\\n[MW]\", fontsize = 14)\n",
    "    ax[quarter][0].set_xlabel(\"\")\n",
    "    ax[quarter][0].set_title(li_Quarter[quarter])\n",
    "    ax[quarter][0].set_ylim(0,10000)\n",
    "    ax[quarter][0].get_yaxis().set_major_formatter(matplotlib.ticker.FuncFormatter(lambda x, loc: locale.format_string('%d', x, 1)))\n",
    "    dti_2030 = pd.date_range('2030-01-01', periods=len(dfToPlot_BugFree), freq='H')\n",
    "    dfToPlot_BugFree = dfToPlot_BugFree.set_index(dti_2030)\n",
    "    dfToPlot_BugFree[\"PE_RE_consumption\"] = 100 * dfToPlot_BugFree[\"PE_RE_consumption\"] / \\\n",
    "                                            (dfToPlot_BugFree[\"PE_NRE_consumption\"]+ dfToPlot_BugFree[\"PE_RE_consumption\"])\n",
    "    dfToPlot_BugFree[\"PE_NRE_consumption\"] = 100- dfToPlot_BugFree[\"PE_RE_consumption\"]\n",
    "    dfToPlot_BugFree.resample(\"Y\").mean().plot(kind='bar', stacked=True, ax = ax[quarter][1], color = [\"green\",\"grey\"],legend=False)\n",
    "    ax[quarter][1].set_xlabel(\"\")\n",
    "    ax[quarter][1].set_ylabel(\"Prozent [%]\")\n",
    "    ax[quarter][1].set_xticklabels(\"\")\n",
    "    ax[quarter][1].tick_params(\n",
    "    axis='x',          # changes apply to the x-axis\n",
    "    which='both',      # both major and minor ticks are affected\n",
    "    bottom=False,      # ticks along the bottom edge are off\n",
    "    top=False,         # ticks along the top edge are off\n",
    "    labelbottom=False) # labels along the bottom edge are off\n",
    "\n",
    "\n",
    "leg = fig.legend(labels = [\"Erneuerbar\",\"Nicht Erneuerbar\"], bbox_to_anchor = [0.95, 1],\n",
    "             prop={'size': 14},facecolor='#f5f5f5', framealpha=1)\n",
    "#change width of legend color lines\n",
    "for legobj in leg.legendHandles:\n",
    "    legobj.set_linewidth(10.0)\n",
    "    \n",
    "\n",
    "#Move other axis out of the way\n",
    "pos = ax[0][0].get_position()\n",
    "pos.y1 = 0.96    #height\n",
    "ax[0][0].set_position(pos)\n",
    "\n",
    "plt.tight_layout()\n",
    "plt.savefig(\"../Bilder/PE bedarf 2019 nach Quartale\", bbox_inches = 'tight',pad_inches = 0.08)"
   ]
  },
  {
   "cell_type": "code",
   "execution_count": 33,
   "metadata": {
    "ExecuteTime": {
     "end_time": "2021-01-15T10:39:04.531162Z",
     "start_time": "2021-01-15T10:39:04.518227Z"
    }
   },
   "outputs": [
    {
     "data": {
      "text/html": [
       "<div>\n",
       "<style scoped>\n",
       "    .dataframe tbody tr th:only-of-type {\n",
       "        vertical-align: middle;\n",
       "    }\n",
       "\n",
       "    .dataframe tbody tr th {\n",
       "        vertical-align: top;\n",
       "    }\n",
       "\n",
       "    .dataframe thead th {\n",
       "        text-align: right;\n",
       "    }\n",
       "</style>\n",
       "<table border=\"1\" class=\"dataframe\">\n",
       "  <thead>\n",
       "    <tr style=\"text-align: right;\">\n",
       "      <th></th>\n",
       "      <th>PE_RE_consumption</th>\n",
       "      <th>PE_NRE_consumption</th>\n",
       "    </tr>\n",
       "  </thead>\n",
       "  <tbody>\n",
       "    <tr>\n",
       "      <th>2030-01-01 00:00:00</th>\n",
       "      <td>34.332927</td>\n",
       "      <td>65.667073</td>\n",
       "    </tr>\n",
       "    <tr>\n",
       "      <th>2030-01-01 01:00:00</th>\n",
       "      <td>30.990672</td>\n",
       "      <td>69.009328</td>\n",
       "    </tr>\n",
       "    <tr>\n",
       "      <th>2030-01-01 02:00:00</th>\n",
       "      <td>28.474860</td>\n",
       "      <td>71.525140</td>\n",
       "    </tr>\n",
       "    <tr>\n",
       "      <th>2030-01-01 03:00:00</th>\n",
       "      <td>26.081500</td>\n",
       "      <td>73.918500</td>\n",
       "    </tr>\n",
       "    <tr>\n",
       "      <th>2030-01-01 04:00:00</th>\n",
       "      <td>33.166955</td>\n",
       "      <td>66.833045</td>\n",
       "    </tr>\n",
       "    <tr>\n",
       "      <th>...</th>\n",
       "      <td>...</td>\n",
       "      <td>...</td>\n",
       "    </tr>\n",
       "    <tr>\n",
       "      <th>2030-04-02 19:00:00</th>\n",
       "      <td>40.143291</td>\n",
       "      <td>59.856709</td>\n",
       "    </tr>\n",
       "    <tr>\n",
       "      <th>2030-04-02 20:00:00</th>\n",
       "      <td>38.628267</td>\n",
       "      <td>61.371733</td>\n",
       "    </tr>\n",
       "    <tr>\n",
       "      <th>2030-04-02 21:00:00</th>\n",
       "      <td>38.554958</td>\n",
       "      <td>61.445042</td>\n",
       "    </tr>\n",
       "    <tr>\n",
       "      <th>2030-04-02 22:00:00</th>\n",
       "      <td>37.911941</td>\n",
       "      <td>62.088059</td>\n",
       "    </tr>\n",
       "    <tr>\n",
       "      <th>2030-04-02 23:00:00</th>\n",
       "      <td>39.691748</td>\n",
       "      <td>60.308252</td>\n",
       "    </tr>\n",
       "  </tbody>\n",
       "</table>\n",
       "<p>2208 rows × 2 columns</p>\n",
       "</div>"
      ],
      "text/plain": [
       "                     PE_RE_consumption  PE_NRE_consumption\n",
       "2030-01-01 00:00:00          34.332927           65.667073\n",
       "2030-01-01 01:00:00          30.990672           69.009328\n",
       "2030-01-01 02:00:00          28.474860           71.525140\n",
       "2030-01-01 03:00:00          26.081500           73.918500\n",
       "2030-01-01 04:00:00          33.166955           66.833045\n",
       "...                                ...                 ...\n",
       "2030-04-02 19:00:00          40.143291           59.856709\n",
       "2030-04-02 20:00:00          38.628267           61.371733\n",
       "2030-04-02 21:00:00          38.554958           61.445042\n",
       "2030-04-02 22:00:00          37.911941           62.088059\n",
       "2030-04-02 23:00:00          39.691748           60.308252\n",
       "\n",
       "[2208 rows x 2 columns]"
      ]
     },
     "execution_count": 33,
     "metadata": {},
     "output_type": "execute_result"
    }
   ],
   "source": [
    "dfToPlot_BugFree"
   ]
  },
  {
   "cell_type": "code",
   "execution_count": 34,
   "metadata": {
    "ExecuteTime": {
     "end_time": "2021-01-15T10:39:04.593994Z",
     "start_time": "2021-01-15T10:39:04.533157Z"
    },
    "scrolled": true
   },
   "outputs": [
    {
     "data": {
      "application/vnd.jupyter.widget-view+json": {
       "model_id": "d3be2f7472bd4d39a07bae50fc3c7b12",
       "version_major": 2,
       "version_minor": 0
      },
      "text/plain": [
       "Canvas(toolbar=Toolbar(toolitems=[('Home', 'Reset original view', 'home', 'home'), ('Back', 'Back to previous …"
      ]
     },
     "metadata": {},
     "output_type": "display_data"
    },
    {
     "data": {
      "text/plain": [
       "<matplotlib.axes._subplots.AxesSubplot at 0x20c3118d7f0>"
      ]
     },
     "execution_count": 34,
     "metadata": {},
     "output_type": "execute_result"
    }
   ],
   "source": [
    "fig, ax = plt.subplots( figsize=(5, 6))\n",
    "#dfToPlot_BugFree = dfToPlot_BugFree\n",
    "dfToPlot_BugFree[\"PE_RE_consumption\"] = 100 * dfToPlot_BugFree[\"PE_RE_consumption\"] / \\\n",
    "                                            (dfToPlot_BugFree[\"PE_NRE_consumption\"]+ dfToPlot_BugFree[\"PE_RE_consumption\"])\n",
    "dfToPlot_BugFree[\"PE_NRE_consumption\"] = 100- dfToPlot_BugFree[\"PE_RE_consumption\"]\n",
    "dfToPlot_BugFree.resample(\"Y\").mean().plot(kind='bar', stacked=True, ax = ax, color = [\"green\",\"grey\"],legend=False)"
   ]
  },
  {
   "cell_type": "code",
   "execution_count": 35,
   "metadata": {
    "ExecuteTime": {
     "end_time": "2021-01-15T10:39:04.612944Z",
     "start_time": "2021-01-15T10:39:04.596987Z"
    }
   },
   "outputs": [
    {
     "data": {
      "text/html": [
       "<div>\n",
       "<style scoped>\n",
       "    .dataframe tbody tr th:only-of-type {\n",
       "        vertical-align: middle;\n",
       "    }\n",
       "\n",
       "    .dataframe tbody tr th {\n",
       "        vertical-align: top;\n",
       "    }\n",
       "\n",
       "    .dataframe thead th {\n",
       "        text-align: right;\n",
       "    }\n",
       "</style>\n",
       "<table border=\"1\" class=\"dataframe\">\n",
       "  <thead>\n",
       "    <tr style=\"text-align: right;\">\n",
       "      <th></th>\n",
       "      <th>power_consumption_solar_avg</th>\n",
       "      <th>power_consumption_wind_avg</th>\n",
       "    </tr>\n",
       "    <tr>\n",
       "      <th>datetime</th>\n",
       "      <th></th>\n",
       "      <th></th>\n",
       "    </tr>\n",
       "  </thead>\n",
       "  <tbody>\n",
       "    <tr>\n",
       "      <th>2015-01-04 00:00:00+00:00</th>\n",
       "      <td>22.921603</td>\n",
       "      <td>911.359954</td>\n",
       "    </tr>\n",
       "    <tr>\n",
       "      <th>2015-01-11 00:00:00+00:00</th>\n",
       "      <td>30.600123</td>\n",
       "      <td>1066.657554</td>\n",
       "    </tr>\n",
       "    <tr>\n",
       "      <th>2015-01-18 00:00:00+00:00</th>\n",
       "      <td>43.313726</td>\n",
       "      <td>698.431425</td>\n",
       "    </tr>\n",
       "    <tr>\n",
       "      <th>2015-01-25 00:00:00+00:00</th>\n",
       "      <td>25.444136</td>\n",
       "      <td>544.489834</td>\n",
       "    </tr>\n",
       "    <tr>\n",
       "      <th>2015-02-01 00:00:00+00:00</th>\n",
       "      <td>37.871861</td>\n",
       "      <td>557.720102</td>\n",
       "    </tr>\n",
       "    <tr>\n",
       "      <th>...</th>\n",
       "      <td>...</td>\n",
       "      <td>...</td>\n",
       "    </tr>\n",
       "    <tr>\n",
       "      <th>2019-12-08 00:00:00+00:00</th>\n",
       "      <td>71.469154</td>\n",
       "      <td>1428.122481</td>\n",
       "    </tr>\n",
       "    <tr>\n",
       "      <th>2019-12-15 00:00:00+00:00</th>\n",
       "      <td>61.445153</td>\n",
       "      <td>1498.229860</td>\n",
       "    </tr>\n",
       "    <tr>\n",
       "      <th>2019-12-22 00:00:00+00:00</th>\n",
       "      <td>74.065936</td>\n",
       "      <td>1374.106933</td>\n",
       "    </tr>\n",
       "    <tr>\n",
       "      <th>2019-12-29 00:00:00+00:00</th>\n",
       "      <td>42.841448</td>\n",
       "      <td>1629.530731</td>\n",
       "    </tr>\n",
       "    <tr>\n",
       "      <th>2020-01-05 00:00:00+00:00</th>\n",
       "      <td>114.560726</td>\n",
       "      <td>1286.671117</td>\n",
       "    </tr>\n",
       "  </tbody>\n",
       "</table>\n",
       "<p>262 rows × 2 columns</p>\n",
       "</div>"
      ],
      "text/plain": [
       "                           power_consumption_solar_avg  \\\n",
       "datetime                                                 \n",
       "2015-01-04 00:00:00+00:00                    22.921603   \n",
       "2015-01-11 00:00:00+00:00                    30.600123   \n",
       "2015-01-18 00:00:00+00:00                    43.313726   \n",
       "2015-01-25 00:00:00+00:00                    25.444136   \n",
       "2015-02-01 00:00:00+00:00                    37.871861   \n",
       "...                                                ...   \n",
       "2019-12-08 00:00:00+00:00                    71.469154   \n",
       "2019-12-15 00:00:00+00:00                    61.445153   \n",
       "2019-12-22 00:00:00+00:00                    74.065936   \n",
       "2019-12-29 00:00:00+00:00                    42.841448   \n",
       "2020-01-05 00:00:00+00:00                   114.560726   \n",
       "\n",
       "                           power_consumption_wind_avg  \n",
       "datetime                                               \n",
       "2015-01-04 00:00:00+00:00                  911.359954  \n",
       "2015-01-11 00:00:00+00:00                 1066.657554  \n",
       "2015-01-18 00:00:00+00:00                  698.431425  \n",
       "2015-01-25 00:00:00+00:00                  544.489834  \n",
       "2015-02-01 00:00:00+00:00                  557.720102  \n",
       "...                                               ...  \n",
       "2019-12-08 00:00:00+00:00                 1428.122481  \n",
       "2019-12-15 00:00:00+00:00                 1498.229860  \n",
       "2019-12-22 00:00:00+00:00                 1374.106933  \n",
       "2019-12-29 00:00:00+00:00                 1629.530731  \n",
       "2020-01-05 00:00:00+00:00                 1286.671117  \n",
       "\n",
       "[262 rows x 2 columns]"
      ]
     },
     "execution_count": 35,
     "metadata": {},
     "output_type": "execute_result"
    }
   ],
   "source": [
    "dfToPlot"
   ]
  },
  {
   "cell_type": "code",
   "execution_count": 46,
   "metadata": {
    "ExecuteTime": {
     "end_time": "2021-01-15T10:56:40.904163Z",
     "start_time": "2021-01-15T10:56:40.019192Z"
    }
   },
   "outputs": [
    {
     "name": "stdout",
     "output_type": "stream",
     "text": [
      "~~~~~~~~~~~~~~~~~~~~~~~~~~~~~~~~~~~~~~~~~~~~~~~~~~~~~~~~~~~~~~~~~~~~~~~~~~~~~~~~~~~~~~~~~~~~~~~~~~~~ \n",
      "Stellt die Aufteilung des Primärenergiebedarfs zwischen erneuerbar und nicht erneuerbar dar \n",
      "Ausgewählt für berechnung des Primärenergiebedarfs ist der verbrauchte Strom in Österreich\n",
      "Anzumerken ist der Einbruch im Jahr 2016 (Höchstwahrscheinlich fehlerhafte Daten und kein plötzlicher Einbruch)\n",
      "Ansonsten ist schön zu sehen das die Wintermonate mit nicht erneuerbaren mitteln gedeckt werden müssen\n",
      "TO-DO: Weiteres Diagramm dass das Verhältnis zwischen RE und NE über die einzelnen Jahre darstellt(denke histogramm)\n",
      "~~~~~~~~~~~~~~~~~~~~~~~~~~~~~~~~~~~~~~~~~~~~~~~~~~~~~~~~~~~~~~~~~~~~~~~~~~~~~~~~~~~~~~~~~~~~~~~~~~~~ \n"
     ]
    },
    {
     "data": {
      "application/vnd.jupyter.widget-view+json": {
       "model_id": "6aa2169a7d104a349ab14e650aeb2209",
       "version_major": 2,
       "version_minor": 0
      },
      "text/plain": [
       "Canvas(toolbar=Toolbar(toolitems=[('Home', 'Reset original view', 'home', 'home'), ('Back', 'Back to previous …"
      ]
     },
     "metadata": {},
     "output_type": "display_data"
    }
   ],
   "source": [
    "print(\"~~~~~~~~~~~~~~~~~~~~~~~~~~~~~~~~~~~~~~~~~~~~~~~~~~~~~~~~~~~~~~~~~~~~~~~~~~~~~~~~~~~~~~~~~~~~~~~~~~~~ \")\n",
    "print(\"Stellt die Aufteilung des Primärenergiebedarfs zwischen erneuerbar und nicht erneuerbar dar \")\n",
    "print(\"Ausgewählt für berechnung des Primärenergiebedarfs ist der verbrauchte Strom in Österreich\")\n",
    "print(\"Anzumerken ist der Einbruch im Jahr 2016 (Höchstwahrscheinlich fehlerhafte Daten und kein plötzlicher Einbruch)\")\n",
    "print(\"Ansonsten ist schön zu sehen das die Wintermonate mit nicht erneuerbaren mitteln gedeckt werden müssen\")\n",
    "print(\"TO-DO: Weiteres Diagramm dass das Verhältnis zwischen RE und NE über die einzelnen Jahre darstellt(denke histogramm)\")\n",
    "print(\"~~~~~~~~~~~~~~~~~~~~~~~~~~~~~~~~~~~~~~~~~~~~~~~~~~~~~~~~~~~~~~~~~~~~~~~~~~~~~~~~~~~~~~~~~~~~~~~~~~~~ \")\n",
    "\n",
    "PE_NR = 1.02 #Non renewable PE factor\n",
    "PE_R = 0.61  #Renewable PE factor\n",
    "\n",
    "df_2015_2019[\"PE_renewable\"] = (df_2015_2019[\"power_consumption_biomass_avg\"] + df_2015_2019[\"power_consumption_hydro_avg\"] \\\n",
    "                            + df_2015_2019[\"power_consumption_solar_avg\"] + df_2015_2019[\"power_consumption_wind_avg\"] \\\n",
    "                            + df_2015_2019[\"power_consumption_geothermal_avg\"] + df_2015_2019[\"power_consumption_hydro_discharge_avg\"]) * PE_R\n",
    "\n",
    "df_2015_2019[\"PE_not_renewable\"] = (df_2015_2019[\"power_consumption_coal_avg\"] + df_2015_2019[\"power_consumption_gas_avg\"] \\\n",
    "                            + df_2015_2019[\"power_consumption_nuclear_avg\"] + df_2015_2019[\"power_consumption_oil_avg\"] \\\n",
    "                            + df_2015_2019[\"power_consumption_unknown_avg\"]) * PE_NR\n",
    "\n",
    "df_2015_2019[\"PE_renewable_percent\"] = 100 * df_2015_2019[\"PE_renewable\"] / \\\n",
    "                                            (df_2015_2019[\"PE_renewable\"] + df_2015_2019[\"PE_not_renewable\"])\n",
    "\n",
    "df_2015_2019[\"PE_not_renewable_percent\"] = 100 * df_2015_2019[\"PE_not_renewable\"] / \\\n",
    "                                            (df_2015_2019[\"PE_renewable\"] + df_2015_2019[\"PE_not_renewable\"])\n",
    "\n",
    "fig, ax = plt.subplots(2,2, figsize=(12, 10))\n",
    "plt.rcParams.update({'font.size': 13})\n",
    "#~~~~~~~~~~~~~~~~~~~~~~~~~~~~~~~~~~~~~~~~~~~~~~~~~~~~~~~~~~~~~~~~~~~~~~~~~~~~~~~~~~~~~~~~~~~~~~~~\n",
    "#Middle left: Primary Energy Monthly stacked with area\n",
    "dfToPlot = pd.DataFrame()\n",
    "dfToPlot[\"PE_renewable\"] = df_2015_2019[\"PE_renewable\"].resample(\"M\").mean()\n",
    "dfToPlot[\"PE_not_renewable\"] = df_2015_2019[\"PE_not_renewable\"].resample(\"M\").mean()\n",
    "\n",
    "dfToPlot.plot(kind=\"area\", color=[\"green\",\"grey\"], stacked=True, ax=ax[0][0], legend=False);\n",
    "\n",
    "ax[0][0].set_title(\"Monatlich\")\n",
    "ax[0][0].set_xlabel('')\n",
    "ax[0][0].set_ylabel('Primärenergie [MW]', fontsize=14)\n",
    "ax[0][0].get_yaxis().set_major_formatter(matplotlib.ticker.FuncFormatter(lambda x, loc: locale.format_string('%d', x, 1)))\n",
    "#~~~~~~~~~~~~~~~~~~~~~~~~~~~~~~~~~~~~~~~~~~~~~~~~~~~~~~~~~~~~~~~~~~~~~~~~~~~~~~~~~~~~~~~~~~~~~~~~\n",
    "#Middle right: Primary Energy yearly stacked with bars\n",
    "dfToPlot = pd.DataFrame()\n",
    "dfToPlot[\"PE_renewable\"] = df_2015_2019[\"PE_renewable\"].resample(\"Y\").mean()\n",
    "dfToPlot[\"PE_not_renewable\"] = df_2015_2019[\"PE_not_renewable\"].resample(\"Y\").mean()\n",
    "\n",
    "dfToPlot.plot(kind='bar', stacked=True, ax = ax[0][1], color = [\"green\",\"grey\"],legend=False)\n",
    "\n",
    "ax[0][1].set_title(\"Jährlich\")\n",
    "ax[0][1].set_xlabel('')\n",
    "ax[0][1].set_ylabel('Primärenergie [MW]', fontsize=14)\n",
    "ax[0][1].set_xticklabels([\"2015\",\"2016\",\"2017\",\"2018\",\"2019\"])\n",
    "\n",
    "#~~~~~~~~~~~~~~~~~~~~~~~~~~~~~~~~~~~~~~~~~~~~~~~~~~~~~~~~~~~~~~~~~~~~~~~~~~~~~~~~~~~~~~~~~~~~~~~\n",
    "#Bottom left: Primary Energy weekly resampled in percent\n",
    "dfToPlot = pd.DataFrame()\n",
    "dfToPlot[\"PE_renewable_percent\"] = df_2015_2019[\"PE_renewable_percent\"].resample(\"M\").mean()\n",
    "dfToPlot[\"PE_not_renewable_percent\"] = df_2015_2019[\"PE_not_renewable_percent\"].resample(\"M\").mean()\n",
    "\n",
    "dfToPlot.plot(kind=\"area\", color=[\"green\",\"grey\"], stacked=True, ax=ax[1][0], legend=False);\n",
    "\n",
    "ax[1][0].set_title(\"Monatlich\")\n",
    "ax[1][0].set_xlabel('')\n",
    "ax[1][0].set_ylabel('Primärenergie [%]', fontsize=14)\n",
    "ax[1][0].get_yaxis().set_major_formatter(matplotlib.ticker.FuncFormatter(lambda x, loc: locale.format_string('%d', x, 1)))\n",
    "#~~~~~~~~~~~~~~~~~~~~~~~~~~~~~~~~~~~~~~~~~~~~~~~~~~~~~~~~~~~~~~~~~~~~~~~~~~~~~~~~~~~~~~~~~~~~~~~~~\n",
    "#Bottom right: Primary Energy yearly resampled in percent\n",
    "dfToPlot = pd.DataFrame()\n",
    "dfToPlot[\"PE_renewable_percent\"] = df_2015_2019[\"PE_renewable_percent\"].resample(\"Y\").mean()\n",
    "dfToPlot[\"PE_not_renewable_percent\"] = df_2015_2019[\"PE_not_renewable_percent\"].resample(\"Y\").mean()\n",
    "\n",
    "dfToPlot.plot(kind='bar', stacked=True, ax = ax[1][1], color = [\"green\",\"grey\"],legend=False)\n",
    "\n",
    "ax[1][1].set_title(\"Jährlich\")\n",
    "ax[1][1].set_xlabel('')\n",
    "ax[1][1].set_ylabel('Primärenergie [%]', fontsize=14)\n",
    "ax[1][1].set_xticklabels([\"2015\",\"2016\",\"2017\",\"2018\",\"2019\"])\n",
    "#~~~~~~~~~~~~~~~~~~~~~~~~~~~~~~~~~~~~~~~~~~~~~~~~~~~~~~~~~~~~~~~~~~~~~~~~~~~~~~~~~~~~~~~~~~~~~~~~~\n",
    "fig.suptitle('Primärenergie der Jahre 2015-2020', fontsize=20)\n",
    "#create a legend for the whole figure\n",
    "leg = fig.legend( labels = [\"PE Erneuerbar\",\"PE nicht Erneuerbar\"], bbox_to_anchor = [0.63, 0.935],\n",
    "             prop={'size': 14},facecolor='#f5f5f5', framealpha=1)\n",
    "#change width of legend color lines\n",
    "\n",
    "for i in range(0,2,1):\n",
    "    for j in range(0,2,1):\n",
    "        ax[j][i].yaxis.set_tick_params(labelsize=14)\n",
    "        ax[j][i].xaxis.set_tick_params(labelsize=14)\n",
    "\n",
    "\n",
    "for legobj in leg.legendHandles:\n",
    "    legobj.set_linewidth(10.0)\n",
    "#Move other axis out of the way\n",
    "pos = ax[0][0].get_position()\n",
    "pos.y0 = 0.95    #height\n",
    "ax[0][0].set_position(pos)\n",
    "plt.tight_layout()\n",
    "plt.savefig(\"../Bilder/PE bedarf Täglich-wöchentlich-monatlich\", bbox_inches = 'tight',pad_inches = 0.08)"
   ]
  },
  {
   "cell_type": "code",
   "execution_count": 47,
   "metadata": {
    "ExecuteTime": {
     "end_time": "2021-01-15T10:56:49.528334Z",
     "start_time": "2021-01-15T10:56:40.906182Z"
    }
   },
   "outputs": [
    {
     "data": {
      "application/vnd.jupyter.widget-view+json": {
       "model_id": "6aa5c84690cf41b4bee4d9374f80dc5b",
       "version_major": 2,
       "version_minor": 0
      },
      "text/plain": [
       "Canvas(toolbar=Toolbar(toolitems=[('Home', 'Reset original view', 'home', 'home'), ('Back', 'Back to previous …"
      ]
     },
     "metadata": {},
     "output_type": "display_data"
    }
   ],
   "source": [
    "\n",
    "dfToPlot = pd.DataFrame()\n",
    "\n",
    "fig, ax = plt.subplots(3,2, figsize=(12, 9))\n",
    "\n",
    "li_toPlot = [\"PE_renewable\",\"PE_not_renewable\",\"PE_renewable_percent\",\"PE_not_renewable_percent\",\n",
    "             \"month\",\"hour\",\"quarter\",\"week\",\"date\"]\n",
    "\n",
    "\n",
    "\n",
    "\n",
    "#~~~~~~~~~~~~~~~~~~~~~~~~~~~~~~~~~~~~~~~~~~~~~~~~~~~~~~~~~~~~~~~~~~~~~~~~~~~~~~~~~~~~~~~~~\n",
    "#Upper left: Primary Energy for one average day of the year \n",
    "dfToPlot = df_2015_2019[li_toPlot].groupby(pd.Grouper(freq='H')).mean()\n",
    "dfToPlot = dfToPlot[dfToPlot.index.quarter == 4]\n",
    "dfToPlot[\"control\"] = dfToPlot[\"PE_renewable\"] + dfToPlot[\"PE_not_renewable\"]\n",
    "dfToPlot[\"control_Percent\"] = dfToPlot[\"PE_renewable_percent\"] + dfToPlot[\"PE_not_renewable_percent\"]\n",
    "\n",
    "sns.barplot(x=\"hour\", y=\"control\", data=dfToPlot , ax = ax[0][0], color = \"grey\", ci = 0)\n",
    "sns.barplot(x=\"hour\", y=\"PE_renewable\", data=dfToPlot , ax = ax[0][0], color = \"green\", ci = 0)\n",
    "\n",
    "ax[0][0].set_title(\"Durchschnittlicher Wintertag\", loc = \"center\" )\n",
    "ax[0][0].set_xticklabels([\"0\",\"\",\"\",\"\",\"4\",\"\",\"\",\"\",\"8\",\"\",\"\",\"\",\"12\",\"\",\"\",\"\",\"16\",\"\",\"\",\"\",\"20\",\"\",\"\",\"\",\"24\"]) \n",
    "ax[0][0].set_xlabel('')\n",
    "ax[0][0].set_ylabel('Primärenergie\\n[MW]')\n",
    "ax[0][0].get_yaxis().set_major_formatter(matplotlib.ticker.FuncFormatter(lambda x, loc: locale.format_string('%d', x, 1)))\n",
    "#~~~~~~~~~~~~~~~~~~     \n",
    "#Upper Right: Primary Energy for one average day of the year in percent\n",
    "sns.barplot(x=\"hour\", y=\"control_Percent\", data=dfToPlot , ax = ax[0][1], color = \"grey\", ci = 0)\n",
    "sns.barplot(x=\"hour\", y=\"PE_renewable_percent\", data=dfToPlot , ax = ax[0][1], color = \"green\", ci = 0)\n",
    "ax[0][1].set_xticklabels([\"0\",\"\",\"\",\"\",\"4\",\"\",\"\",\"\",\"8\",\"\",\"\",\"\",\"12\",\"\",\"\",\"\",\"16\",\"\",\"\",\"\",\"20\",\"\",\"\",\"\",\"24\"])  \n",
    "ax[0][1].set_xlabel('')\n",
    "ax[0][1].set_ylabel('Primärenergie[%]')\n",
    "ax[0][1].set_yticks([0,25,50,75,100]) \n",
    "ax[0][1].set_yticklabels(['0',\"25\",\"50\",\"75\",\"100\"]) \n",
    "#test = df_2015_2019[\"PE_renewable\"].loc[df_2015_2019.index.month == 1].mean()\n",
    "#~~~~~~~~~~~~~~~~~~~~~~~~~~~~~~~~~~~~~~~~~~~~~~~~~~~~~~~~~~~~~~~~~~~~~~~~~~~~~~~~~~~~~~~~~\n",
    "#Upper left: Primary Energy for one average day of the year \n",
    "dfToPlot = df_2015_2019[li_toPlot].groupby(pd.Grouper(freq='H')).mean()\n",
    "dfToPlot = dfToPlot[dfToPlot.index.quarter == 2]\n",
    "dfToPlot[\"control\"] = dfToPlot[\"PE_renewable\"] + dfToPlot[\"PE_not_renewable\"]\n",
    "dfToPlot[\"control_Percent\"] = dfToPlot[\"PE_renewable_percent\"] + dfToPlot[\"PE_not_renewable_percent\"]\n",
    "\n",
    "sns.barplot(x=\"hour\", y=\"control\", data=dfToPlot , ax = ax[1][0], color = \"grey\", ci = 0)\n",
    "sns.barplot(x=\"hour\", y=\"PE_renewable\", data=dfToPlot , ax = ax[1][0], color = \"green\", ci = 0)\n",
    "\n",
    "ax[1][0].set_title(\"Durchschnittlicher Sommertag\", loc = \"center\" )\n",
    "ax[1][0].set_xticklabels([\"0\",\"\",\"\",\"\",\"4\",\"\",\"\",\"\",\"8\",\"\",\"\",\"\",\"12\",\"\",\"\",\"\",\"16\",\"\",\"\",\"\",\"20\",\"\",\"\",\"\",\"24\"]) \n",
    "ax[1][0].set_xlabel('')\n",
    "ax[1][0].set_ylabel('Primärenergie\\n[MW]')\n",
    "ax[1][0].get_yaxis().set_major_formatter(matplotlib.ticker.FuncFormatter(lambda x, loc: locale.format_string('%d', x, 1)))\n",
    "#~~~~~~~~~~~~~~~~~~     \n",
    "#Upper Right: Primary Energy for one average day of the year in percent\n",
    "sns.barplot(x=\"hour\", y=\"control_Percent\", data=dfToPlot , ax = ax[1][1], color = \"grey\", ci = 0)\n",
    "sns.barplot(x=\"hour\", y=\"PE_renewable_percent\", data=dfToPlot , ax = ax[1][1], color = \"green\", ci = 0)\n",
    "ax[1][1].set_xticklabels([\"0\",\"\",\"\",\"\",\"4\",\"\",\"\",\"\",\"8\",\"\",\"\",\"\",\"12\",\"\",\"\",\"\",\"16\",\"\",\"\",\"\",\"20\",\"\",\"\",\"\",\"24\"])  \n",
    "ax[1][1].set_xlabel('')\n",
    "ax[1][1].set_ylabel('Primärenergie[%]')\n",
    "ax[1][1].set_yticks([0,25,50,75,100]) \n",
    "ax[1][1].set_yticklabels(['0',\"25\",\"50\",\"75\",\"100\"]) \n",
    " #~~~~~~~~~~~~~~~~~~~~~~~~~~~~~~~~~~~~~~~~~~~~~~~~~~~~~~~~~~~~~~~~~~~~~~~~~~~~~~~~~~~~~~~~~     \n",
    " #~~~~~~~~~~~~~~~~~~~~~~~~~~~~~~~~~~~~~~~~~~~~~~~~~~~~~~~~~~~~~~~~~~~~~~~~~~~~~~~~~~~~~~~~~     \n",
    "#Bottom left: Primary Energy for one average month of the year \n",
    "dfToPlot = df_2015_2019[li_toPlot].groupby(pd.Grouper(freq='M')).mean()\n",
    "dfToPlot[\"control\"] = dfToPlot[\"PE_renewable\"] + dfToPlot[\"PE_not_renewable\"]\n",
    "dfToPlot[\"control_Percent\"] = dfToPlot[\"PE_renewable_percent\"] + dfToPlot[\"PE_not_renewable_percent\"]\n",
    "\n",
    "sns.barplot(x=\"month\", y=\"control\", data=dfToPlot , ax = ax[2][0], color = \"grey\", ci = 0)\n",
    "sns.barplot(x=\"month\", y=\"PE_renewable\", data=dfToPlot , ax = ax[2][0], color = \"green\", ci = 0)\n",
    "\n",
    "ax[2][0].set_title(\"Durchschnittlicher Monat\", loc = \"center\" )\n",
    "ax[2][0].set_xticklabels([\"Jan\",\"Feb\",\"Mär\",\"Apr\",\"Mai\",\"Jun\",\"Jul\",\n",
    "                       \"Aug\",\"Sep\",\"Okt\",\"Nov\",\"Dez\"])\n",
    "ax[2][0].set_xlabel('')\n",
    "ax[2][0].set_ylabel('Primärenergie\\n[MW)')\n",
    "ax[2][0].get_yaxis().set_major_formatter(matplotlib.ticker.FuncFormatter(lambda x, loc: locale.format_string('%d', x, 1)))\n",
    "#~~~~~~~~~~~~~~~~~~  \n",
    "#Bottom right: Primary Energy for one average month of the year in percent\n",
    "sns.barplot(x=\"month\", y=\"control_Percent\", data=dfToPlot , ax = ax[2][1], color = \"grey\", ci = 0)\n",
    "sns.barplot(x=\"month\", y=\"PE_renewable_percent\", data=dfToPlot , ax = ax[2][1], color = \"green\", ci = 0)\n",
    "\n",
    "ax[2][1].set_xticklabels([\"Jan\",\"Feb\",\"Mär\",\"Apr\",\"Mai\",\"Jun\",\"Jul\",\n",
    "                       \"Aug\",\"Sep\",\"Okt\",\"Nov\",\"Dez\"]) \n",
    "ax[2][1].set_xlabel('')\n",
    "ax[2][1].set_ylabel('Primärenergie[%]')    \n",
    "ax[2][1].set_yticks([0,25,50,75,100]) \n",
    "ax[2][1].set_yticklabels(['0',\"25\",\"50\",\"75\",\"100\"])              \n",
    "    \n",
    "fig.suptitle('Primärenergie aufgeteilt nach durchschnittlichen Monat bzw. Tag im Sommer/Winter', fontsize=20)\n",
    "#create a legend for the whole figure\n",
    "leg = fig.legend(labels = [\"Erneuerbar\",\"Nicht Erneuerbar\"], bbox_to_anchor = [0.63, 0.935],\n",
    "             prop={'size': 14},facecolor='#f5f5f5', framealpha=1)\n",
    "#change width of legend color lines\n",
    "for legobj in leg.legendHandles:\n",
    "    legobj.set_linewidth(10.0)\n",
    "#For whatever reason we have to allocate the colors of the legend manually, otherwise the colors would be both black    \n",
    "leg.legendHandles[0].set_color('green')\n",
    "leg.legendHandles[1].set_color('grey')    \n",
    "#Move other axis out of the way\n",
    "pos = ax[0][0].get_position()\n",
    "pos.y0 = 1    #height\n",
    "ax[0][0].set_position(pos)\n",
    "plt.tight_layout()\n",
    "plt.savefig(\"../Bilder/PE bedarf Durchschnittlichertag\", bbox_inches = 'tight',pad_inches = 0.08)"
   ]
  },
  {
   "cell_type": "markdown",
   "metadata": {},
   "source": [
    "# CO2 Emissionen"
   ]
  },
  {
   "cell_type": "code",
   "execution_count": 48,
   "metadata": {
    "ExecuteTime": {
     "end_time": "2021-01-15T10:59:11.060249Z",
     "start_time": "2021-01-15T10:58:58.894197Z"
    }
   },
   "outputs": [
    {
     "data": {
      "application/vnd.jupyter.widget-view+json": {
       "model_id": "3ba9888eb27e4bd4821d67ad995e6873",
       "version_major": 2,
       "version_minor": 0
      },
      "text/plain": [
       "Canvas(toolbar=Toolbar(toolitems=[('Home', 'Reset original view', 'home', 'home'), ('Back', 'Back to previous …"
      ]
     },
     "metadata": {},
     "output_type": "display_data"
    }
   ],
   "source": [
    "fig, ax = plt.subplots(4, 2, figsize=(12,12),gridspec_kw={'width_ratios': [3, 1]})\n",
    "\n",
    "\n",
    "li_Seasons = [\"Frühling\", \"Sommer\", \"Herbst\", \"Winter\"]\n",
    "for i in range(0,4,1):\n",
    "    \n",
    "    sns.lineplot(x=\"hour\", y=\"carbon_intensity_avg\"\n",
    "                ,hue=\"year\", data=df_2015_2019[df_2015_2019.index.quarter == i+1] , ax = ax[i][0] \n",
    "             , palette=[\"C0\", \"C1\", \"C2\",\"C3\", \"C4\"], legend = False , ci = 0)\n",
    "\n",
    "    ax[i][1].bar(x =  [\"2015\",\"2016\",\"2017\",\"2018\",\"2019\"],\n",
    "          height = df_2015_2019[df_2015_2019.index.quarter == i+1][\"carbon_intensity_avg\"].resample(\"Y\").mean() ,\n",
    "                color=[\"C0\", \"C1\", \"C2\",\"C3\", \"C4\"])\n",
    "    \n",
    "    \n",
    "    \n",
    "    ax[i][0].set_xlabel('')\n",
    "    ax[i][0].set_ylabel('CO$_2$-Intensität\\n [gCO$_2$eq/kWh]')\n",
    "    ax[i][0].set_title('Durchschnittlicher Tag im ' + li_Seasons[i])\n",
    "    ax[i][0].set_ylim(100,400)\n",
    "    \n",
    "    ax[i][1].set_ylabel('CO$_2$-Intensität\\n [gCO$_2$eq/kWh]') \n",
    "    ax[i][1].set_title('Durchschnittliches Quartal\\n im ' + li_Seasons[i])\n",
    "    ax[i][1].set_xticklabels([\"15\",\"16\",\"17\",\"18\",\"19\"])\n",
    "    ax[i][1].set_ylim(0,350)\n",
    "    \n",
    "fig.suptitle('Durchschnittliche tägliche CO$_2$ Emissionen über die Jahre 2015-2020', fontsize=20)\n",
    "leg = fig.legend(labels = [\"2015\",\"2016\",\"2017\",\"2018\",\"2019\"], \n",
    "                 bbox_to_anchor = [0.78, 0.96],prop={'size': 14}, ncol = 6,facecolor='#f5f5f5', framealpha=1)\n",
    "\n",
    "#change width of legend color lines\n",
    "for legobj in leg.legendHandles:\n",
    "    legobj.set_linewidth(5.0)\n",
    "\n",
    "    \n",
    "#Move other axis out of the way\n",
    "pos = ax[0][0].get_position()\n",
    "pos.y1 = 0.97    #height\n",
    "ax[0][0].set_position(pos)\n",
    "plt.tight_layout()\n",
    "plt.savefig(\"../Bilder/CO2 Emissionen über einen durchschnittlichen Tag pro Jahr\", bbox_inches = 'tight',pad_inches = 0.08)"
   ]
  },
  {
   "cell_type": "code",
   "execution_count": 53,
   "metadata": {
    "ExecuteTime": {
     "end_time": "2021-01-15T11:00:41.224339Z",
     "start_time": "2021-01-15T11:00:37.881700Z"
    },
    "code_folding": [],
    "scrolled": false
   },
   "outputs": [
    {
     "data": {
      "application/vnd.jupyter.widget-view+json": {
       "model_id": "37afd887922d4258a7814571c1a98ab8",
       "version_major": 2,
       "version_minor": 0
      },
      "text/plain": [
       "Canvas(toolbar=Toolbar(toolitems=[('Home', 'Reset original view', 'home', 'home'), ('Back', 'Back to previous …"
      ]
     },
     "metadata": {},
     "output_type": "display_data"
    }
   ],
   "source": [
    "fig, ax = plt.subplots(5,2, figsize=(12,12),constrained_layout=True)\n",
    "\n",
    "\n",
    "\n",
    "\n",
    "li_Months = [\"\",\"Feb\",\"Apr\",\"Jun\",\"Aug\",\"Okt\",\"Dez\"]\n",
    "\n",
    "for j,year in enumerate([2015,2016,2017,2018,2019]):\n",
    "    sns.lineplot(x=\"month\", y=\"carbon_intensity_avg\"\n",
    "                , data=df_2015_2019.loc[df_2015_2019.index.year==year].resample(\"D\").mean() \n",
    "                 , ax = ax[j][0] , color = \"grey\", legend = False)\n",
    "    \n",
    "    ax[j][0].set_xticklabels(li_Months)\n",
    "    ax[j][0].set_ylabel(\"CO$_2$-Intensität \\n[gCO$_2$eq/kWh]\")\n",
    "    ax[j][0].set_xlabel(\"\")\n",
    "    ax[j][0].set_title(\"Jahr \" + str(year))\n",
    "    i = 0\n",
    "    while i != 11:\n",
    "        #draw horizontal line\n",
    "        ax[j][0].plot([i+1, i+2], [df_OIB_RL6[\"fCO2eq\"][i],df_OIB_RL6[\"fCO2eq\"][i]], \n",
    "                 linewidth=3, color = \"red\")\n",
    "        if i+1 !=11:\n",
    "            #draw vertical line\n",
    "            ax[j][0].plot([i+2, i+2], [df_OIB_RL6[\"fCO2eq\"][i+1],df_OIB_RL6[\"fCO2eq\"][i]],\n",
    "                 linewidth=3 ,color = \"red\")   \n",
    "        i += 1\n",
    "        \n",
    "    #invisible point for label\n",
    "    ax[j][0].plot([1, 1], [1,1], \n",
    "                 linewidth=3, color = \"red\" , label = \"Richtwert OIB_RL6(2018)\")    \n",
    "   \n",
    "  \n",
    "\n",
    "for j,year in enumerate([2018,2019],3):\n",
    "    \n",
    "    temp = np.mean(OE_NORM,axis=1)\n",
    "    df_ToPlot = pd.DataFrame()\n",
    "    \n",
    "    s = df_2018.loc[df_2018.index.year==year].resample(\"M\").mean().subtract(273.15)\n",
    "    df_ToPlot[\"Isttemperatur\"] = s[\"latest_forecasted_temperature_avg\"]\n",
    "    df_ToPlot[\"month\"] = s[\"month\"]\n",
    "    df_ToPlot[\"Normtemperatur\"] = temp\n",
    "\n",
    "    \n",
    "    sns.lineplot(x = \"month\", y=\"Isttemperatur\", data=df_ToPlot\n",
    "                 , ax = ax[j][1] , palette=[\"C0\"]  , legend = False, color = \"blue\")\n",
    "    sns.lineplot(x = \"month\", y=\"Normtemperatur\", data=df_ToPlot\n",
    "                 , ax = ax[j][1] , palette=[\"C0\"]  , legend = False, color = \"green\")\n",
    "\n",
    "    \n",
    "    ax[j][1].set_xticklabels(li_Months)\n",
    "    ax[j][1].set_ylabel(\"Außentemperatur [°C]\")\n",
    "    ax[j][1].set_xlabel(\"\")\n",
    "    ax[j][1].set_title(\"gemittelte Außentemperatur\")\n",
    "    \n",
    "fig.suptitle('CO$_2$ Emissionen verglichen mit der OIB-RL6', fontsize=20)\n",
    "leg = fig.legend(labels = [\"CO$_2$ Emissionen\",\"Richtwert OIB_RL6(2018)\",\"Temperatur\",\"Normtemperatur\"], \n",
    "                 bbox_to_anchor = [0.89, 0.96],prop={'size': 14}, ncol = 4,facecolor='#f5f5f5', framealpha=1)\n",
    "\n",
    "#change width of legend color lines\n",
    "for legobj in leg.legendHandles:\n",
    "    legobj.set_linewidth(5.0)\n",
    "    \n",
    "li_Color = [\"grey\",\"red\",\"blue\",\"green\"]\n",
    "for i in range(0,4,1):\n",
    "    leg.legendHandles[i].set_color(li_Color[i]) \n",
    "\n",
    "box1 = ax[4][0].get_position()\n",
    "box2 = ax[0][0].get_position()\n",
    "box3 = ax[4][1].get_position()\n",
    "\n",
    "for i in range(0,3,1):\n",
    "    ax[i][1].remove()\n",
    "    box2 = ax[i][0].get_position()\n",
    "    ax[i][0].set_position([box2.x0, box2.y0,box3.x1-box1.x0, box1.y1-box1.y0])\n",
    "\n",
    "\n",
    "pos = ax[1][0].get_position()\n",
    "pos.y0 -= 0.02\n",
    "pos.y1 -= 0.02\n",
    "ax[1][0].set_position(pos)\n",
    "\n",
    "pos = ax[2][0].get_position()\n",
    "pos.y0 -= 0.04\n",
    "pos.y1 -= 0.04\n",
    "ax[2][0].set_position(pos)\n",
    "\n",
    "\n",
    "#Move other axis out of the way\n",
    "for row in range(3,5,1):\n",
    "    for col in range(0,2,1):\n",
    "        pos = ax[row][col].get_position()\n",
    "        pos.y0 -= 0.02 \n",
    "        pos.y1 -= 0.02\n",
    "        ax[row][col].set_position(pos)\n",
    "\n",
    "pos = ax[3][0].get_position()\n",
    "pos.y0 -= 0.05\n",
    "pos.y1 -= 0.05\n",
    "ax[3][0].set_position(pos)\n",
    "\n",
    "pos = ax[3][1].get_position()\n",
    "pos.y0 -= 0.05\n",
    "pos.y1 -= 0.05\n",
    "ax[3][1].set_position(pos)\n",
    "\n",
    "pos = ax[4][0].get_position()\n",
    "pos.y0 -= 0.08\n",
    "pos.y1 -= 0.08\n",
    "ax[4][0].set_position(pos)\n",
    "\n",
    "pos = ax[4][1].get_position()\n",
    "pos.y0 -= 0.08\n",
    "pos.y1 -= 0.08\n",
    "ax[4][1].set_position(pos)\n",
    "\n",
    "#plt.tight_layout()\n",
    "plt.savefig(\"../Bilder/CO2 verglichen mit OIB6\", bbox_inches = 'tight',pad_inches = 0.08)"
   ]
  },
  {
   "cell_type": "code",
   "execution_count": 50,
   "metadata": {
    "ExecuteTime": {
     "end_time": "2021-01-15T10:59:24.393646Z",
     "start_time": "2021-01-15T10:59:14.546685Z"
    },
    "scrolled": false
   },
   "outputs": [
    {
     "data": {
      "application/vnd.jupyter.widget-view+json": {
       "model_id": "d0a21acce5584895bf5e85806a2b7de0",
       "version_major": 2,
       "version_minor": 0
      },
      "text/plain": [
       "Canvas(toolbar=Toolbar(toolitems=[('Home', 'Reset original view', 'home', 'home'), ('Back', 'Back to previous …"
      ]
     },
     "metadata": {},
     "output_type": "display_data"
    }
   ],
   "source": [
    "fig, ax = plt.subplots(4,3, figsize=(12, 10))\n",
    "\n",
    "fig.suptitle('CO$_2$ Emissionen des Jahres 2018', fontsize=20)\n",
    "\n",
    "li_Months = [\"Jänner\",\"Februar\",\"März\",\"April\",\"Mai\",\"Juni\",\"Juli\",\"August\",\"September\",\"Oktober\",\"November\",\"Dezember\"]\n",
    "i = -1\n",
    "for row in range(0,4,1):   \n",
    "    for col in range(0,3,1):\n",
    "        i += 1\n",
    "        dfToPlot = pd.DataFrame()\n",
    "    \n",
    "        dfToPlot = df_2015_2019[df_2015_2019.index.year == 2018]\n",
    "        #Filter the DataFrame to all Values for the selected month\n",
    "        #The Xticklabels wont work properly if the next line is present\n",
    "        dfToPlot = dfToPlot[dfToPlot.index.month == (i+1)]\n",
    "        \n",
    "        #Draw horizontal line\n",
    "        #~~~~~~~~~~~~~~~~~~~~~~~~~~~~~~~~~~~~~~~~~~~~~~~~\n",
    "        #Draw red limitline\n",
    "        length = len(dfToPlot)/24\n",
    "        ax[row][col].plot([0, len(dfToPlot)/24], [df_OIB_RL6[\"fCO2eq\"][i],df_OIB_RL6[\"fCO2eq\"][i]], \n",
    "                     linewidth=3, color = \"red\")\n",
    "        #~~~~~~~~~~~~~~~~~~~~~~~~~~~~~~~~~~~~~~~~~~~~~~~~~~~\n",
    "        #Draw Co2 intensity\n",
    "        sns.lineplot(x=\"date\", y=\"carbon_intensity_avg\"\n",
    "                    , data=dfToPlot \n",
    "                     , ax = ax[row][col] , color = \"grey\" , legend = False )\n",
    "        #~~~~~~~~~~~~~~~~~~~~~~~~~~~~~~~~~~~~~~~~~~~~~~~~~~~\n",
    "        #Draw weekly Co2 average\n",
    "        dfToPlot = dfToPlot[dfToPlot.index.month == (i+1)].resample(\"W\").mean()\n",
    "\n",
    "        plot_av = dfToPlot[\"carbon_intensity_avg\"]\n",
    "\n",
    "        ax[row][col].plot([0, length], [plot_av[0],plot_av[3]], \n",
    "                     linewidth=3, color = \"black\")\n",
    "        ax[row][col].set_xlabel(\"\")\n",
    "        ax[row][col].set_title(li_Months[i])\n",
    "        ax[row][col].set_ylabel(\"CO$_2$-Intensität \\n[gCO$_2$eq/kWh]\")\n",
    "        ax[row][col].set_ylim(0,350)\n",
    "        \n",
    "        \n",
    "leg = fig.legend(labels = [\"OIB-RL6(2018)\",\"CO$_2$ Emissionen\",\"Wöchentliche Trendlinie\"], bbox_to_anchor = [0.83, 0.95],\n",
    "             prop={'size': 14}, ncol = 3,facecolor='#f5f5f5', framealpha=1)\n",
    "#change width of legend color lines\n",
    "for legobj in leg.legendHandles:\n",
    "    legobj.set_linewidth(5.0)\n",
    "    \n",
    "\n",
    "#Move other axis out of the way\n",
    "pos = ax[0][0].get_position()\n",
    "pos.y0 = 0.97    #height\n",
    "ax[0][0].set_position(pos)\n",
    "plt.tight_layout()\n",
    "plt.savefig(\"../Bilder/CO2 verglichen mit OIB6 Wochenbasis\", bbox_inches = 'tight',pad_inches = 0.08)"
   ]
  },
  {
   "cell_type": "code",
   "execution_count": 58,
   "metadata": {
    "ExecuteTime": {
     "end_time": "2021-01-15T11:02:00.922171Z",
     "start_time": "2021-01-15T11:02:00.661885Z"
    }
   },
   "outputs": [
    {
     "data": {
      "application/vnd.jupyter.widget-view+json": {
       "model_id": "5fb26e445ca8468aaaa220576d9e837e",
       "version_major": 2,
       "version_minor": 0
      },
      "text/plain": [
       "Canvas(toolbar=Toolbar(toolitems=[('Home', 'Reset original view', 'home', 'home'), ('Back', 'Back to previous …"
      ]
     },
     "metadata": {},
     "output_type": "display_data"
    },
    {
     "name": "stderr",
     "output_type": "stream",
     "text": [
      "d:\\Users\\Marius\\anaconda3\\lib\\site-packages\\pandas\\plotting\\_matplotlib\\core.py:1282: UserWarning: Attempting to set identical bottom == top == 0.0 results in singular transformations; automatically expanding.\n",
      "  ax.set_ylim(None, 0)\n"
     ]
    }
   ],
   "source": [
    "def ZipObjects(list1, list2):\n",
    "    difference = []\n",
    "    zip_object = zip(list1, list2)\n",
    "    for list1_i, list2_i in zip_object:\n",
    "        difference.append(list2_i-list1_i)\n",
    "    return difference\n",
    "\n",
    "\n",
    "df_Change = pd.DataFrame()\n",
    "df_Change = df_2015_2019[df_2015_2019.index.year == 2015]\n",
    "li_2015 = df_Change[\"carbon_intensity_avg\"].resample(\"W\").mean()\n",
    "\n",
    "df_Change = df_2015_2019[df_2015_2019.index.year == 2016]\n",
    "li_2016 = df_Change[\"carbon_intensity_avg\"].resample(\"W\").mean()\n",
    "\n",
    "df_Change = df_2015_2019[df_2015_2019.index.year == 2017]\n",
    "li_2017 = df_Change[\"carbon_intensity_avg\"].resample(\"W\").mean()\n",
    "\n",
    "df_Change = df_2015_2019[df_2015_2019.index.year == 2018]\n",
    "li_2018 = df_Change[\"carbon_intensity_avg\"].resample(\"W\").mean()\n",
    "\n",
    "df_Change = df_2015_2019[df_2015_2019.index.year == 2019]\n",
    "li_2019 = df_Change[\"carbon_intensity_avg\"].resample(\"W\").mean()\n",
    "\n",
    "\n",
    "df_ToPlot = pd.DataFrame()\n",
    "df_ToPlot[\"Änderung_2015_2016\"] = ZipObjects(li_2015,li_2016) \n",
    "df_ToPlot[\"Änderung_2016_2017\"] = ZipObjects(li_2016,li_2017)\n",
    "df_ToPlot[\"Änderung_2017_2018\"] = ZipObjects(li_2017,li_2018)\n",
    "df_ToPlot[\"Änderung_2018_2019\"] = ZipObjects(li_2018,li_2019)\n",
    " \n",
    "    \n",
    "    \n",
    "df_ToPlot_Pos = df_ToPlot.clip(0, 15000)\n",
    "df_ToPlot_Neg = df_ToPlot.clip(0, -15000)\n",
    "\n",
    "fig, ax = plt.subplots( figsize=(14,10))\n",
    "df_ToPlot_Pos.plot(kind = \"area\",ax=ax, color = [\"#ff3636\",\"#42f572\",\"#f58742\",\"#b3b1b1\"], legend = False, linewidth = 0)\n",
    "df_ToPlot_Neg.plot(kind = \"area\",ax=ax, color = [\"#ff3636\",\"#42f572\",\"#f58742\",\"#b3b1b1\"], legend = False, linewidth = 0)\n",
    "\n",
    "ax.set_ylabel('Änderung der CO$_2$ Emissionen \\n[gCO$_2$eq/kWh]', fontsize = 14)\n",
    "#Set xlabels so we can have words instead of numbers for easy understanding\n",
    "ax.set_xticks([0,4.3,8.6,12.9,17.3,21.6,25.9,30.3,34.6,38.9,43.3,47.6])\n",
    "ax.set_xticklabels([\"Jan\",\"Feb\",\"Mär\",\"Apr\",\"Mai\",\"Jun\",\"Jul\",\n",
    "                       \"Aug\",\"Sep\",\"Okt\",\"Nov\",\"Dez\"], fontsize = 14)\n",
    "ax.set_ylim(-300,200)\n",
    "fig.suptitle('Änderung der CO$_2$ Emissionen der Jahre 2015-2020', fontsize=20)\n",
    "\n",
    "leg = fig.legend(labels = [\"Änderung 2015-2016)\",\"Änderung 2016-2017\",\"Änderung 2017-2018\",\"Änderung 2018-2019\"]\n",
    "                 , bbox_to_anchor = [0.935, 0.945],prop={'size': 14}, ncol = 4)\n",
    "for legobj in leg.legendHandles:\n",
    "    legobj.set_linewidth(5.0)\n",
    "\n",
    " \n",
    "\n",
    "plt.savefig(\"../Bilder/Änderung der CO2 Intensität\",bbox_to_anchor = \"tight\",pad_inches = 0)"
   ]
  },
  {
   "cell_type": "code",
   "execution_count": 55,
   "metadata": {
    "ExecuteTime": {
     "end_time": "2021-01-15T11:01:16.283605Z",
     "start_time": "2021-01-15T11:01:15.624367Z"
    },
    "scrolled": false
   },
   "outputs": [
    {
     "name": "stdout",
     "output_type": "stream",
     "text": [
      "~~~~~~~~~~~~~~~~~~~~~~~~~~~~~~~~~~~~~~~~~~~~~~~~~~~~~~~~~~~~~~~~~~~~~~~~~~~~~~~~~~~~~~~~~~~~~~~~~~~~ \n",
      "stellt die stromprouktion über die Jahre aufgeteilt auf die einzelnen energieträger dar\n",
      "Bin mir aber ziemlich sicher dass die Power_origin_percent auf verbrauchten strom deuten\n",
      "Siehe anteil an Nuklear sowie großer Kohleanteil\n",
      "~~~~~~~~~~~~~~~~~~~~~~~~~~~~~~~~~~~~~~~~~~~~~~~~~~~~~~~~~~~~~~~~~~~~~~~~~~~~~~~~~~~~~~~~~~~~~~~~~~~~ \n"
     ]
    },
    {
     "data": {
      "application/vnd.jupyter.widget-view+json": {
       "model_id": "c9325c1664b34ca091f8bc708f239015",
       "version_major": 2,
       "version_minor": 0
      },
      "text/plain": [
       "Canvas(toolbar=Toolbar(toolitems=[('Home', 'Reset original view', 'home', 'home'), ('Back', 'Back to previous …"
      ]
     },
     "metadata": {},
     "output_type": "display_data"
    }
   ],
   "source": [
    "print(\"~~~~~~~~~~~~~~~~~~~~~~~~~~~~~~~~~~~~~~~~~~~~~~~~~~~~~~~~~~~~~~~~~~~~~~~~~~~~~~~~~~~~~~~~~~~~~~~~~~~~ \")\n",
    "print(\"stellt die stromprouktion über die Jahre aufgeteilt auf die einzelnen energieträger dar\")\n",
    "print(\"Bin mir aber ziemlich sicher dass die Power_origin_percent auf verbrauchten strom deuten\")\n",
    "print(\"Siehe anteil an Nuklear sowie großer Kohleanteil\")\n",
    "print(\"~~~~~~~~~~~~~~~~~~~~~~~~~~~~~~~~~~~~~~~~~~~~~~~~~~~~~~~~~~~~~~~~~~~~~~~~~~~~~~~~~~~~~~~~~~~~~~~~~~~~ \")\n",
    "\n",
    "\n",
    "colors = [\"green\", \"black\",\"purple\", \"#0088ff\", \"#b4b88a\", \"brown\", \"orange\", \"cyan\",\"grey\",\"#0000ff\",\"red\"]\n",
    "\n",
    "\n",
    "li_ToPLot = [\"carbon_production_biomass_avg\",\"carbon_production_coal_avg\",\n",
    "            \"carbon_production_gas_avg\",\"carbon_production_hydro_avg\",\n",
    "            \"carbon_production_nuclear_avg\",\"carbon_production_oil_avg\",\n",
    "            \"carbon_production_solar_avg\",\"carbon_production_wind_avg\",\n",
    "            \"carbon_production_geothermal_avg\",\"carbon_production_hydro_discharge_avg\",\n",
    "             \"carbon_production_unknown_avg\",]\n",
    "\n",
    "li_Legend = [\"Biomasse\",\"Kohle\",\"Gas\",\"Wasser\",\"Nuklear\",\"Öl\",\"Photovoltaik\",\n",
    "             \"Wind\",\"Geothermie\",\"Speicherwasser\",\"Unbekannt\"]\n",
    "\n",
    "fig, ax = plt.subplots(2,figsize=(12, 8))\n",
    "#labels = dfToPlot.index\n",
    "dfToPlot = df_2018[li_ToPLot].resample(\"W\").mean()\n",
    "dfToPlot.plot(kind = \"area\",ax=ax[0], color = colors )\n",
    "leg = ax[0].legend(loc=\"upper left\", bbox_to_anchor=(1.025,1.05), title = \"Art der Erzeugung\", \n",
    "                   labels = li_Legend,fontsize = 14,facecolor='#f5f5f5', framealpha=1)\n",
    "\n",
    "ax[0].set_xlabel('')\n",
    "ax[0].set_ylabel('CO$_2$ Intensität [gCO$_2$eq/kWh]', fontsize = 14)\n",
    "\n",
    "li_ToPLot = [\"carbon_origin_percent_biomass_avg\",\"carbon_origin_percent_coal_avg\",\n",
    "            \"carbon_origin_percent_gas_avg\",\"carbon_origin_percent_hydro_avg\",\n",
    "            \"carbon_origin_percent_nuclear_avg\",\"carbon_origin_percent_oil_avg\",\n",
    "            \"carbon_origin_percent_solar_avg\",\"carbon_origin_percent_wind_avg\",\n",
    "            \"carbon_origin_percent_geothermal_avg\",\"carbon_origin_percent_hydro_discharge_avg\",\n",
    "             \"carbon_origin_percent_unknown_avg\",]\n",
    "\n",
    "\n",
    "dfToPlot = df_2018[li_ToPLot].resample(\"W\").mean()\n",
    "dfToPlot.plot(kind = \"area\",ax=ax[1], color = colors, legend = False )\n",
    "\n",
    "ax[1].set_xlabel('')\n",
    "ax[1].set_ylabel('CO$_2$ Intensität [%]', fontsize = 14)\n",
    "\n",
    "\n",
    "fig.suptitle('CO$_2$-Mix der Jahre 2018-2020', fontsize=20, x = 0.45)\n",
    "\n",
    "for legobj in leg.legendHandles:\n",
    "    legobj.set_linewidth(5.0)\n",
    "\n",
    "\n",
    "#Move other axis out of the way\n",
    "pos = ax[0].get_position()\n",
    "pos.y1 = 0.95   #height\n",
    "ax[0].set_position(pos)\n",
    "\n",
    "plt.tight_layout()\n",
    "plt.savefig(\"../Bilder/CO2-mix_Absolut_prozent\", bbox_inches = 'tight',pad_inches = 0.08)\n"
   ]
  },
  {
   "cell_type": "code",
   "execution_count": 43,
   "metadata": {
    "ExecuteTime": {
     "end_time": "2021-01-15T10:39:41.854786Z",
     "start_time": "2021-01-15T10:39:41.195548Z"
    }
   },
   "outputs": [
    {
     "name": "stdout",
     "output_type": "stream",
     "text": [
      "~~~~~~~~~~~~~~~~~~~~~~~~~~~~~~~~~~~~~~~~~~~~~~~~~~~~~~~~~~~~~~~~~~~~~~~~~~~~~~~~~~~~~~~~~~~~~~~~~~~~ \n",
      "stellt die stromprouktion über die Jahre aufgeteilt auf die einzelnen energieträger dar\n",
      "Bin mir aber ziemlich sicher dass die Power_origin_percent auf verbrauchten strom deuten\n",
      "Siehe anteil an Nuklear sowie großer Kohleanteil\n",
      "~~~~~~~~~~~~~~~~~~~~~~~~~~~~~~~~~~~~~~~~~~~~~~~~~~~~~~~~~~~~~~~~~~~~~~~~~~~~~~~~~~~~~~~~~~~~~~~~~~~~ \n"
     ]
    },
    {
     "data": {
      "application/vnd.jupyter.widget-view+json": {
       "model_id": "fe53e9b7afb2408fa21d8d772998460d",
       "version_major": 2,
       "version_minor": 0
      },
      "text/plain": [
       "Canvas(toolbar=Toolbar(toolitems=[('Home', 'Reset original view', 'home', 'home'), ('Back', 'Back to previous …"
      ]
     },
     "metadata": {},
     "output_type": "display_data"
    }
   ],
   "source": [
    "print(\"~~~~~~~~~~~~~~~~~~~~~~~~~~~~~~~~~~~~~~~~~~~~~~~~~~~~~~~~~~~~~~~~~~~~~~~~~~~~~~~~~~~~~~~~~~~~~~~~~~~~ \")\n",
    "print(\"stellt die stromprouktion über die Jahre aufgeteilt auf die einzelnen energieträger dar\")\n",
    "print(\"Bin mir aber ziemlich sicher dass die Power_origin_percent auf verbrauchten strom deuten\")\n",
    "print(\"Siehe anteil an Nuklear sowie großer Kohleanteil\")\n",
    "print(\"~~~~~~~~~~~~~~~~~~~~~~~~~~~~~~~~~~~~~~~~~~~~~~~~~~~~~~~~~~~~~~~~~~~~~~~~~~~~~~~~~~~~~~~~~~~~~~~~~~~~ \")\n",
    "\n",
    "\n",
    "colors = [\"green\", \"black\",\"purple\", \"#0088ff\", \"#b4b88a\", \"brown\", \"orange\", \"cyan\",\"grey\",\"#0000ff\",\"red\"]\n",
    "\n",
    "\n",
    "li_ToPLot = [\"carbon_production_biomass_avg\",\"carbon_production_coal_avg\",\n",
    "            \"carbon_production_gas_avg\",\"carbon_production_hydro_avg\",\n",
    "            \"carbon_production_nuclear_avg\",\"carbon_production_oil_avg\",\n",
    "            \"carbon_production_solar_avg\",\"carbon_production_wind_avg\",\n",
    "            \"carbon_production_geothermal_avg\",\"carbon_production_hydro_discharge_avg\",\n",
    "             \"carbon_production_unknown_avg\",]\n",
    "\n",
    "li_Legend = [\"Biomass\",\"Coal\",\"Gas\",\"Water\",\"Nuclear\",\"Oil\",\"Photovoltaic\",\n",
    "             \"Wind\",\"Geothermal\",\"PSP\",\"Unknown\"]\n",
    "\n",
    "fig, ax = plt.subplots(2,figsize=(12, 8))\n",
    "#labels = dfToPlot.index\n",
    "dfToPlot = df_2018[li_ToPLot].resample(\"W\").mean()\n",
    "dfToPlot.plot(kind = \"area\",ax=ax[0], color = colors )\n",
    "leg = ax[0].legend(loc=\"upper left\", bbox_to_anchor=(1.025,1.05), title = \"Energy source\", labels = li_Legend,fontsize = 14)\n",
    "\n",
    "ax[0].set_xlabel('')\n",
    "ax[0].set_ylabel('CO$_2$ Intensity [gCO$_2$eq/kWh]', fontsize = 14)\n",
    "\n",
    "li_ToPLot = [\"carbon_origin_percent_biomass_avg\",\"carbon_origin_percent_coal_avg\",\n",
    "            \"carbon_origin_percent_gas_avg\",\"carbon_origin_percent_hydro_avg\",\n",
    "            \"carbon_origin_percent_nuclear_avg\",\"carbon_origin_percent_oil_avg\",\n",
    "            \"carbon_origin_percent_solar_avg\",\"carbon_origin_percent_wind_avg\",\n",
    "            \"carbon_origin_percent_geothermal_avg\",\"carbon_origin_percent_hydro_discharge_avg\",\n",
    "             \"carbon_origin_percent_unknown_avg\",]\n",
    "\n",
    "\n",
    "dfToPlot = df_2018[li_ToPLot].resample(\"W\").mean()\n",
    "dfToPlot.plot(kind = \"area\",ax=ax[1], color = colors, legend = False )\n",
    "\n",
    "ax[1].set_xlabel('')\n",
    "ax[1].set_ylabel('CO$_2$ Intensity [%]', fontsize = 14)\n",
    "\n",
    "\n",
    "fig.suptitle('CO$_2$-Mix for the years 2018,2019', fontsize=20, x = 0.45)\n",
    "\n",
    "for legobj in leg.legendHandles:\n",
    "    legobj.set_linewidth(5.0)\n",
    "plt.setp(ax[0].get_xticklabels(), fontsize=13)\n",
    "plt.setp(ax[0].get_yticklabels(), fontsize=13)\n",
    "plt.setp(ax[1].get_xticklabels(), fontsize=13)\n",
    "plt.setp(ax[1].get_yticklabels(), fontsize=13)\n",
    "\n",
    "#Move other axis out of the way\n",
    "pos = ax[0].get_position()\n",
    "pos.y1 = 0.95   #height\n",
    "ax[0].set_position(pos)\n",
    "\n",
    "plt.tight_layout()\n",
    "plt.savefig(\"../Bilder/CO2-mix_Absolut_prozent_eng\", bbox_inches = 'tight',pad_inches = 0.08)\n"
   ]
  },
  {
   "cell_type": "code",
   "execution_count": 59,
   "metadata": {
    "ExecuteTime": {
     "end_time": "2021-01-15T11:06:08.783603Z",
     "start_time": "2021-01-15T11:06:08.062166Z"
    },
    "scrolled": false
   },
   "outputs": [
    {
     "data": {
      "application/vnd.jupyter.widget-view+json": {
       "model_id": "a9e60712973144e6bce59d05d32f2321",
       "version_major": 2,
       "version_minor": 0
      },
      "text/plain": [
       "Canvas(toolbar=Toolbar(toolitems=[('Home', 'Reset original view', 'home', 'home'), ('Back', 'Back to previous …"
      ]
     },
     "metadata": {},
     "output_type": "display_data"
    }
   ],
   "source": [
    "li_Carbon_RE = [\"carbon_production_biomass_avg\",\"carbon_production_hydro_avg\",\"carbon_production_solar_avg\",\n",
    "               \"carbon_production_wind_avg\",\"carbon_production_geothermal_avg\",\"carbon_production_hydro_discharge_avg\"]\n",
    "\n",
    "li_Carbon_NRE = [\"carbon_production_coal_avg\",\"carbon_production_gas_avg\",\"carbon_production_nuclear_avg\",\n",
    "                \"carbon_production_oil_avg\",\"carbon_production_unknown_avg\",\"carbon_production_battery_discharge_avg\"]\n",
    "\n",
    "\n",
    "fig, ax = plt.subplots(1,2, figsize=(12,7))\n",
    "\n",
    "sns.kdeplot( data = df_2015_2019, x = \"carbon_intensity_avg\", hue = \"year\" , ax = ax[0])\n",
    "ax[0].xaxis.grid()\n",
    "fig.suptitle('Verteilung der CO$_2$ Emissionen über die Jahre 2015-2020', fontsize=20)\n",
    "ax[0].set_xlabel('CO$_2$ Intensität [gCO$_2$eq/kWh]', fontsize = 14)\n",
    "ax[0].set_ylabel('Dichte', fontsize = 14)\n",
    "ax[0].legend(loc = \"upper right\", labels = [\"2019\",\"2018\",\"2017\",\"2016\",\"2015\"], title = \"Jahr\", \n",
    "             fontsize = 14,facecolor='#f5f5f5', framealpha=1)\n",
    "\n",
    "ax[0].yaxis.set_tick_params(labelsize=14)\n",
    "ax[0].xaxis.set_tick_params(labelsize=14)\n",
    "\n",
    "dfToPlot = pd.DataFrame()\n",
    "dfToPlot[\"carbon_RE\"] = df_2018[li_Carbon_RE].sum(axis=1)\n",
    "dfToPlot[\"carbon_NRE\"] = df_2018[li_Carbon_NRE].sum(axis=1)\n",
    "\n",
    "sns.kdeplot( data = dfToPlot, x = \"carbon_RE\" , color = \"green\" , ax = ax[1])\n",
    "sns.kdeplot( data = dfToPlot, x = \"carbon_NRE\" , color = \"grey\"  , ax = ax[1])\n",
    "\n",
    "ax[1].xaxis.grid()\n",
    "ax[1].set_xlabel('CO$_2$ Intensität [gCO$_2$eq/kWh]', fontsize = 14)\n",
    "ax[1].set_ylabel('Dichte', fontsize = 14)\n",
    "ax[1].legend(loc = \"upper right\", labels = [\"Erneuerbar\",\"Nicht Erneuerbar\"], title = \"Art der Erzeugung\", fontsize = 14\n",
    "            ,facecolor='#f5f5f5', framealpha=1)\n",
    "\n",
    "\n",
    "ax[1].yaxis.set_tick_params(labelsize=14)\n",
    "ax[1].xaxis.set_tick_params(labelsize=14)\n",
    "\n",
    "fig.patch.set_alpha(1)\n",
    "plt.savefig(\"../Bilder/Verteilung der CO2 Intensität\", bbox_inches = 'tight',pad_inches = 0.08)"
   ]
  },
  {
   "cell_type": "code",
   "execution_count": null,
   "metadata": {
    "ExecuteTime": {
     "end_time": "2020-11-19T15:58:48.832690Z",
     "start_time": "2020-11-19T15:58:48.810653Z"
    }
   },
   "outputs": [],
   "source": []
  },
  {
   "cell_type": "code",
   "execution_count": 60,
   "metadata": {
    "ExecuteTime": {
     "end_time": "2021-01-15T11:06:57.512827Z",
     "start_time": "2021-01-15T11:06:56.368597Z"
    }
   },
   "outputs": [
    {
     "data": {
      "application/vnd.jupyter.widget-view+json": {
       "model_id": "527d2661958546fcb6fbb0d3c2b90dff",
       "version_major": 2,
       "version_minor": 0
      },
      "text/plain": [
       "Canvas(toolbar=Toolbar(toolitems=[('Home', 'Reset original view', 'home', 'home'), ('Back', 'Back to previous …"
      ]
     },
     "metadata": {},
     "output_type": "display_data"
    }
   ],
   "source": [
    "fig, ax = plt.subplots(2,2, figsize=(12.5,8),gridspec_kw={'width_ratios': [3, 1]})\n",
    "\n",
    "li_Carbon_RE = [\"carbon_production_biomass_avg\",\"carbon_production_hydro_avg\",\"carbon_production_solar_avg\",\n",
    "               \"carbon_production_wind_avg\",\"carbon_production_geothermal_avg\",\"carbon_production_hydro_discharge_avg\"]\n",
    "\n",
    "li_Carbon_NRE = [\"carbon_production_coal_avg\",\"carbon_production_gas_avg\",\"carbon_production_nuclear_avg\",\n",
    "                \"carbon_production_oil_avg\",\"carbon_production_unknown_avg\"]\n",
    "               \n",
    "     \n",
    "li_test = [\"carbon_production_nuclear_avg\",\"carbon_production_oil_avg\"]\n",
    "        \n",
    "li_Carbon = [\"carbon_production_biomass_avg\",\"carbon_production_hydro_avg\",\"carbon_production_solar_avg\",\n",
    "               \"carbon_production_wind_avg\",\"carbon_production_hydro_discharge_avg\",\"carbon_production_battery_discharge_avg\"\n",
    "                ,\"carbon_production_coal_avg\",\"carbon_production_gas_avg\",\"carbon_production_nuclear_avg\",\n",
    "                \"carbon_production_oil_avg\",\"carbon_production_unknown_avg\"]\n",
    "\n",
    "li_Colors_RE = [\"green\", \"#0088ff\", \"orange\", \"grey\" , \"brown\", \"#0000ff\"]\n",
    "\n",
    "li_Colors_NRE = [\"grey\", \"purple\", \"#b4b88a\", \"brown\" , \"red\"]\n",
    "\n",
    "dfToPlot = pd.DataFrame()\n",
    "for i in range(0,len(li_Carbon_RE),1):\n",
    "    dfToPlot[li_Carbon_RE[i]] = df_2018[li_Carbon_RE[i]]\n",
    "sns.boxplot(palette=li_Colors_RE,  data=dfToPlot, ax = ax[0][0])\n",
    "\n",
    "sns.boxplot(y = \"carbon_production_geothermal_avg\",palette=[\"grey\"], \n",
    "              data=dfToPlot, ax = ax[0][1])\n",
    "\n",
    "ax[0][0].set_xticklabels([\"Biomasse\",\"Wasserkraft\",\"Photovolatik\",\"Windkraft\",\"Geothermie\",\"Pumpspeicher\"],fontsize=14)\n",
    "ax[0][1].set_xticklabels([\"Geothermie\"],fontsize=14)\n",
    "\n",
    "dfToPlot = pd.DataFrame()\n",
    "for i in range(0,len(li_Carbon_NRE),1):\n",
    "    dfToPlot[li_Carbon_NRE[i]] = df_2018[li_Carbon_NRE[i]]\n",
    "    \n",
    "sns.boxplot(palette=li_Colors_NRE, data=dfToPlot, ax = ax[1][0])\n",
    "\n",
    "dfToPlot = dfToPlot.drop([\"carbon_production_coal_avg\",\"carbon_production_gas_avg\"\n",
    "                          ,\"carbon_production_unknown_avg\"], axis = 1)\n",
    "\n",
    "sns.boxplot(palette=[\"#b4b88a\",\"brown\"],\n",
    "              data=dfToPlot, ax = ax[1][1])\n",
    "\n",
    "ax[1][0].set_xticklabels([\"Kohle\",\"Gas\",\"Nuklear\",\"Öl\",\"Unbekannt\"],fontsize=14)\n",
    "ax[1][1].set_xticklabels([\"Nuklear\",\"Öl\"],fontsize=14)\n",
    "\n",
    "\n",
    "for i in range(0,2,1):\n",
    "    for j in range(0,2,1):\n",
    "        ax[j][i].set_ylabel(\"CO$_2$ Intensität [gCO$_2$eq/kWh]\", fontsize = 14)\n",
    "        \n",
    "#change width of legend color lines\n",
    "for legobj in leg.legendHandles:\n",
    "    legobj.set_linewidth(3.0)\n",
    "    \n",
    "fig.suptitle('Verteilung der CO$_2$ Emissionen für erneuerbare\\n sowie nicht erneuerbare Energieträger', fontsize=20)\n",
    "\n",
    "#Move other axis out of the way\n",
    "pos = ax[0][0].get_position()\n",
    "pos.y1 = 0.99    #height\n",
    "ax[0][0].set_position(pos)\n",
    "\n",
    "plt.tight_layout()\n",
    "plt.savefig(\"../Bilder/Verteilung Energieträger\", bbox_inches = 'tight',pad_inches = 0.08)\n"
   ]
  },
  {
   "cell_type": "code",
   "execution_count": 61,
   "metadata": {
    "ExecuteTime": {
     "end_time": "2021-01-15T11:06:59.817078Z",
     "start_time": "2021-01-15T11:06:59.010689Z"
    }
   },
   "outputs": [
    {
     "data": {
      "application/vnd.jupyter.widget-view+json": {
       "model_id": "04c4eda63ae246ff8dd59bd57da667f0",
       "version_major": 2,
       "version_minor": 0
      },
      "text/plain": [
       "Canvas(toolbar=Toolbar(toolitems=[('Home', 'Reset original view', 'home', 'home'), ('Back', 'Back to previous …"
      ]
     },
     "metadata": {},
     "output_type": "display_data"
    }
   ],
   "source": [
    "fig, ax = plt.subplots(2,2, figsize=(12.5,8),gridspec_kw={'width_ratios': [3, 1]})\n",
    "\n",
    "\n",
    "# 54  carbon_origin_percent_geothermal_avg          float64\n",
    "\n",
    "\n",
    "li_Carbon_RE = [\"carbon_origin_percent_biomass_avg\",\"carbon_origin_percent_hydro_avg\",\"carbon_origin_percent_solar_avg\",\n",
    "               \"carbon_origin_percent_wind_avg\",\"carbon_origin_percent_geothermal_avg\",\"carbon_origin_percent_hydro_discharge_avg\"]\n",
    "\n",
    "li_Carbon_NRE = [\"carbon_origin_percent_coal_avg\",\"carbon_origin_percent_gas_avg\",\"carbon_origin_percent_nuclear_avg\",\n",
    "                \"carbon_origin_percent_oil_avg\",\"carbon_origin_percent_unknown_avg\"]\n",
    "               \n",
    "     \n",
    "li_test = [\"carbon_production_nuclear_avg\",\"carbon_production_oil_avg\"]\n",
    "        \n",
    "li_Carbon = [\"carbon_origin_percent_biomass_avg\",\"carbon_origin_percent_hydro_avg\",\"carbon_origin_percent_solar_avg\",\n",
    "               \"carbon_origin_percent_wind_avg\",\"carbon_origin_percent_hydro_discharge_avg\",\"carbon_production_battery_discharge_avg\"\n",
    "                ,\"carbon_origin_percent_coal_avg\",\"carbon_origin_percent_gas_avg\",\"carbon_origin_percent_nuclear_avg\",\n",
    "                \"carbon_origin_percent_oil_avg\",\"carbon_origin_percent_unknown_avg\"]\n",
    "\n",
    "li_Colors_RE = [\"green\", \"#0088ff\", \"orange\", \"grey\" , \"brown\", \"#0000ff\"]\n",
    "\n",
    "li_Colors_NRE = [\"grey\", \"purple\", \"#b4b88a\", \"brown\" , \"red\"]\n",
    "\n",
    "dfToPlot = pd.DataFrame()\n",
    "for i in range(0,len(li_Carbon_RE),1):\n",
    "    dfToPlot[li_Carbon_RE[i]] = df_2018[li_Carbon_RE[i]]\n",
    "sns.boxplot(palette=li_Colors_RE,  data=dfToPlot, ax = ax[0][0])\n",
    "\n",
    "sns.boxplot(y = \"carbon_origin_percent_geothermal_avg\",palette=[\"grey\"], \n",
    "              data=dfToPlot, ax = ax[0][1])\n",
    "\n",
    "ax[0][0].set_xticklabels([\"Biomasse\",\"Wasserkraft\",\"Photovolatik\",\"Windkraft\",\"Geothermie\",\"Pumpspeicher\"],fontsize=14)\n",
    "ax[0][1].set_xticklabels([\"Geothermie\"],fontsize=14)\n",
    "\n",
    "dfToPlot = pd.DataFrame()\n",
    "for i in range(0,len(li_Carbon_NRE),1):\n",
    "    dfToPlot[li_Carbon_NRE[i]] = df_2018[li_Carbon_NRE[i]]\n",
    "    \n",
    "sns.boxplot(palette=li_Colors_NRE, data=dfToPlot, ax = ax[1][0])\n",
    "\n",
    "dfToPlot = dfToPlot.drop([\"carbon_origin_percent_coal_avg\",\"carbon_origin_percent_gas_avg\"\n",
    "                          ,\"carbon_origin_percent_unknown_avg\"], axis = 1)\n",
    "\n",
    "sns.boxplot(palette=[\"#b4b88a\",\"brown\"], \n",
    "              data=dfToPlot, ax = ax[1][1])\n",
    "\n",
    "ax[1][0].set_xticklabels([\"Kohle\",\"Gas\",\"Nuklear\",\"Öl\",\"Unbekannt\"],fontsize=14)\n",
    "ax[1][1].set_xticklabels([\"Nuklear\",\"Öl\"],fontsize=14)\n",
    "\n",
    "\n",
    "for i in range(0,2,1):\n",
    "    for j in range(0,2,1):\n",
    "        ax[j][i].set_ylabel(\"Prozent [%]\", fontsize = 14)\n",
    "\n",
    "#change width of legend color lines\n",
    "for legobj in leg.legendHandles:\n",
    "    legobj.set_linewidth(3.0)\n",
    "    \n",
    "fig.suptitle('Verteilung der CO$_2$ Emissionen für erneuerbare\\n sowie nicht erneuerbare Energieträger in Prozent', fontsize=20)\n",
    "\n",
    "#Move other axis out of the way\n",
    "pos = ax[0][0].get_position()\n",
    "pos.y1 = 0.99    #height\n",
    "ax[0][0].set_position(pos)\n",
    "\n",
    "plt.tight_layout()\n",
    "plt.savefig(\"../Bilder/Verteilung Energieträger prozent\", bbox_inches = 'tight',pad_inches = 0.08)"
   ]
  },
  {
   "cell_type": "markdown",
   "metadata": {},
   "source": [
    "# Stromimporte"
   ]
  },
  {
   "cell_type": "code",
   "execution_count": 62,
   "metadata": {
    "ExecuteTime": {
     "end_time": "2021-01-15T11:07:11.671275Z",
     "start_time": "2021-01-15T11:07:01.620517Z"
    }
   },
   "outputs": [
    {
     "data": {
      "application/vnd.jupyter.widget-view+json": {
       "model_id": "e59eedd87c8c4dd2b1f0e27cc162ac80",
       "version_major": 2,
       "version_minor": 0
      },
      "text/plain": [
       "Canvas(toolbar=Toolbar(toolitems=[('Home', 'Reset original view', 'home', 'home'), ('Back', 'Back to previous …"
      ]
     },
     "metadata": {},
     "output_type": "display_data"
    }
   ],
   "source": [
    "fig, ax = plt.subplots(2,2,  figsize=(10,6))\n",
    "\n",
    "li_ToPlot = [\"total_production_avg\",\"total_consumption_avg\",\"total_import_avg\",\"total_export_avg\"]\n",
    "li_Color = [\"green\",\"orange\",\"red\",\"blue\"]\n",
    "\n",
    "li_Seasons = [\"Frühling\", \"Sommer\", \"Herbst\", \"Winter\"]\n",
    "i = 0\n",
    "for row in range(0,2,1):\n",
    "    for col in range(0,2,1):\n",
    "        for data in range(0,len(li_ToPlot),1):  \n",
    "            sns.lineplot(x=\"hour\", y=li_ToPlot[data]\n",
    "                    , data=df_2018[df_2018.index.quarter == i+1] , ax = ax[row][col] \n",
    "                    ,color=li_Color[data], legend = False , ci = 0)\n",
    "    \n",
    "        ax[row][col].set_xlabel('')\n",
    "        ax[row][col].set_ylabel('Energie [MW]', fontsize = 14)\n",
    "        ax[row][col].set_title('Durchschnittlicher Tag im ' + li_Seasons[i])\n",
    "        ax[row][col].set_ylim(0,10000)\n",
    "        i += 1\n",
    "    \n",
    "    \n",
    "fig.suptitle('Durchschnittliche Stromwerte\\nüber die Jahre 2015-2020', fontsize=20)\n",
    "leg = fig.legend(labels = [\"Produktion\",\"Verbrauch\",\"Import\",\"Export\"], \n",
    "        bbox_to_anchor = [0.88, 0.89],prop={'size': 14}, ncol = 4,facecolor='#f5f5f5', framealpha=1)\n",
    "\n",
    "#change width of legend color lines\n",
    "for legobj in leg.legendHandles:\n",
    "    legobj.set_linewidth(5.0)\n",
    "    \n",
    "for i in range(0,4,1):\n",
    "    leg.legendHandles[i].set_color(li_Color[i]) \n",
    "    \n",
    "#Move other axis out of the way\n",
    "pos = ax[0][0].get_position()\n",
    "pos.y1 = 1.05    #height\n",
    "ax[0][0].set_position(pos)\n",
    "plt.tight_layout()\n",
    "plt.savefig(\"../Bilder/Stromwerte über einen durchschnittlichen Tag pro Quartal\", bbox_inches = 'tight',pad_inches = 0.08)"
   ]
  },
  {
   "cell_type": "code",
   "execution_count": 63,
   "metadata": {
    "ExecuteTime": {
     "end_time": "2021-01-15T11:07:54.870871Z",
     "start_time": "2021-01-15T11:07:11.877840Z"
    }
   },
   "outputs": [
    {
     "data": {
      "application/vnd.jupyter.widget-view+json": {
       "model_id": "3c26568436c44ec1914c52dba7cda8fe",
       "version_major": 2,
       "version_minor": 0
      },
      "text/plain": [
       "Canvas(toolbar=Toolbar(toolitems=[('Home', 'Reset original view', 'home', 'home'), ('Back', 'Back to previous …"
      ]
     },
     "metadata": {},
     "output_type": "display_data"
    }
   ],
   "source": [
    "\n",
    "li_Months = [\"Jänner\",\"Februar\",\"März\",\"April\",\"Mai\",\"Juni\",\"Juli\",\"August\",\"September\",\"Oktober\",\"November\",\"Dezember\"]\n",
    "li_Quarter = [\"Quartal: Januar - März\", \"Quartal: April - Juni\", \"Quartal: Juli - September\", \"Quartal: Oktober - Dezember\"]\n",
    "li_ToPLot = [\"power_net_import_CH_avg\",\"power_net_import_CZ_avg\",\"power_net_import_DE_avg\",\"power_net_import_HU_avg\",\n",
    "            \"power_net_import_IT-NO_avg\",\"power_net_import_SI_avg\", \"hour\", \"date\", \"week\"]\n",
    "li_Color = [\"red\",\"grey\",\"green\",\"blue\",\"orange\",\"black\"]\n",
    "dfToPlot = pd.DataFrame()\n",
    "\n",
    "fig, ax = plt.subplots(4,3, figsize=(12, 12))\n",
    "\n",
    "\n",
    "column = 0\n",
    "row = 0\n",
    "\n",
    "\n",
    "#~~~~~~~~~~~~~~~~~~~~~~~~~~~~~~~~~~~~~~~~~~~~~~~~~~~~~~~~~~~~~~~~~~~~~~~~~~~~~~~~~~~~~~~~~\n",
    "#Upper left: Primary Energy for one average day of the year \n",
    "for month in range(0,12,1):\n",
    "    dfToPlot = df_2018[li_ToPLot].groupby(pd.Grouper(freq='H')).mean()\n",
    "    dfToPlot = dfToPlot[dfToPlot.index.year == 2019]\n",
    "    dfToPlot = dfToPlot[dfToPlot.index.month == month+1]\n",
    "    for i in range(0,len(li_ToPLot)-3,1):  \n",
    "        sns.lineplot(x=\"hour\",y = dfToPlot[li_ToPLot[i]], data=dfToPlot , ax = ax[row][column], color = li_Color[i], ci = 0)\n",
    "    \n",
    "    ax[row][column].set_xticks([0,8,16])\n",
    "    ax[row][column].set_xticklabels([\"0\",\"8\",\"16\"])\n",
    "    ax[row][column].set_xlabel(\"\")\n",
    "    ax[row][column].set_ylabel(\"Ausgleichsstrom\\n[MW]\", fontsize = 14)\n",
    "    ax[row][column].set_ylim(bottom=-1500)\n",
    "    ax[row][column].set_title(li_Months[month] )\n",
    "    ax[row][column].set_ylim(-1500,3000 )\n",
    "    ax[row][column].get_yaxis().set_major_formatter(matplotlib.ticker.FuncFormatter(lambda x, loc: locale.format_string('%d', x, 1)))\n",
    "    column += 1\n",
    "    if column == 3:\n",
    "        row += 1\n",
    "        column = 0\n",
    "  \n",
    "fig.suptitle('Importe und Exporte der Nachbarländer Österreichs', fontsize=20)\n",
    "#create a legend for the whole figure\n",
    "leg = fig.legend(labels = [\"Schweiz\",\"Tschechien\",\"Deutschland\",\n",
    "                           \"Ungarn\",\"Italien\",\"Slowenien\"], bbox_to_anchor = [0.8, 0.935],\n",
    "                             prop={'size': 14},ncol = 3,facecolor='#f5f5f5', framealpha=1)\n",
    "#change width of legend color lines\n",
    "for legobj in leg.legendHandles:\n",
    "    legobj.set_linewidth(10.0)\n",
    "\n",
    "#Move other axis out of the way\n",
    "pos = ax[0][0].get_position()\n",
    "pos.y0 = 1    #height\n",
    "ax[0][0].set_position(pos)\n",
    "plt.tight_layout()\n",
    "plt.savefig(\"../Bilder/Stromimporte\", bbox_inches = 'tight',pad_inches = 0.08)"
   ]
  },
  {
   "cell_type": "code",
   "execution_count": null,
   "metadata": {
    "ExecuteTime": {
     "end_time": "2021-01-15T10:39:42.814542Z",
     "start_time": "2021-01-15T10:36:19.633Z"
    }
   },
   "outputs": [],
   "source": [
    "df_ToPlot[\"import\"] =  df_2018[li_ToPLot[0]]\n",
    "df_ToPlot[\"pos\"] = df_ToPlot[\"import\"].clip(0, 15000)\n",
    "df_ToPlot[\"neg\"] = df_ToPlot[\"import\"].clip(0, -15000)\n",
    "\n",
    "df_ToPlot.describe()"
   ]
  },
  {
   "cell_type": "code",
   "execution_count": null,
   "metadata": {
    "ExecuteTime": {
     "end_time": "2021-01-15T10:39:42.815553Z",
     "start_time": "2021-01-15T10:36:19.639Z"
    }
   },
   "outputs": [],
   "source": [
    "  \n",
    "    \n",
    "    \n",
    "\n",
    "\n",
    "li_ToPLot = [\"power_net_import_CH_avg\",\"power_net_import_CZ_avg\",\"power_net_import_DE_avg\",\"power_net_import_HU_avg\",\n",
    "            \"power_net_import_IT-NO_avg\",\"power_net_import_SI_avg\", \"year\", \"date\", \"week\"]\n",
    "\n",
    "\n",
    "\n",
    "li_Color = [\"red\",\"grey\",\"green\",\"blue\",\"orange\",\"black\"]\n",
    "df_ToPlot = pd.DataFrame()\n",
    "df_ToPlot[\"year\"] = df_2018[\"year\"]\n",
    "\n",
    "\n",
    "fig, ax = plt.subplots(3,4 ,figsize=(14,10))\n",
    "i = 0\n",
    "for row in range(0,3,1):\n",
    "    for col in range(0,4,2):\n",
    "        \n",
    "        df_ToPlot[\"import\"] =  df_2018[li_ToPLot[i]]\n",
    "        df_ToPlot[\"pos\"] = df_ToPlot[\"import\"].clip(0, 15000)\n",
    "        df_ToPlot[\"neg\"] = df_ToPlot[\"import\"].clip(0, -15000)\n",
    "        df_ToPlot[\"netto\"] = df_ToPlot[\"pos\"] - abs(df_ToPlot[\"neg\"])\n",
    "        \n",
    "        sns.barplot(x = \"year\", y = \"pos\", data = df_ToPlot.resample(\"Y\").sum().divide(1e6) , \n",
    "                ax = ax[row][col], palette = [\"blue\",\"blue\"])\n",
    "        \n",
    "        sns.barplot(x = \"year\", y = \"neg\", data = df_ToPlot.resample(\"Y\").sum().divide(1e6) , \n",
    "                ax = ax[row][col], palette= [\"red\",\"red\"])\n",
    "        \n",
    "        if df_ToPlot[\"netto\"].sum() > 0:\n",
    "            color = \"#414ac4\"\n",
    "        else:\n",
    "            color = \"#c44141\"\n",
    "        \n",
    "        sns.barplot(x = \"year\", y = \"netto\", data = df_ToPlot.resample(\"Y\").sum().divide(1e6) , \n",
    "                ax = ax[row][col + 1], palette= [color])\n",
    "        #ax[row][col].set_ylim(-20,20)\n",
    "        ax[row][col].set_title(\"Import/Export\")\n",
    "        ax[row][col].set_ylabel(\"Ausgleichsenergie [TWh]\")\n",
    "        ax[row][col].set_xlabel(\"\")\n",
    "        ax[row][col].set_xticklabels([\"2018\",\"2019\"])\n",
    "        \n",
    "        ax[row][col+1].set_title(\"Netto\")\n",
    "        ax[row][col+1].set_ylabel(\"Ausgleichsenergie [TWh]\")\n",
    "        ax[row][col+1].set_xlabel(\"\")\n",
    "        ax[row][col+1].set_xticklabels([\"2018\",\"2019\"])\n",
    "        \n",
    "        \n",
    "        \n",
    "        i += 1\n",
    "        \n",
    "\n",
    "\n",
    "plt.figtext(0.25,0.9, \"Schweiz\",fontsize = 15 , bbox=dict(fill=False, edgecolor='black', linewidth=1))\n",
    "\n",
    "plt.figtext(0.735,0.9, \"Tschechien\",fontsize = 15 , bbox=dict(fill=False, edgecolor='black', linewidth=1))\n",
    "\n",
    "plt.figtext(0.235,0.59, \"Deutschland\",fontsize = 15 , bbox=dict(fill=False, edgecolor='black', linewidth=1))\n",
    "\n",
    "plt.figtext(0.75,0.59, \"Ungarn\",fontsize = 15 , bbox=dict(fill=False, edgecolor='black', linewidth=1))\n",
    "\n",
    "plt.figtext(0.255,0.29, \"Italien\",fontsize = 15 , bbox=dict(fill=False, edgecolor='black', linewidth=1))\n",
    "\n",
    "plt.figtext(0.745,0.29, \"Slowenien\",fontsize = 15 , bbox=dict(fill=False, edgecolor='black', linewidth=1))\n",
    "   \n",
    "fig.suptitle('Importe/Exporte der einzelnen Länder', fontsize=20)\n",
    "pos = ax[0][0].get_position()\n",
    "pos.y1 = pos.y1 + 0.1    #height\n",
    "ax[0][0].set_position(pos)\n",
    "\n",
    "pos = ax[1][0].get_position()\n",
    "pos.y1 = pos.y1 + 0.03    #height\n",
    "ax[1][0].set_position(pos)\n",
    "\n",
    "pos = ax[2][0].get_position()\n",
    "pos.y1 = pos.y1 + 0.03   #height\n",
    "ax[2][0].set_position(pos)\n",
    "plt.tight_layout()\n",
    "plt.savefig(\"../Bilder/Importe_Exporte der einzelnen Länder\", bbox_inches = 'tight',pad_inches = 0.08)"
   ]
  },
  {
   "cell_type": "code",
   "execution_count": null,
   "metadata": {
    "ExecuteTime": {
     "end_time": "2021-01-15T10:39:42.816537Z",
     "start_time": "2021-01-15T10:36:19.645Z"
    }
   },
   "outputs": [],
   "source": [
    "fig, ax = plt.subplots(2,2,  figsize=(8,7))\n",
    "\n",
    "li_ToPlot = [\"carbon_intensity_avg\",\"carbon_intensity_production_avg\",\"carbon_intensity_import_avg\"]\n",
    "li_Color = [\"red\",\"green\",\"grey\"]\n",
    "\n",
    "li_Seasons = [\"Frühling\", \"Sommer\", \"Herbst\", \"Winter\"]\n",
    "i = 0\n",
    "for row in range(0,2,1):\n",
    "    for col in range(0,2,1):\n",
    "    \n",
    "        for data in range(0,len(li_ToPlot),1):  \n",
    "            sns.lineplot(x=\"hour\", y=li_ToPlot[data]\n",
    "                    , data=df_2018[df_2018.index.quarter == i+1] , ax = ax[row][col] \n",
    "                    ,color=li_Color[data], legend = False , ci = 0)\n",
    "    \n",
    "        ax[row][col].set_xlabel('')\n",
    "        ax[row][col].set_ylabel('CO$_2$ Intensität\\n[gCO$_2$eq/kWh]')\n",
    "        ax[row][col].set_title('Durchschnittlicher\\nTag im ' + li_Seasons[i])\n",
    "        ax[row][col].set_ylim(0,500)\n",
    "        i +=1\n",
    "    \n",
    "    \n",
    "fig.suptitle('Vergleich der CO$_2$-Intensitäten\\nüber die Jahre 2015-2020', fontsize=20)\n",
    "leg = fig.legend(labels = [\"CO$_2$-Intensität\",\"CO$_2$-Produziert\",\"CO$_2$-Importiert\"], \n",
    "        bbox_to_anchor = [0.95, 0.89],prop={'size': 14}, ncol = 3,facecolor='#f5f5f5', framealpha=1)\n",
    "\n",
    "#change width of legend color lines\n",
    "for legobj in leg.legendHandles:\n",
    "    legobj.set_linewidth(5.0)\n",
    "    \n",
    "for i in range(0,3,1):\n",
    "    leg.legendHandles[i].set_color(li_Color[i]) \n",
    "    \n",
    "#Move other axis out of the way\n",
    "pos = ax[0][0].get_position()\n",
    "pos.y1 = 1.05    #height\n",
    "ax[0][0].set_position(pos)\n",
    "plt.tight_layout()\n",
    "plt.savefig(\"../Bilder/CO2 Werte für Import_produziert_Verbraucht\", bbox_inches = 'tight',pad_inches = 0.08)"
   ]
  },
  {
   "cell_type": "code",
   "execution_count": null,
   "metadata": {
    "ExecuteTime": {
     "end_time": "2021-01-15T10:39:42.818531Z",
     "start_time": "2021-01-15T10:36:19.651Z"
    }
   },
   "outputs": [],
   "source": [
    "fig, ax = plt.subplots(2,2,  figsize=(8,7))\n",
    "\n",
    "li_ToPlot = [\"carbon_intensity_avg\",\"carbon_intensity_production_avg\",\"carbon_intensity_import_avg\"]\n",
    "li_Color = [\"red\",\"green\",\"grey\"]\n",
    "\n",
    "li_Seasons = [\"Spring\", \"Summer\", \"Autumn\", \"Winter\"]\n",
    "i = 0\n",
    "for row in range(0,2,1):\n",
    "    for col in range(0,2,1):\n",
    "        \n",
    "        for data in range(0,len(li_ToPlot),1):  \n",
    "            sns.lineplot(x=\"hour\", y=li_ToPlot[data]\n",
    "                    , data=df_2018[df_2018.index.quarter == i+1] , ax = ax[row][col] \n",
    "                    ,color=li_Color[data], legend = False , ci = 0)\n",
    "    \n",
    "        ax[row][col] .set_xlabel('')\n",
    "        ax[row][col] .set_ylabel('CO$_2$ Intensity\\n[gCO$_2$eq/kWh]')\n",
    "        ax[row][col] .set_title('Average day in ' + li_Seasons[i],fontsize=14)\n",
    "        ax[row][col] .set_ylim(0,500)\n",
    "        ax[row][col].set_xticks([0,5,10,15,20])\n",
    "        ax[row][col].set_xticklabels([\"0\",\"5\",\"10\",\"15\",\"20\"])\n",
    "        plt.setp(ax[row][col].get_xticklabels(), fontsize=13)\n",
    "        plt.setp(ax[row][col].get_yticklabels(), fontsize=13)\n",
    "        i += 1\n",
    "    \n",
    "    \n",
    "fig.suptitle('Comparison of CO$_2$-Intensity', fontsize=20)\n",
    "leg = fig.legend(labels = [\"CO$_2$-Intensity\",\"CO$_2$-Produced\",\"CO$_2$-Imported\"], \n",
    "        bbox_to_anchor = [0.93, 0.90],prop={'size': 14}, ncol = 3,facecolor='#f5f5f5', framealpha=1)\n",
    "\n",
    "#change width of legend color lines\n",
    "for legobj in leg.legendHandles:\n",
    "    legobj.set_linewidth(5.0)\n",
    "    \n",
    "for i in range(0,3,1):\n",
    "    leg.legendHandles[i].set_color(li_Color[i]) \n",
    "    \n",
    "#Move other axis out of the way\n",
    "pos = ax[0][0].get_position()\n",
    "pos.y1 = 1.05    #height\n",
    "ax[0][0].set_position(pos)\n",
    "plt.tight_layout()\n",
    "plt.savefig(\"../Bilder/CO2 Werte für Import_produziert_Verbraucht_eng\", bbox_inches = 'tight',pad_inches = 0.08)"
   ]
  },
  {
   "cell_type": "code",
   "execution_count": null,
   "metadata": {
    "ExecuteTime": {
     "end_time": "2021-01-15T10:39:42.819529Z",
     "start_time": "2021-01-15T10:36:19.657Z"
    },
    "scrolled": false
   },
   "outputs": [],
   "source": [
    "\n",
    "fig, ax = plt.subplots(1, 2, figsize=(15,5))\n",
    "sns.lineplot(x=\"hour\", y=\"carbon_intensity_avg\"\n",
    "                ,hue=\"year\", data=df_2015_2019 , ax = ax[0] , palette=[\"C0\", \"C1\", \"C2\",\"C3\", \"C4\"] )\n",
    "\n",
    "ax[0].set_ylabel('CO$_2$-Intensität [gCO$_2$eq]')\n",
    "ax[0].set_xlabel('Tag')\n",
    "ax[0].set_title('CO$_2$ Emissionen über einen durchschnittlichen Tag pro Jahr')\n",
    "leg =  ax[0].legend( loc='lower center',fontsize = 12, ncol = 5) \n",
    "\n",
    "ax[1].bar(x =  [\"2015\",\"2016\",\"2017\",\"2018\",\"2019\"],\n",
    "          height = df_2015_2019[\"carbon_intensity_avg\"].resample(\"Y\").mean() )\n",
    "ax[1].set_ylabel('CO$_2$-Intensität [gCO$_2$eq/kWh]')\n",
    "ax[1].set_xlabel('Jahr')\n",
    "ax[1].set_title('Durchschnittliche CO$_2$ Werte im Jahr')\n",
    "\n",
    "\n",
    "#change width of legend color lines\n",
    "for legobj in leg.legendHandles:\n",
    "    legobj.set_linewidth(5.0)\n",
    "\n",
    "plt.tight_layout()\n",
    "plt.savefig(\"../Bilder/CO2 Emissionen über einen durchschnittlichen Tag pro Jahr\")"
   ]
  },
  {
   "cell_type": "code",
   "execution_count": null,
   "metadata": {
    "ExecuteTime": {
     "end_time": "2020-11-18T19:25:37.773136Z",
     "start_time": "2020-11-18T19:25:37.768130Z"
    }
   },
   "outputs": [],
   "source": []
  },
  {
   "cell_type": "markdown",
   "metadata": {},
   "source": [
    "Darstellung der monatlichen CO2 werte für die Jahre 2015-2019\n",
    "Grenzwerte der OIB Richtlinie sind in rot dargestellt.\n",
    "\n",
    "\n",
    "Überschreitung der Grenzwerte im Spätsommer/herbst\n",
    "Abfall im frühling 2019(Vielleicht überdurchschnittlich warmer Frühling?)\n",
    "\n",
    "Jahre 2015-2017 mitteln\n",
    "OIB2019 im linekn diagramm darstellen(Jahreswert)"
   ]
  },
  {
   "cell_type": "code",
   "execution_count": null,
   "metadata": {
    "ExecuteTime": {
     "end_time": "2021-01-15T10:39:42.820526Z",
     "start_time": "2021-01-15T10:36:19.667Z"
    },
    "hide_input": false,
    "scrolled": true
   },
   "outputs": [],
   "source": [
    "\n",
    "fig, ax = plt.subplots(1, 2, figsize=(15,5))\n",
    "sns.lineplot(x=\"month\", y=\"carbon_intensity_avg\"\n",
    "                ,hue=\"year\", data=df_2015_2019.resample(\"M\").mean()  , ax = ax[0] \n",
    "             , palette=[\"C0\", \"C1\", \"C2\",\"C3\", \"C4\"] )\n",
    "ax[0].set_ylabel('CO$_2$-Intensität [g/kWh$_e$$_l$]')\n",
    "ax[0].set_xlabel('Monat')\n",
    "ax[0].set_title('CO2 Emissionen verglichen mit monatlichen OIB-RL6 Grenzwerten')\n",
    "\n",
    "\n",
    "ax[1].bar(x = [\"2015\",\"2016\",\"2017\",\"2018\",\"2019\"],\n",
    "          height = df_2015_2019[\"carbon_intensity_avg\"].resample(\"Y\").mean() )\n",
    "ax[1].set_ylabel('CO$_2$-Intensität [g/kWh$_e$$_l$]')\n",
    "ax[1].set_xlabel('Jahr')\n",
    "ax[1].set_title('Durchschnittliche CO$_2$ Werte im Jahr')\n",
    "i = 0\n",
    "while i != 11:\n",
    "    #draw horizontal line\n",
    "    ax[0].plot([i+1, i+2], [df_OIB_RL6[\"fCO2eq\"][i],df_OIB_RL6[\"fCO2eq\"][i]], \n",
    "             linewidth=3, color = \"red\")\n",
    "    if i+1 !=11:\n",
    "        #draw vertical line\n",
    "        ax[0].plot([i+2, i+2], [df_OIB_RL6[\"fCO2eq\"][i+1],df_OIB_RL6[\"fCO2eq\"][i]],\n",
    "             linewidth=3 ,color = \"red\")   \n",
    "    i += 1\n",
    "    \n",
    "#invisible point for label\n",
    "ax[0].plot([1, 1], [1,1], \n",
    "             linewidth=3, color = \"red\" , label = \"OIB_RL6(2018)\")    \n",
    "\n",
    "ax[0].legend( loc='lower left',fontsize = 12) \n",
    "\n",
    "\n",
    "plt.tight_layout()"
   ]
  },
  {
   "cell_type": "code",
   "execution_count": null,
   "metadata": {
    "ExecuteTime": {
     "end_time": "2021-01-15T10:39:42.821524Z",
     "start_time": "2021-01-15T10:36:19.674Z"
    }
   },
   "outputs": [],
   "source": [
    "#import bezier\n",
    "from ipywidgets import interact, interactive, fixed, interact_manual\n",
    "\n",
    "from IPython.display import display\n",
    "import ipywidgets as widgets\n",
    "from gekko import GEKKO\n",
    "def f(x):\n",
    "    return x"
   ]
  },
  {
   "cell_type": "code",
   "execution_count": null,
   "metadata": {
    "ExecuteTime": {
     "end_time": "2021-01-15T10:39:42.822525Z",
     "start_time": "2021-01-15T10:36:19.680Z"
    }
   },
   "outputs": [],
   "source": [
    "l = 24\n",
    "\n",
    "edge_length = 3\n",
    "\n",
    "xm = np.arange(-edge_length,l+edge_length,1)\n",
    "#ym = np.arange(0,l+2,1)\n",
    "ym = np.random.random(l+2*edge_length)\n",
    "ym[0:edge_length*2] = ym[-edge_length*2:]\n",
    "\n",
    "\n",
    "print(xm)\n",
    "print(ym)"
   ]
  },
  {
   "cell_type": "code",
   "execution_count": null,
   "metadata": {
    "ExecuteTime": {
     "end_time": "2021-01-15T10:39:42.824516Z",
     "start_time": "2021-01-15T10:36:19.687Z"
    }
   },
   "outputs": [],
   "source": [
    "from __future__ import print_function\n",
    "from ipywidgets import interact, interactive, fixed, interact_manual\n",
    "import ipywidgets as widgets\n",
    "interact(f, x=10)"
   ]
  },
  {
   "cell_type": "code",
   "execution_count": null,
   "metadata": {
    "ExecuteTime": {
     "end_time": "2021-01-15T10:39:42.825535Z",
     "start_time": "2021-01-15T10:36:19.692Z"
    }
   },
   "outputs": [],
   "source": [
    "slider = {}\n",
    "for i in range(l):\n",
    "    a = widgets.FloatSlider(min=-1.,\n",
    "                            max=3.,\n",
    "                            value=1.,\n",
    "                            orientation=\"vertical\",\n",
    "                            title=str(i+1))\n",
    "    slider[i] = a\n",
    "\n",
    "tuple(slider.values())"
   ]
  },
  {
   "cell_type": "code",
   "execution_count": null,
   "metadata": {
    "ExecuteTime": {
     "end_time": "2021-01-15T10:39:42.826510Z",
     "start_time": "2021-01-15T10:36:19.701Z"
    }
   },
   "outputs": [],
   "source": [
    "ui = widgets.HBox(tuple(slider.values()))\n",
    "def f(*s):\n",
    "    print((s))\n",
    "\n",
    "out = widgets.interactive_output(f, slider)\n",
    "display(ui, out)"
   ]
  },
  {
   "cell_type": "code",
   "execution_count": null,
   "metadata": {
    "ExecuteTime": {
     "end_time": "2021-01-15T10:39:42.827508Z",
     "start_time": "2021-01-15T10:36:19.707Z"
    }
   },
   "outputs": [],
   "source": [
    "vals = [x.value for x in slider.values()]\n",
    "vals"
   ]
  },
  {
   "cell_type": "code",
   "execution_count": null,
   "metadata": {
    "ExecuteTime": {
     "end_time": "2021-01-03T17:35:20.823520Z",
     "start_time": "2021-01-03T17:34:58.151426Z"
    }
   },
   "outputs": [],
   "source": []
  },
  {
   "cell_type": "code",
   "execution_count": null,
   "metadata": {
    "ExecuteTime": {
     "end_time": "2021-01-03T17:35:20.825514Z",
     "start_time": "2021-01-03T17:30:05.936Z"
    }
   },
   "outputs": [],
   "source": []
  },
  {
   "cell_type": "code",
   "execution_count": null,
   "metadata": {},
   "outputs": [],
   "source": []
  },
  {
   "cell_type": "code",
   "execution_count": null,
   "metadata": {
    "ExecuteTime": {
     "end_time": "2021-01-03T17:35:20.826512Z",
     "start_time": "2021-01-03T17:30:05.950Z"
    }
   },
   "outputs": [],
   "source": []
  },
  {
   "cell_type": "code",
   "execution_count": null,
   "metadata": {
    "ExecuteTime": {
     "end_time": "2021-01-03T17:35:20.827509Z",
     "start_time": "2021-01-03T17:30:05.957Z"
    }
   },
   "outputs": [],
   "source": []
  },
  {
   "cell_type": "code",
   "execution_count": null,
   "metadata": {
    "ExecuteTime": {
     "end_time": "2021-01-15T10:39:42.828504Z",
     "start_time": "2021-01-15T10:36:19.727Z"
    }
   },
   "outputs": [],
   "source": [
    "OE_NORM = [\n",
    "    [2.144,0.066,1.013,-1.969,0.352,-3.294,-3.79,-4.233,-0.731,-5.349,0.382,-0.981,0.71,-2.388],\n",
    "    [3.918,2.972,3.088,1.366,2.181,-0.184,2.260,0.046,2.22,0.035,2.706,2.045,2.549,0.834],\n",
    "    [7.793,7.411,7.333,6.402,6.523,4.943,6.940,5.696,7.226,6.448,7.137,6.814,6.762,5.945],\n",
    "    [12.511,11.99,12.416,11.532,11.802,10.533,12.16,11.289,12.482,12.253,12.236,11.895,11.872,11.369],\n",
    "    [16.576,16.013,16.652,15.874,16.220,15.175,16.462,15.772,16.841,16.84,16.666,16.362,16.306,15.881],\n",
    "    [20.023,19.179,20.047,18.961,19.63,18.308,20.071,18.95,20.619,20.516,20.245,19.923,19.855,19.196],\n",
    "    [21.92,20.94,21.76,20.24,21.5,19.69,21.74,20.19,22.47,22.01,21.97,21.56,21.84,20.87],\n",
    "    [21.44,19.86,21.26,19.37,20.94,18.78,21.18,19.3,21.7,20.67,21.24,20.67,21.27,19.9],\n",
    "    [17.6,16.44,17.45,15.93,16.94,14.91,17.29,15.73,17.57,16.63,17.37,16.92,17.28,16.13],\n",
    "    [12.08,10.54,11.75,9.72,11.03,8.41,11.5,9.18,11.57,9.5,11.62,11.02,11.38,9.576],\n",
    "    [7.19,5.01,6.49,3.73,5.64,2.43,5.87,2.66,5.6,2.22,5.98,4.93,5.94,3.34],\n",
    "    [3.88,0.29,2.86,-1.46,2,-2.65,1.69,-3.49,1.15,-4.66,1.99,0.144,2.26,-1.89]  \n",
    "]"
   ]
  },
  {
   "cell_type": "code",
   "execution_count": null,
   "metadata": {
    "ExecuteTime": {
     "end_time": "2020-11-19T17:26:11.123548Z",
     "start_time": "2020-11-19T17:25:23.312Z"
    }
   },
   "outputs": [],
   "source": []
  },
  {
   "cell_type": "code",
   "execution_count": null,
   "metadata": {
    "ExecuteTime": {
     "start_time": "2020-11-19T17:25:23.315Z"
    }
   },
   "outputs": [],
   "source": []
  },
  {
   "cell_type": "markdown",
   "metadata": {},
   "source": [
    "IMporte nach Quartal vll mit CO2 als zweite achse drüberlegen"
   ]
  },
  {
   "cell_type": "code",
   "execution_count": null,
   "metadata": {
    "ExecuteTime": {
     "end_time": "2021-01-15T10:39:42.829502Z",
     "start_time": "2021-01-15T10:36:19.739Z"
    }
   },
   "outputs": [],
   "source": [
    "fig, ax = plt.subplots(1, figsize=(10,5))\n",
    "\n",
    "\n"
   ]
  },
  {
   "cell_type": "code",
   "execution_count": null,
   "metadata": {
    "ExecuteTime": {
     "end_time": "2020-11-17T11:21:29.963982Z",
     "start_time": "2020-11-17T11:21:28.268964Z"
    }
   },
   "outputs": [],
   "source": []
  },
  {
   "cell_type": "code",
   "execution_count": null,
   "metadata": {
    "ExecuteTime": {
     "end_time": "2021-01-15T10:39:42.830499Z",
     "start_time": "2021-01-15T10:36:19.748Z"
    },
    "scrolled": true
   },
   "outputs": [],
   "source": [
    "fig, ax = plt.subplots(1, figsize=(10,5))\n",
    "#2018: 5.114677 PJ Erzeugt Solar\n",
    "#2030: 53,4 PJ Solar\n",
    "#10.44 facher Ausbau\n",
    "\n",
    "\n",
    "#2018: 23.02685 PJ Erzeugt Wind\n",
    "#2030: 62,7 PJ Wind PJ Erzeugt Wind\n",
    "#2,72 facher Ausbau\n",
    "\n",
    "\n",
    "#2018: 108.040392 PJ Erzeugt Wasser\n",
    "#2030: 153,8 PJ Erzeugt Wasser\n",
    "#1,42 facher ausbau\n",
    "\n",
    "\n",
    "PJ_to_GWH = 277.778 #GWh/PJ\n",
    "li_Production = [\"power_production_biomass_avg\",\"power_production_coal_avg\",\"power_production_gas_avg\",\n",
    "            \"power_production_hydro_avg\",\"power_production_nuclear_avg\",\"power_production_oil_avg\",\n",
    "            \"power_production_solar_avg\",\"power_production_wind_avg\",\"power_production_geothermal_avg\",\n",
    "            \"power_production_unknown_avg\"]\n",
    "\n",
    "\n",
    "#Für Testzwecke nur mal das erste Jahr übertragen\n",
    "df_GWH = pd.DataFrame(df_2018[\"power_production_solar_avg\"].iloc[0:8759])\n",
    "\n",
    "\n",
    "test = pd.DataFrame(df_2018[\"power_production_solar_avg\"].iloc[0:8759])\n",
    "test = test.divide((PJ_to_GWH*1000))   #.round()\n",
    "\n",
    "df_GWH = df_GWH.divide((PJ_to_GWH*1000))   #.round()\n",
    "#df_GWH.multiply(10.44)\n",
    "df_GWH[\"power_production_solar_avg\"] = df_GWH[\"power_production_solar_avg\"] * 10.44\n",
    "print(\"Summe 2030: \",df_GWH[\"power_production_solar_avg\"].sum() )\n",
    "\n",
    "print(df_GWH[\"power_production_solar_avg\"].iloc[1000])\n",
    "print(test[\"power_production_solar_avg\"].iloc[1000])\n",
    "\n",
    "test[\"power_production_solar_avg\"].resample(\"W\").mean().plot()\n",
    "df_GWH[\"power_production_solar_avg\"].resample(\"W\").mean().plot()\n",
    "ax.legend(loc=\"upper left\", bbox_to_anchor=(1,1))\n",
    "\n",
    "plt.tight_layout()"
   ]
  },
  {
   "cell_type": "code",
   "execution_count": null,
   "metadata": {
    "ExecuteTime": {
     "end_time": "2021-01-15T10:39:42.832494Z",
     "start_time": "2021-01-15T10:36:19.754Z"
    }
   },
   "outputs": [],
   "source": [
    "df_2018.info(verbose = True)"
   ]
  },
  {
   "cell_type": "code",
   "execution_count": null,
   "metadata": {
    "ExecuteTime": {
     "end_time": "2020-12-06T19:02:28.690981Z",
     "start_time": "2020-12-06T19:02:28.675993Z"
    },
    "code_folding": [],
    "hide_input": false
   },
   "outputs": [],
   "source": [
    "\n",
    "\n"
   ]
  },
  {
   "cell_type": "code",
   "execution_count": null,
   "metadata": {
    "ExecuteTime": {
     "end_time": "2020-10-21T07:14:04.388760Z",
     "start_time": "2020-10-21T07:14:04.335903Z"
    }
   },
   "outputs": [],
   "source": []
  },
  {
   "cell_type": "code",
   "execution_count": null,
   "metadata": {
    "ExecuteTime": {
     "end_time": "2020-10-21T07:14:04.441620Z",
     "start_time": "2020-10-21T07:14:04.389759Z"
    },
    "hide_input": false
   },
   "outputs": [],
   "source": []
  },
  {
   "cell_type": "code",
   "execution_count": null,
   "metadata": {
    "hide_input": false
   },
   "outputs": [],
   "source": [
    "\n",
    "\n",
    "\n",
    "\n"
   ]
  },
  {
   "cell_type": "code",
   "execution_count": null,
   "metadata": {
    "ExecuteTime": {
     "end_time": "2020-10-16T07:54:53.893988Z",
     "start_time": "2020-10-16T07:54:53.762339Z"
    }
   },
   "outputs": [],
   "source": [
    "\n"
   ]
  },
  {
   "cell_type": "code",
   "execution_count": null,
   "metadata": {
    "ExecuteTime": {
     "end_time": "2020-10-16T07:54:53.979758Z",
     "start_time": "2020-10-16T07:54:53.896981Z"
    }
   },
   "outputs": [],
   "source": []
  },
  {
   "cell_type": "code",
   "execution_count": null,
   "metadata": {},
   "outputs": [],
   "source": [
    "\n"
   ]
  },
  {
   "cell_type": "code",
   "execution_count": null,
   "metadata": {
    "ExecuteTime": {
     "end_time": "2020-11-02T15:03:07.302422Z",
     "start_time": "2020-11-02T15:03:07.296439Z"
    }
   },
   "outputs": [],
   "source": [
    "\n"
   ]
  },
  {
   "cell_type": "code",
   "execution_count": null,
   "metadata": {
    "ExecuteTime": {
     "end_time": "2020-10-21T07:57:59.304232Z",
     "start_time": "2020-10-21T07:57:59.286293Z"
    }
   },
   "outputs": [],
   "source": []
  },
  {
   "cell_type": "code",
   "execution_count": null,
   "metadata": {
    "hide_input": false
   },
   "outputs": [],
   "source": []
  },
  {
   "cell_type": "code",
   "execution_count": null,
   "metadata": {
    "ExecuteTime": {
     "end_time": "2020-10-21T07:14:05.126347Z",
     "start_time": "2020-10-21T07:14:04.481514Z"
    }
   },
   "outputs": [],
   "source": []
  },
  {
   "cell_type": "code",
   "execution_count": null,
   "metadata": {},
   "outputs": [],
   "source": []
  },
  {
   "cell_type": "code",
   "execution_count": null,
   "metadata": {
    "ExecuteTime": {
     "end_time": "2020-10-21T07:14:05.128340Z",
     "start_time": "2020-10-21T07:13:11.550Z"
    }
   },
   "outputs": [],
   "source": []
  },
  {
   "cell_type": "code",
   "execution_count": null,
   "metadata": {
    "ExecuteTime": {
     "end_time": "2020-10-16T07:55:23.726232Z",
     "start_time": "2020-10-16T07:55:23.717256Z"
    }
   },
   "outputs": [],
   "source": []
  },
  {
   "cell_type": "code",
   "execution_count": null,
   "metadata": {
    "ExecuteTime": {
     "end_time": "2020-10-21T07:14:05.130337Z",
     "start_time": "2020-10-21T07:13:11.554Z"
    }
   },
   "outputs": [],
   "source": []
  },
  {
   "cell_type": "code",
   "execution_count": null,
   "metadata": {
    "ExecuteTime": {
     "end_time": "2020-10-18T15:57:10.009534Z",
     "start_time": "2020-10-18T15:56:07.165Z"
    }
   },
   "outputs": [],
   "source": []
  },
  {
   "cell_type": "code",
   "execution_count": null,
   "metadata": {
    "ExecuteTime": {
     "end_time": "2020-10-18T15:57:10.010531Z",
     "start_time": "2020-10-18T15:56:07.169Z"
    },
    "hide_input": false
   },
   "outputs": [],
   "source": [
    "\n",
    "    "
   ]
  },
  {
   "cell_type": "code",
   "execution_count": null,
   "metadata": {
    "ExecuteTime": {
     "end_time": "2020-10-18T15:57:10.012526Z",
     "start_time": "2020-10-18T15:56:07.174Z"
    }
   },
   "outputs": [],
   "source": []
  },
  {
   "cell_type": "code",
   "execution_count": null,
   "metadata": {
    "ExecuteTime": {
     "end_time": "2020-10-18T15:57:10.013527Z",
     "start_time": "2020-10-18T15:56:07.177Z"
    }
   },
   "outputs": [],
   "source": []
  },
  {
   "cell_type": "code",
   "execution_count": null,
   "metadata": {
    "ExecuteTime": {
     "end_time": "2020-10-21T07:58:11.231272Z",
     "start_time": "2020-10-21T07:58:11.190381Z"
    }
   },
   "outputs": [],
   "source": []
  },
  {
   "cell_type": "code",
   "execution_count": null,
   "metadata": {
    "ExecuteTime": {
     "end_time": "2021-01-15T10:39:42.833492Z",
     "start_time": "2021-01-15T10:36:19.849Z"
    }
   },
   "outputs": [],
   "source": [
    "#plt.close('all')\n"
   ]
  },
  {
   "cell_type": "code",
   "execution_count": null,
   "metadata": {
    "ExecuteTime": {
     "end_time": "2020-10-18T15:57:10.016516Z",
     "start_time": "2020-10-18T15:56:07.186Z"
    }
   },
   "outputs": [],
   "source": []
  },
  {
   "cell_type": "code",
   "execution_count": null,
   "metadata": {
    "ExecuteTime": {
     "end_time": "2020-11-01T20:09:10.971487Z",
     "start_time": "2020-11-01T20:08:07.903Z"
    },
    "hide_input": false
   },
   "outputs": [],
   "source": []
  }
 ],
 "metadata": {
  "_draft": {
   "nbviewer_url": "https://gist.github.com/00d4f47fb54338c936344657998ed316"
  },
  "gist": {
   "data": {
    "description": "CO2-Emissionen-Analyse_BCH",
    "public": false
   },
   "id": "00d4f47fb54338c936344657998ed316"
  },
  "kernelspec": {
   "display_name": "Python 3",
   "language": "python",
   "name": "python3"
  },
  "language_info": {
   "codemirror_mode": {
    "name": "ipython",
    "version": 3
   },
   "file_extension": ".py",
   "mimetype": "text/x-python",
   "name": "python",
   "nbconvert_exporter": "python",
   "pygments_lexer": "ipython3",
   "version": "3.8.3"
  },
  "toc": {
   "base_numbering": 1,
   "nav_menu": {
    "height": "64px",
    "width": "160px"
   },
   "number_sections": true,
   "sideBar": true,
   "skip_h1_title": false,
   "title_cell": "Table of Contents",
   "title_sidebar": "Contents",
   "toc_cell": true,
   "toc_position": {
    "height": "calc(100% - 180px)",
    "left": "10px",
    "top": "150px",
    "width": "165px"
   },
   "toc_section_display": true,
   "toc_window_display": true
  },
  "widgets": {
   "application/vnd.jupyter.widget-state+json": {
    "state": {},
    "version_major": 2,
    "version_minor": 0
   }
  }
 },
 "nbformat": 4,
 "nbformat_minor": 4
}
